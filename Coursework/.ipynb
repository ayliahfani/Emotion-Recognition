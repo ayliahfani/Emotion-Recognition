{
 "cells": [
  {
   "cell_type": "markdown",
   "id": "bulgarian-stake",
   "metadata": {},
   "source": [
    "\n",
    "# Neural Computing Coursework: MLP vs. SVM\n",
    "## Ayliah Fani\n",
    "___\n",
    "___"
   ]
  },
  {
   "cell_type": "markdown",
   "id": "different-behalf",
   "metadata": {
    "tags": []
   },
   "source": [
    "## Table of Contents\n",
    "* [1. Data Import](#data-import)\n",
    "* [2. Exploratory Data Analysis](#EDA)\n",
    "    * [2.1 Emotion Representation](#ER)\n",
    "    * [2.2 Sentence Length](#SL)\n",
    "* [3. Feature Engineering](#FE)\n",
    "    * [3.1 Text Preparation & Cleaning](#TP)\n",
    "    * [3.2 Encoding](#E)\n",
    "    * [3.3 Train-Test Split](#TTS)\n",
    "    * [3.4 Text Representation](#TR)\n",
    "* [4. Model Building](#MB)\n",
    "    * [4.1 Base Model](#BM)\n",
    "    * [4.2 Support Vector Machine](#SVM)\n",
    "        * [4.2.1 Model Building](#MB-SVM)\n",
    "        * [4.2.2 Train & Evaluate](#TE-SVM)\n",
    "        * [4.2.3 Hyperparameter Optimisation](#HO-SVM)\n",
    "        * [4.2.4 Fit & Performance](#FP-SVM)\n",
    "    * [4.3 Multilayer Perceptron](#MLP)\n",
    "        * [4.3.1 Model Building](#MB-MLP)\n",
    "        * [4.3.2 Train & Evaluate](#TE-MLP)\n",
    "        * [4.3.2 Hyperparameter Optimisation](#HO-MLP)\n",
    "        * [4.3.3 Fit & Performance](#FP-MLP)\n",
    "   "
   ]
  },
  {
   "cell_type": "code",
   "execution_count": 1005,
   "id": "unavailable-packet",
   "metadata": {},
   "outputs": [],
   "source": [
    "# import libraries\n",
    "from pprint import pprint\n",
    "import time\n",
    "\n",
    "import pandas as pd\n",
    "import numpy as np\n",
    "import scipy\n",
    "import matplotlib.pyplot as plt\n",
    "import matplotlib\n",
    "import seaborn as sns\n",
    "sns.set_style(\"whitegrid\")\n",
    "#sns.set_palette(\"hls\")\n",
    "sns.set_context(\"notebook\")\n",
    "\n",
    "import nltk\n",
    "from nltk.corpus import stopwords\n",
    "from nltk.stem import WordNetLemmatizer\n",
    "from nltk import pos_tag\n",
    "from nltk.tokenize import WhitespaceTokenizer\n",
    "from nltk.corpus import wordnet\n",
    "\n",
    "import string\n",
    "from collections import Counter\n",
    "\n",
    "import torch\n",
    "import torch.nn as nn\n",
    "import torch.nn.functional as F\n",
    "import torch.optim as optim\n",
    "\n",
    "import sklearn\n",
    "from sklearn.feature_selection import chi2\n",
    "from sklearn.experimental import enable_halving_search_cv\n",
    "from sklearn.svm import SVC\n",
    "from sklearn.metrics import confusion_matrix, plot_confusion_matrix, auc, accuracy_score, roc_curve, roc_auc_score, classification_report\n",
    "from sklearn.feature_extraction.text import TfidfVectorizer\n",
    "from sklearn.model_selection import train_test_split, RandomizedSearchCV, HalvingRandomSearchCV, GridSearchCV, cross_val_score, ShuffleSplit\n",
    "from sklearn.linear_model import LogisticRegression\n",
    "from sklearn.multiclass import OneVsRestClassifier\n",
    "from sklearn.preprocessing import label_binarize\n",
    "\n",
    "import skorch\n",
    "from skorch import NeuralNetClassifier\n",
    "from skorch.callbacks import EpochScoring, EarlyStopping, Checkpoint\n",
    "\n",
    "import pickle\n",
    "from platform import python_version"
   ]
  },
  {
   "cell_type": "code",
   "execution_count": 963,
   "id": "comic-billy",
   "metadata": {},
   "outputs": [
    {
     "name": "stdout",
     "output_type": "stream",
     "text": [
      "Python:  3.8.2\n",
      "sklearn: 0.24.1\n",
      "pandas:  1.2.0\n",
      "numpy: 1.19.2\n",
      "seaborn: 0.11.1\n",
      "scipy: 1.6.1\n",
      "matplotlib: 3.3.4\n",
      "nltk: 3.5\n",
      "skorch: 0.9.0\n"
     ]
    }
   ],
   "source": [
    "print('Python: ',python_version())\n",
    "print('sklearn:', sklearn.__version__)\n",
    "print('pandas: ', pd.__version__)\n",
    "print('numpy:', np.__version__)\n",
    "print('seaborn:', sns.__version__)\n",
    "print('scipy:', scipy.__version__)\n",
    "print('matplotlib:', matplotlib.__version__)\n",
    "print('nltk:',nltk.__version__)\n",
    "print('skorch:', skorch.__version__)"
   ]
  },
  {
   "cell_type": "code",
   "execution_count": null,
   "id": "medieval-emphasis",
   "metadata": {},
   "outputs": [],
   "source": [
    "# Import the final MLP\n",
    "#final_MLP = pickle.load(open('Final MLP Model', 'rb'))\n",
    "\n",
    "# Import the final SVM model\n",
    "#final_svc = pickle.load(open('Final SVM Model', 'rb))"
   ]
  },
  {
   "cell_type": "markdown",
   "id": "detailed-monster",
   "metadata": {},
   "source": [
    " ## 1. Data Import <a class=\"anchor\" id=\"data-import\"></a>\n",
    "___"
   ]
  },
  {
   "cell_type": "code",
   "execution_count": 696,
   "id": "competent-employee",
   "metadata": {
    "tags": []
   },
   "outputs": [
    {
     "data": {
      "text/plain": [
       "(20000, 2)"
      ]
     },
     "execution_count": 696,
     "metadata": {},
     "output_type": "execute_result"
    }
   ],
   "source": [
    "\"\"\"\n",
    "data from:\n",
    "https://www.kaggle.com/praveengovi/emotions-dataset-for-nlp\n",
    "\"\"\"\n",
    "\n",
    "# import the data\n",
    "df_test = pd.read_csv('Data/Emotions/test.txt', sep=',', delimiter=';', header=None, names=['sentence','emotion'])\n",
    "df_train = pd.read_csv('Data/Emotions/train.txt', sep=',', delimiter=';', header=None, names=['sentence','emotion'])\n",
    "df_val = pd.read_csv('Data/Emotions/val.txt', sep=',', delimiter=';', header=None, names=['sentence','emotion'])\n",
    "\n",
    "# concatenate into one dataframe\n",
    "df = pd.concat([df_test, df_train, df_val])\n",
    "df = df.reset_index(drop=True)\n",
    "df.shape"
   ]
  },
  {
   "cell_type": "markdown",
   "id": "polar-generic",
   "metadata": {},
   "source": [
    "## 2. Exploratory Data Analysis <a class=\"anchor\" id=\"EDA\"></a>\n",
    "___"
   ]
  },
  {
   "cell_type": "markdown",
   "id": "iraqi-annotation",
   "metadata": {},
   "source": [
    "### 2.1 Emotion Representation <a class=\"anchor\" id=\"ER\"></a>"
   ]
  },
  {
   "cell_type": "code",
   "execution_count": 697,
   "id": "polished-breathing",
   "metadata": {
    "tags": []
   },
   "outputs": [
    {
     "data": {
      "image/png": "[encoded data removed]",
      "text/plain": [
       "<Figure size 648x432 with 1 Axes>"
      ]
     },
     "metadata": {},
     "output_type": "display_data"
    }
   ],
   "source": [
    "# find the count of each emotion represented.\n",
    "plt.figure(figsize=(9,6))\n",
    "sns.countplot(x='emotion', data=df).set_title('Count of Each Emotion Present');"
   ]
  },
  {
   "cell_type": "code",
   "execution_count": 698,
   "id": "younger-particle",
   "metadata": {},
   "outputs": [
    {
     "name": "stdout",
     "output_type": "stream",
     "text": [
      "COUNT OF EACH EMOTION:\n"
     ]
    },
    {
     "data": {
      "text/plain": [
       "joy         6761\n",
       "sadness     5797\n",
       "anger       2709\n",
       "fear        2373\n",
       "love        1641\n",
       "surprise     719\n",
       "Name: emotion, dtype: int64"
      ]
     },
     "execution_count": 698,
     "metadata": {},
     "output_type": "execute_result"
    }
   ],
   "source": [
    "print(\"COUNT OF EACH EMOTION:\")\n",
    "df['emotion'].value_counts()"
   ]
  },
  {
   "cell_type": "markdown",
   "id": "sublime-college",
   "metadata": {},
   "source": [
    "From the count plot we can see that this is an imbalanced classification problem."
   ]
  },
  {
   "cell_type": "markdown",
   "id": "amateur-piece",
   "metadata": {},
   "source": [
    "### 2.2 Sentence Length <a class=\"anchor\" id=\"SL\"></a>"
   ]
  },
  {
   "cell_type": "code",
   "execution_count": 699,
   "id": "expanded-commission",
   "metadata": {
    "tags": []
   },
   "outputs": [
    {
     "name": "stderr",
     "output_type": "stream",
     "text": [
      "/Users/Ayliah/opt/anaconda3/lib/python3.8/site-packages/seaborn/distributions.py:2557: FutureWarning: `distplot` is a deprecated function and will be removed in a future version. Please adapt your code to use either `displot` (a figure-level function with similar flexibility) or `histplot` (an axes-level function for histograms).\n",
      "  warnings.warn(msg, FutureWarning)\n"
     ]
    },
    {
     "data": {
      "image/png": "[encoded data removed]",
      "text/plain": [
       "<Figure size 921.6x432 with 1 Axes>"
      ]
     },
     "metadata": {},
     "output_type": "display_data"
    }
   ],
   "source": [
    "# find distribution of sentence lengths in the data\n",
    "sentence_length = df['sentence'].str.len()\n",
    "plt.figure(figsize=(12.8,6))\n",
    "sns.distplot(sentence_length, kde=True, color='#1f77b4')\n",
    "plt.xlabel('Sentence Length');"
   ]
  },
  {
   "cell_type": "markdown",
   "id": "detected-probability",
   "metadata": {},
   "source": [
    "most sentences are ~40-70 characters"
   ]
  },
  {
   "cell_type": "code",
   "execution_count": 700,
   "id": "respected-walnut",
   "metadata": {
    "tags": []
   },
   "outputs": [
    {
     "data": {
      "text/plain": [
       "count    20000.000000\n",
       "mean        96.670050\n",
       "std         55.777923\n",
       "min          7.000000\n",
       "25%         53.000000\n",
       "50%         86.000000\n",
       "75%        129.000000\n",
       "max        300.000000\n",
       "Name: sentence, dtype: float64"
      ]
     },
     "execution_count": 700,
     "metadata": {},
     "output_type": "execute_result"
    }
   ],
   "source": [
    "# basic stats about sentence length\n",
    "sentence_length.describe()"
   ]
  },
  {
   "cell_type": "code",
   "execution_count": 701,
   "id": "stylish-booking",
   "metadata": {
    "tags": []
   },
   "outputs": [
    {
     "data": {
      "image/png": "[encoded data removed]",
      "text/plain": [
       "<Figure size 576x432 with 1 Axes>"
      ]
     },
     "metadata": {},
     "output_type": "display_data"
    }
   ],
   "source": [
    "# box plot of sentence length distribution for each emotion\n",
    "df['sentence_length'] = sentence_length\n",
    "\n",
    "plt.figure(figsize=(8,6))\n",
    "sns.boxplot(data=df, x='emotion', y='sentence_length');"
   ]
  },
  {
   "cell_type": "markdown",
   "id": "covered-exception",
   "metadata": {},
   "source": [
    "sentences of each emotion are generally the same length, so that does not need to be taken into acccount for the classification task"
   ]
  },
  {
   "cell_type": "code",
   "execution_count": 975,
   "id": "tested-protocol",
   "metadata": {},
   "outputs": [
    {
     "data": {
      "text/html": [
       "<div>\n",
       "<style scoped>\n",
       "    .dataframe tbody tr th:only-of-type {\n",
       "        vertical-align: middle;\n",
       "    }\n",
       "\n",
       "    .dataframe tbody tr th {\n",
       "        vertical-align: top;\n",
       "    }\n",
       "\n",
       "    .dataframe thead th {\n",
       "        text-align: right;\n",
       "    }\n",
       "</style>\n",
       "<table border=\"1\" class=\"dataframe\">\n",
       "  <thead>\n",
       "    <tr style=\"text-align: right;\">\n",
       "      <th></th>\n",
       "      <th>sentence_length</th>\n",
       "    </tr>\n",
       "    <tr>\n",
       "      <th>emotion</th>\n",
       "      <th></th>\n",
       "    </tr>\n",
       "  </thead>\n",
       "  <tbody>\n",
       "    <tr>\n",
       "      <th>0.0</th>\n",
       "      <td>92.776264</td>\n",
       "    </tr>\n",
       "    <tr>\n",
       "      <th>1.0</th>\n",
       "      <td>98.109008</td>\n",
       "    </tr>\n",
       "    <tr>\n",
       "      <th>2.0</th>\n",
       "      <td>95.666667</td>\n",
       "    </tr>\n",
       "    <tr>\n",
       "      <th>3.0</th>\n",
       "      <td>97.047988</td>\n",
       "    </tr>\n",
       "    <tr>\n",
       "      <th>4.0</th>\n",
       "      <td>103.778793</td>\n",
       "    </tr>\n",
       "    <tr>\n",
       "      <th>5.0</th>\n",
       "      <td>100.196106</td>\n",
       "    </tr>\n",
       "  </tbody>\n",
       "</table>\n",
       "</div>"
      ],
      "text/plain": [
       "         sentence_length\n",
       "emotion                 \n",
       "0.0            92.776264\n",
       "1.0            98.109008\n",
       "2.0            95.666667\n",
       "3.0            97.047988\n",
       "4.0           103.778793\n",
       "5.0           100.196106"
      ]
     },
     "execution_count": 975,
     "metadata": {},
     "output_type": "execute_result"
    }
   ],
   "source": [
    "# average sentence length for each emotion\n",
    "avg_sentence = df.melt(id_vars='sentence_length').groupby(df.emotion).mean()\n",
    "avg_sentence"
   ]
  },
  {
   "cell_type": "markdown",
   "id": "textile-powder",
   "metadata": {},
   "source": [
    "\n",
    "## 3. Feature Engineering <a class=\"anchor\" id=\"FE\"></a>\n",
    "___"
   ]
  },
  {
   "cell_type": "markdown",
   "id": "fossil-canadian",
   "metadata": {},
   "source": [
    "### 3.1 Text Prep & Cleaning <a class=\"anchor\" id=\"TP\"></a>"
   ]
  },
  {
   "cell_type": "code",
   "execution_count": 703,
   "id": "republican-formation",
   "metadata": {},
   "outputs": [
    {
     "name": "stdout",
     "output_type": "stream",
     "text": [
      "number of unique words prior to cleaning:  17096\n"
     ]
    }
   ],
   "source": [
    "# find the number of unique words in the dataframe\n",
    "dictionary1 = list(df['sentence'].str.split(' ', expand=True).stack().unique())\n",
    "print(\"number of unique words prior to cleaning: \", len(dictionary1))"
   ]
  },
  {
   "cell_type": "code",
   "execution_count": 704,
   "id": "useful-phone",
   "metadata": {},
   "outputs": [],
   "source": [
    "# define stop words\n",
    "stop_words = stopwords.words('english')\n",
    "stop_words.extend(['im','ive','https','href'])"
   ]
  },
  {
   "cell_type": "code",
   "execution_count": 705,
   "id": "labeled-gentleman",
   "metadata": {
    "tags": []
   },
   "outputs": [],
   "source": [
    "# method adapted from: https://towardsdatascience.com/detecting-bad-customer-reviews-with-nlp-d8b36134dc7e\n",
    "\n",
    "# part-of-speech tagging for more accurate lemmitisation\n",
    "def get_wordnet_pos(pos_tag):\n",
    "    if pos_tag.startswith('J'):\n",
    "        return wordnet.ADJ\n",
    "    elif pos_tag.startswith('V'):\n",
    "        return wordnet.VERB\n",
    "    elif pos_tag.startswith('N'):\n",
    "        return wordnet.NOUN\n",
    "    elif pos_tag.startswith('R'):\n",
    "        return wordnet.ADV\n",
    "    else:\n",
    "        return wordnet.VERB\n",
    "    \n",
    "\n",
    "def clean_text(text):\n",
    "    # lower text\n",
    "    text = text.lower()\n",
    "    # tokenise text and remove puncutation\n",
    "    text = [word.strip(string.punctuation) for word in text.split(\" \")]\n",
    "    # remove words that contain numbers\n",
    "    text = [word for word in text if not any(c.isdigit() for c in word)]\n",
    "    # remove stop words\n",
    "    text = [x for x in text if x not in stop_words]\n",
    "    # remove empty tokens\n",
    "    text = [t for t in text if len(t) > 0]\n",
    "    # pos tag text\n",
    "    pos_tags = pos_tag(text)\n",
    "    # lemmatise text\n",
    "    text = [WordNetLemmatizer().lemmatize(t[0], get_wordnet_pos(t[1])) for t in pos_tags]\n",
    "    # there are still some errors after lemmatising 'feeling' so do it again\n",
    "    text = [WordNetLemmatizer().lemmatize(t, pos='v') for t in text]\n",
    "    # remove words with only one letter\n",
    "    text = [t for t in text if len(t) > 1]\n",
    "    # join all\n",
    "    text = \" \".join(text)\n",
    "    return(text)\n",
    "\n",
    "# clean text data\n",
    "df[\"sentence\"] = df[\"sentence\"].apply(lambda x: clean_text(x))"
   ]
  },
  {
   "cell_type": "markdown",
   "id": "antique-pattern",
   "metadata": {},
   "source": [
    "### 3.2 Encoding <a class=\"anchor\" id=\"E\"></a>"
   ]
  },
  {
   "cell_type": "code",
   "execution_count": 706,
   "id": "thermal-insured",
   "metadata": {
    "tags": []
   },
   "outputs": [],
   "source": [
    "# replace categories with integer value\n",
    "emotion_dict = {'sadness':0, 'joy':1, 'fear':2, 'anger':3, 'love':4, 'surprise':5}\n",
    "df['emotion'] = df['emotion'].map(emotion_dict)"
   ]
  },
  {
   "cell_type": "markdown",
   "id": "horizontal-israeli",
   "metadata": {},
   "source": [
    "### 3.3 Train-Test Split <a class=\"anchor\" id=\"TTS\"></a>"
   ]
  },
  {
   "cell_type": "code",
   "execution_count": 707,
   "id": "artistic-democrat",
   "metadata": {
    "tags": []
   },
   "outputs": [],
   "source": [
    "# split the data into a train and test set\n",
    "X_train, X_test, y_train, y_test = train_test_split(df['sentence'], \n",
    "                                                    df['emotion'], \n",
    "                                                    test_size=0.2,\n",
    "                                                    stratify= df['emotion'],\n",
    "                                                    random_state=0)"
   ]
  },
  {
   "cell_type": "markdown",
   "id": "reliable-underwear",
   "metadata": {},
   "source": [
    "### 3.4 Text Representation <a class=\"anchor\" id=\"TR\"></a>"
   ]
  },
  {
   "cell_type": "code",
   "execution_count": 708,
   "id": "compliant-leone",
   "metadata": {
    "tags": []
   },
   "outputs": [],
   "source": [
    "\"\"\" \n",
    "term frequency–inverse document frequency reflects how important a word is to a document in a collection or corpus\n",
    "\"\"\"\n",
    "\n",
    "# TF-IDF parameters\n",
    "ngram_range = (1,2) \n",
    "min_df = 1\n",
    "max_df = 1.0\n",
    "max_features = 2000"
   ]
  },
  {
   "cell_type": "code",
   "execution_count": 709,
   "id": "fitted-ancient",
   "metadata": {
    "tags": []
   },
   "outputs": [
    {
     "name": "stdout",
     "output_type": "stream",
     "text": [
      "(16000, 2000)\n",
      "(4000, 2000)\n"
     ]
    }
   ],
   "source": [
    "# create TF-IDF vectoriser\n",
    "tfidf = TfidfVectorizer(ngram_range=ngram_range,\n",
    "                        lowercase=False,\n",
    "                        max_df=max_df,\n",
    "                        min_df=min_df,\n",
    "                        max_features=max_features,\n",
    "                        norm='l2',\n",
    "                        sublinear_tf=True)\n",
    "                        \n",
    "#vectorise train and test sets\n",
    "features_train = tfidf.fit_transform(X_train)\n",
    "labels_train = y_train\n",
    "print(features_train.shape)\n",
    "\n",
    "features_test = tfidf.transform(X_test)\n",
    "labels_test = y_test\n",
    "print(features_test.shape)"
   ]
  },
  {
   "cell_type": "code",
   "execution_count": 710,
   "id": "considered-gateway",
   "metadata": {
    "tags": []
   },
   "outputs": [
    {
     "name": "stdout",
     "output_type": "stream",
     "text": [
      "-- 'anger' category:\n",
      "  . Most correlated words:\n",
      ". piss\n",
      ". dangerous\n",
      ". insult\n",
      ". dissatisfy\n",
      ". violent\n",
      ". cranky\n",
      ". bitchy\n",
      ". irritable\n",
      ". resentful\n",
      ". greedy\n",
      "  . Most correlated bigrams:\n",
      ". feel greedy\n",
      ". feel resentful\n",
      "\n",
      "-- 'fear' category:\n",
      "  . Most correlated words:\n",
      ". reluctant\n",
      ". shaky\n",
      ". unsure\n",
      ". scar\n",
      ". anxious\n",
      ". nervous\n",
      ". apprehensive\n",
      ". insecure\n",
      ". vulnerable\n",
      ". terrify\n",
      "  . Most correlated bigrams:\n",
      ". feel nervous\n",
      ". feel insecure\n",
      "\n",
      "-- 'joy' category:\n",
      "  . Most correlated words:\n",
      ". festive\n",
      ". resolve\n",
      ". successful\n",
      ". rich\n",
      ". useful\n",
      ". divine\n",
      ". energetic\n",
      ". confident\n",
      ". talented\n",
      ". content\n",
      "  . Most correlated bigrams:\n",
      ". feel well\n",
      ". feel content\n",
      "\n",
      "-- 'love' category:\n",
      "  . Most correlated words:\n",
      ". delicate\n",
      ". gentle\n",
      ". tender\n",
      ". supportive\n",
      ". fond\n",
      ". naughty\n",
      ". loyal\n",
      ". horny\n",
      ". nostalgic\n",
      ". sympathetic\n",
      "  . Most correlated bigrams:\n",
      ". feel sympathetic\n",
      ". feel love\n",
      "\n",
      "-- 'sadness' category:\n",
      "  . Most correlated words:\n",
      ". humiliate\n",
      ". shitty\n",
      ". ashamed\n",
      ". homesick\n",
      ". dull\n",
      ". discourage\n",
      ". miserable\n",
      ". exhaust\n",
      ". gloomy\n",
      ". punish\n",
      "  . Most correlated bigrams:\n",
      ". feel discourage\n",
      ". feel sorry\n",
      "\n",
      "-- 'surprise' category:\n",
      "  . Most correlated words:\n",
      ". strange\n",
      ". weird\n",
      ". stun\n",
      ". surprise\n",
      ". shock\n",
      ". daze\n",
      ". funny\n",
      ". curious\n",
      ". amaze\n",
      ". impress\n",
      "  . Most correlated bigrams:\n",
      ". feel funny\n",
      ". feel amaze\n",
      "\n"
     ]
    }
   ],
   "source": [
    "# Find the most prevalent words in each emotion category\n",
    "for emotion, emotion_id in sorted(emotion_dict.items()):\n",
    "    features_chi2 = chi2(features_train, labels_train == emotion_id)\n",
    "    indices = np.argsort(features_chi2[0])\n",
    "    feature_names = np.array(tfidf.get_feature_names())[indices]\n",
    "    unigrams = [v for v in feature_names if len(v.split(' ')) == 1]\n",
    "    bigrams = [v for v in feature_names if len(v.split(' ')) == 2]\n",
    "    print(\"-- '{}' category:\".format(emotion))\n",
    "    print(\"  . Most correlated words:\\n. {}\".format('\\n. '.join(unigrams[-10:])))\n",
    "    print(\"  . Most correlated bigrams:\\n. {}\".format('\\n. '.join(bigrams[-2:])))\n",
    "    print(\"\")"
   ]
  },
  {
   "cell_type": "code",
   "execution_count": 711,
   "id": "behind-luxury",
   "metadata": {},
   "outputs": [
    {
     "name": "stdout",
     "output_type": "stream",
     "text": [
      "number of unique words:  12838\n"
     ]
    }
   ],
   "source": [
    "# see how many words have been removed after cleaning\n",
    "dictionary = list(df['sentence'].str.split(' ', expand=True).stack().unique())\n",
    "print(\"number of unique words: \", len(dictionary))"
   ]
  },
  {
   "cell_type": "markdown",
   "id": "political-jamaica",
   "metadata": {},
   "source": [
    "## 4. Model Building <a class=\"anchor\" id=\"MB\"></a>\n",
    "___"
   ]
  },
  {
   "cell_type": "markdown",
   "id": "curious-content",
   "metadata": {
    "tags": []
   },
   "source": [
    "### 4.1 BASE MODEL <a class=\"anchor\" id=\"BM\"></a>\n",
    "use a logistic regression base model to find the best number of features to use, and to compare model performace to the base"
   ]
  },
  {
   "cell_type": "code",
   "execution_count": 714,
   "id": "abroad-generic",
   "metadata": {
    "tags": []
   },
   "outputs": [
    {
     "name": "stdout",
     "output_type": "stream",
     "text": [
      "LR score with 100 features: 0.359\n",
      "LR score with 300 features: 0.44675\n",
      "LR score with 500 features: 0.61\n",
      "LR score with 800 features: 0.7925\n",
      "LR score with 1000 features: 0.82675\n",
      "LR score with 2000 features: 0.8795\n",
      "LR score with 3000 features: 0.8775\n",
      "LR score with 5000 features: 0.87725\n",
      "LR score with 7000 features: 0.87525\n",
      "LR score with 10000 features: 0.8735\n"
     ]
    }
   ],
   "source": [
    "# TF-IDF parameters\n",
    "ngram_range = (1,2)\n",
    "min_df = 1\n",
    "max_df = 1.0\n",
    "max_features = [100, 300, 500, 800, 1000, 2000, 3000, 5000, 7000, 10000]\n",
    "\n",
    "for i in max_features:\n",
    "    tfidf = TfidfVectorizer(ngram_range=ngram_range,\n",
    "                            lowercase=False,\n",
    "                            max_df=max_df,\n",
    "                            min_df=min_df,\n",
    "                            max_features=i,\n",
    "                            norm='l2',\n",
    "                            sublinear_tf=True)\n",
    "    features_train = tfidf.fit_transform(X_train)\n",
    "    labels_train = y_train\n",
    "    features_test = tfidf.transform(X_test)\n",
    "    labels_test = y_test\n",
    "    # train logistic regression base model at each max_features\n",
    "    lr_classifier = LogisticRegression(random_state=0, max_iter=1000)\n",
    "    lr_classifier.fit(features_train, labels_train)\n",
    "    print(\"LR score with {} features:\".format(i), lr_classifier.score(features_test, labels_test))"
   ]
  },
  {
   "cell_type": "markdown",
   "id": "oriental-reply",
   "metadata": {
    "tags": []
   },
   "source": [
    "**3000 features** seems to yield the best results, higher values don't add a significant amount of additional accuracy, but are computationally expensive. Therefore 3000 features will be used. "
   ]
  },
  {
   "cell_type": "code",
   "execution_count": 715,
   "id": "hawaiian-penetration",
   "metadata": {
    "tags": []
   },
   "outputs": [],
   "source": [
    "# TF-IDF with the desired max_features found above\n",
    "ngram_range = (1,2)\n",
    "min_df = 1\n",
    "max_df = 1.0\n",
    "max_features = 2000\n",
    "\n",
    "tfidf = TfidfVectorizer(ngram_range=ngram_range,\n",
    "                        lowercase=False,\n",
    "                        max_df=max_df,\n",
    "                        min_df=min_df,\n",
    "                        max_features=max_features,\n",
    "                        norm='l2',\n",
    "                        sublinear_tf=True)\n",
    "                        \n",
    "features_train = tfidf.fit_transform(X_train)\n",
    "labels_train = y_train\n",
    "\n",
    "features_test = tfidf.transform(X_test)\n",
    "labels_test = y_test"
   ]
  },
  {
   "cell_type": "markdown",
   "id": "brave-disposal",
   "metadata": {},
   "source": [
    "**EXPORT FILES FOR LATER**"
   ]
  },
  {
   "cell_type": "code",
   "execution_count": 983,
   "id": "vocal-substitute",
   "metadata": {},
   "outputs": [],
   "source": [
    "# df\n",
    "with open('Pickles/df.pickle', 'wb') as output:\n",
    "    pickle.dump(df, output)\n",
    "    \n",
    "# features_train\n",
    "with open('Pickles/features_train.pickle', 'wb') as output:\n",
    "    pickle.dump(features_train, output)\n",
    "\n",
    "# labels_train\n",
    "with open('Pickles/labels_train.pickle', 'wb') as output:\n",
    "    pickle.dump(labels_train, output)\n",
    "\n",
    "# features_test\n",
    "with open('Pickles/features_test.pickle', 'wb') as output:\n",
    "    pickle.dump(features_test, output)\n",
    "\n",
    "# labels_test\n",
    "with open('Pickles/labels_test.pickle', 'wb') as output:\n",
    "    pickle.dump(labels_test, output)\n",
    "    \n",
    "# TF-IDF object\n",
    "with open('Pickles/tfidf.pickle', 'wb') as output:\n",
    "    pickle.dump(tfidf, output)"
   ]
  },
  {
   "cell_type": "markdown",
   "id": "decreased-indication",
   "metadata": {},
   "source": [
    "___\n",
    "### **4.2 SUPPORT VECTOR MACHINE** <a class=\"anchor\" id=\"SVM\"></a>"
   ]
  },
  {
   "cell_type": "markdown",
   "id": "expressed-geometry",
   "metadata": {},
   "source": [
    "#### 4.2.1 Build the Model <a class=\"anchor\" id=\"MB-SVM\"></a>\n",
    "**BASE SVM**"
   ]
  },
  {
   "cell_type": "code",
   "execution_count": 716,
   "id": "opposed-siemens",
   "metadata": {},
   "outputs": [],
   "source": [
    "#Create the SVM model\n",
    "svc_base = OneVsRestClassifier(SVC(random_state = 0))"
   ]
  },
  {
   "cell_type": "markdown",
   "id": "korean-madrid",
   "metadata": {},
   "source": [
    "#### 4.2.2 Train & Evaluate <a class=\"anchor\" id=\"TE-SVM\"></a>"
   ]
  },
  {
   "cell_type": "code",
   "execution_count": 717,
   "id": "central-mountain",
   "metadata": {
    "tags": []
   },
   "outputs": [],
   "source": [
    "#Fit the model for the data\n",
    "svc_base.fit(features_train, labels_train)\n",
    "\n",
    "#Make the prediction\n",
    "y_pred_base = svc_base.predict(features_test)"
   ]
  },
  {
   "cell_type": "code",
   "execution_count": 718,
   "id": "built-newman",
   "metadata": {
    "tags": []
   },
   "outputs": [
    {
     "name": "stdout",
     "output_type": "stream",
     "text": [
      "The accuracy of the base SVM is:  0.879\n"
     ]
    }
   ],
   "source": [
    "print('The accuracy of the base SVM is: ', svc_base.score(features_test, labels_test))"
   ]
  },
  {
   "cell_type": "code",
   "execution_count": 976,
   "id": "periodic-bathroom",
   "metadata": {
    "tags": []
   },
   "outputs": [
    {
     "data": {
      "image/png": "[encoded data removed]",
      "text/plain": [
       "<Figure size 432x288 with 2 Axes>"
      ]
     },
     "metadata": {},
     "output_type": "display_data"
    }
   ],
   "source": [
    "# create confusion matrix\n",
    "cm = confusion_matrix(labels_test, y_pred_base)\n",
    "\n",
    "# Normalise\n",
    "cmn = cm.astype('float') / cm.sum(axis=1)[:, np.newaxis]\n",
    "\n",
    "# plot\n",
    "fig, ax = plt.subplots(figsize=(6,4))\n",
    "sns.heatmap(cmn, \n",
    "            annot=True, \n",
    "            fmt='.2f', \n",
    "            xticklabels=emotion_dict, \n",
    "            yticklabels=emotion_dict, \n",
    "            cmap='Blues')\n",
    "plt.title('Base SVM Confusion Matrix')\n",
    "plt.ylabel('Actual')\n",
    "plt.xlabel('Predicted')\n",
    "plt.show()"
   ]
  },
  {
   "cell_type": "code",
   "execution_count": 720,
   "id": "identified-yesterday",
   "metadata": {
    "tags": []
   },
   "outputs": [
    {
     "name": "stdout",
     "output_type": "stream",
     "text": [
      "Accuracy: 87.91 %\n"
     ]
    }
   ],
   "source": [
    "accuracies = cross_val_score(estimator = svc_base, X = features_train, y = labels_train, cv = 3);\n",
    "print(\"Accuracy: {:.2f} %\".format(accuracies.mean()*100))"
   ]
  },
  {
   "cell_type": "markdown",
   "id": "royal-carroll",
   "metadata": {},
   "source": [
    "#### 4.2.2 Hyperparameter Optimisation <a class=\"anchor\" id=\"HO-SVM\"></a>"
   ]
  },
  {
   "cell_type": "markdown",
   "id": "contained-greek",
   "metadata": {},
   "source": [
    "SVC hyperparameters to be tuned:\n",
    "* C, Regularization parameter\n",
    "* kernel, Specifies the kernel type to be used in the algorithm\n",
    "* degree, Degree of the polynomial kernel function\n",
    "* gamma, Kernel coefficient for ‘rbf’, ‘poly’ and ‘sigmoid’.\n",
    "\n",
    "https://scikit-learn.org/stable/modules/grid_search.html\n",
    "\n",
    "First we will use RandomSearchCV since the run time is significantly lower than GridSearchCV. Once there is a general idea of what hyperparameters to use GridSearchCV will be used"
   ]
  },
  {
   "cell_type": "code",
   "execution_count": 419,
   "id": "arabic-appendix",
   "metadata": {
    "tags": []
   },
   "outputs": [
    {
     "data": {
      "text/plain": [
       "{'estimator__C': 1.0,\n",
       " 'estimator__break_ties': False,\n",
       " 'estimator__cache_size': 200,\n",
       " 'estimator__class_weight': None,\n",
       " 'estimator__coef0': 0.0,\n",
       " 'estimator__decision_function_shape': 'ovr',\n",
       " 'estimator__degree': 3,\n",
       " 'estimator__gamma': 'scale',\n",
       " 'estimator__kernel': 'rbf',\n",
       " 'estimator__max_iter': -1,\n",
       " 'estimator__probability': False,\n",
       " 'estimator__random_state': 0,\n",
       " 'estimator__shrinking': True,\n",
       " 'estimator__tol': 0.001,\n",
       " 'estimator__verbose': False,\n",
       " 'estimator': SVC(random_state=0),\n",
       " 'n_jobs': None}"
      ]
     },
     "execution_count": 419,
     "metadata": {},
     "output_type": "execute_result"
    }
   ],
   "source": [
    "# find out the hyperparameters currently in use\n",
    "svc_base.get_params()"
   ]
  },
  {
   "cell_type": "markdown",
   "id": "played-turning",
   "metadata": {},
   "source": [
    "**RandomSearchCV:**"
   ]
  },
  {
   "cell_type": "code",
   "execution_count": 721,
   "id": "weighted-officer",
   "metadata": {
    "tags": []
   },
   "outputs": [],
   "source": [
    "## DEFINE THE GRID ###########################################\n",
    "\n",
    "# C\n",
    "C = np.linspace(1,100, 30)\n",
    "\n",
    "# gamma\n",
    "gamma = [0.001,0.01, 0.1, 1]\n",
    "\n",
    "# degree\n",
    "degree = [1, 2, 3, 4, 5]\n",
    "\n",
    "# kernel\n",
    "kernel = ['linear', 'rbf', 'poly']\n",
    "\n",
    "# probability\n",
    "probability = [True, False]"
   ]
  },
  {
   "cell_type": "code",
   "execution_count": 722,
   "id": "electronic-particular",
   "metadata": {
    "tags": []
   },
   "outputs": [],
   "source": [
    "# SVC random grid\n",
    "random_grid = {'C': C,\n",
    "              'kernel': kernel,\n",
    "              'gamma': gamma,\n",
    "              'degree': degree,\n",
    "              'probability': probability\n",
    "             }\n",
    "\n",
    "# OneVsRest SVC Random Grid\n",
    "ovrrandom_grid = {'estimator__C': C,\n",
    "              'estimator__kernel': kernel,\n",
    "              'estimator__gamma': gamma,\n",
    "              'estimator__degree': degree,\n",
    "              'estimator__probability': probability\n",
    "             }"
   ]
  },
  {
   "cell_type": "code",
   "execution_count": 723,
   "id": "surface-symbol",
   "metadata": {
    "tags": []
   },
   "outputs": [
    {
     "name": "stdout",
     "output_type": "stream",
     "text": [
      "Fitting 3 folds for each of 30 candidates, totalling 90 fits\n"
     ]
    },
    {
     "data": {
      "text/plain": [
       "RandomizedSearchCV(cv=3,\n",
       "                   estimator=OneVsRestClassifier(estimator=SVC(random_state=0)),\n",
       "                   n_iter=30, n_jobs=-1,\n",
       "                   param_distributions={'estimator__C': array([  1.        ,   4.4137931 ,   7.82758621,  11.24137931,\n",
       "        14.65517241,  18.06896552,  21.48275862,  24.89655172,\n",
       "        28.31034483,  31.72413793,  35.13793103,  38.55172414,\n",
       "        41.96551724,  45.37931034,  48.79310345,  52.20689655,\n",
       "        55.62068966,  59.03448276,  62.44827586,  65.86206897,\n",
       "        69.27586207,  72.68965517,  76.10344828,  79.51724138,\n",
       "        82.93103448,  86.34482759,  89.75862069,  93.17241379,\n",
       "        96.5862069 , 100.        ]),\n",
       "                                        'estimator__degree': [1, 2, 3, 4, 5],\n",
       "                                        'estimator__gamma': [0.001, 0.01, 0.1,\n",
       "                                                             1],\n",
       "                                        'estimator__kernel': ['linear', 'rbf',\n",
       "                                                              'poly'],\n",
       "                                        'estimator__probability': [True,\n",
       "                                                                   False]},\n",
       "                   random_state=0, scoring='accuracy', verbose=3)"
      ]
     },
     "execution_count": 723,
     "metadata": {},
     "output_type": "execute_result"
    }
   ],
   "source": [
    "## RANDOM SEARCH ###########################################\n",
    "\n",
    "# First create the base model to tune\n",
    "#svc = SVC(random_state=0)\n",
    "svc = OneVsRestClassifier(SVC(random_state=0))\n",
    "\n",
    "# Define the random search\n",
    "n_iter_search = 30\n",
    "random_search = RandomizedSearchCV(estimator=svc,\n",
    "                                   param_distributions=ovrrandom_grid,\n",
    "                                   n_iter=n_iter_search,\n",
    "                                   scoring='accuracy',\n",
    "                                   cv=3, \n",
    "                                   verbose=3, \n",
    "                                   random_state=0, \n",
    "                                   n_jobs=-1,\n",
    "                                   refit=True)\n",
    "\n",
    "# Fit the random search model\n",
    "random_search.fit(features_train, labels_train)"
   ]
  },
  {
   "cell_type": "code",
   "execution_count": 724,
   "id": "enclosed-tennis",
   "metadata": {
    "tags": []
   },
   "outputs": [
    {
     "name": "stdout",
     "output_type": "stream",
     "text": [
      "\n",
      "The best hyperparameters from Random Search are:\n",
      "{'estimator__probability': True, 'estimator__kernel': 'rbf', 'estimator__gamma': 0.01, 'estimator__degree': 4, 'estimator__C': 59.03448275862069}\n",
      "\n",
      "The mean accuracy of a model with these hyperparameters is:\n",
      "0.8830000928301364\n"
     ]
    }
   ],
   "source": [
    "print(\"\")\n",
    "print(\"The best hyperparameters from Random Search are:\")\n",
    "print(random_search.best_params_)\n",
    "print(\"\")\n",
    "print(\"The mean accuracy of a model with these hyperparameters is:\")\n",
    "print(random_search.best_score_)"
   ]
  },
  {
   "cell_type": "markdown",
   "id": "continuing-jungle",
   "metadata": {
    "tags": []
   },
   "source": [
    "\n",
    "**GridSearchCV:**\n",
    "\n",
    "now that we have a general idea of where to look we can narrow it down with grid search"
   ]
  },
  {
   "cell_type": "code",
   "execution_count": 725,
   "id": "greater-festival",
   "metadata": {
    "tags": []
   },
   "outputs": [
    {
     "name": "stdout",
     "output_type": "stream",
     "text": [
      "Fitting 3 folds for each of 260 candidates, totalling 780 fits\n"
     ]
    },
    {
     "data": {
      "text/plain": [
       "GridSearchCV(cv=ShuffleSplit(n_splits=3, random_state=0, test_size=0.2, train_size=None),\n",
       "             estimator=OneVsRestClassifier(estimator=SVC(random_state=0)),\n",
       "             n_jobs=-1,\n",
       "             param_grid=[{'estimator__C': array([45.        , 47.22222222, 49.44444444, 51.66666667, 53.88888889,\n",
       "       56.11111111, 58.33333333, 60.55555556, 62.77777778, 65.        ]),\n",
       "                          'estimator__kernel': ['linear'],\n",
       "                          'estimator__probabili...\n",
       "                          'estimator__gamma': [0.001, 0.01, 0.1],\n",
       "                          'estimator__kernel': ['poly'],\n",
       "                          'estimator__probability': [True, False]},\n",
       "                         {'estimator__C': array([45.        , 47.22222222, 49.44444444, 51.66666667, 53.88888889,\n",
       "       56.11111111, 58.33333333, 60.55555556, 62.77777778, 65.        ]),\n",
       "                          'estimator__gamma': [0.001, 0.01, 0.1],\n",
       "                          'estimator__kernel': ['rbf'],\n",
       "                          'estimator__probability': [True, False]}],\n",
       "             scoring='accuracy', verbose=3)"
      ]
     },
     "execution_count": 725,
     "metadata": {},
     "output_type": "execute_result"
    }
   ],
   "source": [
    "## DEFINE THE GRID ########################################\n",
    "\n",
    "\n",
    "#C = np.linspace(45,65, 10)\n",
    "#gamma = [0.001,0.01, 0.1]\n",
    "#degree = [4,5,6,7]\n",
    "#probability = [True, False]\n",
    "#kernel = ['rbf']\n",
    "\n",
    "\n",
    "C = np.linspace(45,65, 10)\n",
    "degree = [3, 4, 5]\n",
    "gamma = [0.001, 0.01, 0.1]\n",
    "probability = [True, False]\n",
    "\n",
    "#param_grid = {'estimator__C': C,\n",
    "#              'estimator__kernel': kernel,\n",
    "#              'estimator__gamma': gamma,\n",
    "#              'estimator__degree': degree,\n",
    "#              'estimator__probability': probability\n",
    "#             }\n",
    "\n",
    "\n",
    "param_grid = [\n",
    "  {'estimator__C': C, 'estimator__kernel':['linear'], 'estimator__probability':probability},\n",
    "  {'estimator__C': C, 'estimator__kernel':['poly'], 'estimator__gamma':gamma,'estimator__degree':degree, 'estimator__probability':probability},\n",
    "  {'estimator__C': C, 'estimator__kernel':['rbf'], 'estimator__gamma':gamma, 'estimator__probability':probability}\n",
    "]\n",
    "\n",
    "\n",
    "## GRID SEARCH ###########################################\n",
    "\n",
    "# First create the base model to tune\n",
    "svc = OneVsRestClassifier(SVC(random_state=0))\n",
    "\n",
    "# Manually create the splits in CV in order to be able to fix a random_state (GridSearchCV doesn't have that argument)\n",
    "cv_sets = ShuffleSplit(n_splits = 3, test_size = .20, random_state = 0)\n",
    "\n",
    "# Define the grid search\n",
    "grid_search = GridSearchCV(estimator=svc,\n",
    "                                   param_grid=param_grid,\n",
    "                                   scoring='accuracy',\n",
    "                                   cv=cv_sets, \n",
    "                                   verbose=3,  \n",
    "                                   n_jobs=-1,\n",
    "                                   refit=True)\n",
    "\n",
    "# Fit the random search model\n",
    "grid_search.fit(features_train, labels_train)"
   ]
  },
  {
   "cell_type": "code",
   "execution_count": 731,
   "id": "timely-costs",
   "metadata": {
    "tags": []
   },
   "outputs": [
    {
     "name": "stdout",
     "output_type": "stream",
     "text": [
      "\n",
      "The best hyperparameters from Random Search are:\n",
      "{'estimator__C': 53.888888888888886, 'estimator__gamma': 0.01, 'estimator__kernel': 'rbf', 'estimator__probability': True}\n",
      "\n",
      "The mean accuracy of a model with these hyperparameters is:\n",
      "0.8872916666666667\n"
     ]
    }
   ],
   "source": [
    "print(\"\")\n",
    "print(\"The best hyperparameters from Random Search are:\")\n",
    "print(grid_search.best_params_)\n",
    "print(\"\")\n",
    "print(\"The mean accuracy of a model with these hyperparameters is:\")\n",
    "print(grid_search.best_score_)"
   ]
  },
  {
   "cell_type": "code",
   "execution_count": 732,
   "id": "affected-institute",
   "metadata": {
    "tags": []
   },
   "outputs": [
    {
     "data": {
      "text/plain": [
       "OneVsRestClassifier(estimator=SVC(C=53.888888888888886, gamma=0.01,\n",
       "                                  probability=True, random_state=0))"
      ]
     },
     "execution_count": 732,
     "metadata": {},
     "output_type": "execute_result"
    }
   ],
   "source": [
    "final_svc = grid_search.best_estimator_\n",
    "final_svc"
   ]
  },
  {
   "cell_type": "markdown",
   "id": "square-library",
   "metadata": {},
   "source": [
    "**GRID SEARCH RESULTS & EXPORT**"
   ]
  },
  {
   "cell_type": "code",
   "execution_count": 728,
   "id": "double-herald",
   "metadata": {},
   "outputs": [],
   "source": [
    "SVM_gs_results = pd.DataFrame.from_dict(grid_search.cv_results_)\n",
    "SVM_gs_results.to_excel(\"SVM GS Results.xlsx\")  "
   ]
  },
  {
   "cell_type": "markdown",
   "id": "painted-professional",
   "metadata": {},
   "source": [
    "#### 4.2.3 Fit & Performance <a class=\"anchor\" id=\"FP-SVM\"></a>"
   ]
  },
  {
   "cell_type": "code",
   "execution_count": 1001,
   "id": "atlantic-affiliation",
   "metadata": {
    "tags": []
   },
   "outputs": [],
   "source": [
    "final_svc = OneVsRestClassifier(SVC(C=50, gamma=0.01,\n",
    "                                  probability=True, random_state=0))"
   ]
  },
  {
   "cell_type": "code",
   "execution_count": 1006,
   "id": "sought-titanium",
   "metadata": {
    "tags": []
   },
   "outputs": [
    {
     "name": "stdout",
     "output_type": "stream",
     "text": [
      "Training time:  247.88838481903076\n"
     ]
    }
   ],
   "source": [
    "# fit the final SVM Model and find training time\n",
    "\n",
    "t = time.time()\n",
    "final_svc.fit(features_train, labels_train)\n",
    "elapsed = time.time() - t\n",
    "\n",
    "print(\"Training time: \", elapsed)"
   ]
  },
  {
   "cell_type": "code",
   "execution_count": 1003,
   "id": "useful-treaty",
   "metadata": {},
   "outputs": [],
   "source": [
    "# Export the final trained SVM model\n",
    "with open('Models/final_svc.pickle', 'wb') as output:\n",
    "    pickle.dump(final_svc, output)"
   ]
  },
  {
   "cell_type": "markdown",
   "id": "hispanic-invasion",
   "metadata": {},
   "source": [
    "**Training Accuracy**"
   ]
  },
  {
   "cell_type": "code",
   "execution_count": 512,
   "id": "approximate-approval",
   "metadata": {
    "tags": []
   },
   "outputs": [
    {
     "name": "stdout",
     "output_type": "stream",
     "text": [
      "The training accuracy is:  0.9284375\n"
     ]
    }
   ],
   "source": [
    "# Training accuracy\n",
    "svm_train_ac = accuracy_score(labels_train, final_svc.predict(features_train))\n",
    "print(\"The training accuracy is: \", svm_train_ac)"
   ]
  },
  {
   "cell_type": "markdown",
   "id": "referenced-salad",
   "metadata": {},
   "source": [
    "**Test Accuracy**"
   ]
  },
  {
   "cell_type": "code",
   "execution_count": 1011,
   "id": "retained-newspaper",
   "metadata": {
    "tags": []
   },
   "outputs": [
    {
     "name": "stdout",
     "output_type": "stream",
     "text": [
      "Prediction time:  7.378368139266968\n"
     ]
    }
   ],
   "source": [
    "# Make predictions and time the process\n",
    "t = time.time()\n",
    "final_svc_pred = final_svc.predict(features_test)\n",
    "elapsed = time.time() - t\n",
    "\n",
    "print(\"Prediction time: \", elapsed)"
   ]
  },
  {
   "cell_type": "code",
   "execution_count": 488,
   "id": "indie-surfing",
   "metadata": {
    "tags": []
   },
   "outputs": [
    {
     "name": "stdout",
     "output_type": "stream",
     "text": [
      "The test accuracy is:  0.8825\n"
     ]
    }
   ],
   "source": [
    "# Test accuracy\n",
    "svm_test_ac =  accuracy_score(labels_test, final_svc_pred)\n",
    "print(\"The test accuracy is: \", svm_test_ac)"
   ]
  },
  {
   "cell_type": "code",
   "execution_count": 918,
   "id": "pharmaceutical-participant",
   "metadata": {
    "tags": []
   },
   "outputs": [
    {
     "name": "stdout",
     "output_type": "stream",
     "text": [
      "The cross validated accuracy is:  [0.88226472 0.88430527 0.88149259]\n"
     ]
    }
   ],
   "source": [
    "# cross validated accuracy\n",
    "print('The cross validated accuracy is: ', cross_val_score(final_svc, features_train, labels_train, cv=3))"
   ]
  },
  {
   "cell_type": "markdown",
   "id": "split-worry",
   "metadata": {},
   "source": [
    "**Classification Report**"
   ]
  },
  {
   "cell_type": "code",
   "execution_count": 455,
   "id": "likely-conviction",
   "metadata": {
    "tags": []
   },
   "outputs": [
    {
     "name": "stdout",
     "output_type": "stream",
     "text": [
      "Classification report\n",
      "              precision    recall  f1-score   support\n",
      "\n",
      "     sadness       0.90      0.94      0.92      1159\n",
      "         joy       0.88      0.92      0.90      1352\n",
      "        fear       0.85      0.86      0.85       475\n",
      "       anger       0.90      0.85      0.88       542\n",
      "        love       0.84      0.70      0.76       328\n",
      "    surprise       0.81      0.67      0.73       144\n",
      "\n",
      "    accuracy                           0.88      4000\n",
      "   macro avg       0.86      0.82      0.84      4000\n",
      "weighted avg       0.88      0.88      0.88      4000\n",
      "\n"
     ]
    }
   ],
   "source": [
    "# Classification report\n",
    "print(\"Classification report\")\n",
    "print(classification_report(labels_test,final_svc_pred, target_names=emotion_dict))"
   ]
  },
  {
   "cell_type": "markdown",
   "id": "reserved-powell",
   "metadata": {},
   "source": [
    "**Confusion Matrix**"
   ]
  },
  {
   "cell_type": "code",
   "execution_count": 456,
   "id": "completed-mambo",
   "metadata": {
    "tags": []
   },
   "outputs": [
    {
     "data": {
      "image/png": "[encoded data removed]",
      "text/plain": [
       "<Figure size 576x432 with 2 Axes>"
      ]
     },
     "metadata": {},
     "output_type": "display_data"
    }
   ],
   "source": [
    "# create confusion matrix\n",
    "cm_svc_final = confusion_matrix(labels_test, final_svc_pred)\n",
    "\n",
    "# Normalise\n",
    "cmn_svc_final = cm_svc_final.astype('float') / cm_svc_final.sum(axis=1)[:, np.newaxis]\n",
    "\n",
    "# plot\n",
    "fig, ax = plt.subplots(figsize=(8,6))\n",
    "sns.heatmap(cmn_svc_final, \n",
    "            annot=True, \n",
    "            fmt='.2f', \n",
    "            xticklabels=emotion_dict, \n",
    "            yticklabels=emotion_dict, \n",
    "            cmap='Blues')\n",
    "plt.title('Final SVM Confusion Matrix')\n",
    "plt.ylabel('Actual')\n",
    "plt.xlabel('Predicted')\n",
    "plt.show()"
   ]
  },
  {
   "cell_type": "code",
   "execution_count": 457,
   "id": "subsequent-capitol",
   "metadata": {
    "tags": []
   },
   "outputs": [
    {
     "data": {
      "text/plain": [
       "0.879"
      ]
     },
     "execution_count": 457,
     "metadata": {},
     "output_type": "execute_result"
    }
   ],
   "source": [
    "accuracy_score(labels_test, svc_base.predict(features_test))"
   ]
  },
  {
   "cell_type": "code",
   "execution_count": 458,
   "id": "approximate-madness",
   "metadata": {
    "tags": []
   },
   "outputs": [
    {
     "data": {
      "text/plain": [
       "0.8825"
      ]
     },
     "execution_count": 458,
     "metadata": {},
     "output_type": "execute_result"
    }
   ],
   "source": [
    "accuracy_score(labels_test, final_svc.predict(features_test))"
   ]
  },
  {
   "cell_type": "markdown",
   "id": "intermediate-there",
   "metadata": {},
   "source": [
    "___\n",
    "### **4.3 MULTI-LAYER PERCEPTRON** <a class=\"anchor\" id=\"MLP\"></a>"
   ]
  },
  {
   "cell_type": "markdown",
   "id": "atomic-asian",
   "metadata": {},
   "source": [
    "**PREP**\n",
    "\n",
    "convert tidf matrix into pytorch float type tensor for MLP"
   ]
  },
  {
   "cell_type": "code",
   "execution_count": 990,
   "id": "proud-philip",
   "metadata": {},
   "outputs": [],
   "source": [
    "x_train = torch.tensor(scipy.sparse.csr_matrix.todense(features_train)).float()\n",
    "x_test = torch.tensor(scipy.sparse.csr_matrix.todense(features_test)).float()"
   ]
  },
  {
   "cell_type": "markdown",
   "id": "bored-venezuela",
   "metadata": {},
   "source": [
    "Convert labels into pytorch tensor"
   ]
  },
  {
   "cell_type": "code",
   "execution_count": 991,
   "id": "governmental-sewing",
   "metadata": {},
   "outputs": [],
   "source": [
    "y_train = torch.tensor(labels_train.values)\n",
    "y_test = torch.tensor(labels_test.values)"
   ]
  },
  {
   "cell_type": "markdown",
   "id": "automated-morocco",
   "metadata": {},
   "source": [
    "Export the train and test sets:"
   ]
  },
  {
   "cell_type": "code",
   "execution_count": 992,
   "id": "prompt-awareness",
   "metadata": {},
   "outputs": [],
   "source": [
    "# x_train\n",
    "with open('Pickles/x_train.pickle', 'wb') as output:\n",
    "    pickle.dump(x_train, output)\n",
    "\n",
    "# y_train\n",
    "with open('Pickles/y_train.pickle', 'wb') as output:\n",
    "    pickle.dump(y_train, output)\n",
    "\n",
    "# x_test\n",
    "with open('Pickles/x_test.pickle', 'wb') as output:\n",
    "    pickle.dump(x_test, output)\n",
    "\n",
    "# y_test\n",
    "with open('Pickles/y_test.pickle', 'wb') as output:\n",
    "    pickle.dump(y_test, output)"
   ]
  },
  {
   "cell_type": "markdown",
   "id": "dressed-basics",
   "metadata": {},
   "source": [
    "#### 4.3.1 Build the Model <a class=\"anchor\" id=\"MB-MLP\"></a>\n",
    "**BASE MLP:**\n",
    "For multiclass classification, the model needs one node for each class in the output layer and use the softmax activation function."
   ]
  },
  {
   "cell_type": "code",
   "execution_count": 744,
   "id": "electoral-andrew",
   "metadata": {},
   "outputs": [],
   "source": [
    "# Network parameters\n",
    "hidden_size = 100               # 1st layer and 2nd layer number of features\n",
    "input_size = x_train.shape[1]   # Words in vocab\n",
    "num_classes = 6                 # Categories: sadness, joy, fear, anger, love, surprise\n",
    "dropout = 0.5\n",
    "activation = F.relu             # try ReLu, SeLu, RReLU"
   ]
  },
  {
   "cell_type": "code",
   "execution_count": 745,
   "id": "arbitrary-columbus",
   "metadata": {},
   "outputs": [],
   "source": [
    "class MLP(nn.Module):\n",
    "     def __init__(\n",
    "         self, \n",
    "         input_size = input_size, \n",
    "         hidden_size = hidden_size, \n",
    "         output_size = num_classes, \n",
    "         dropout = dropout,\n",
    "         activation = activation\n",
    "     ):\n",
    "            \n",
    "        super(MLP, self).__init__()\n",
    "        self.dropout = nn.Dropout(dropout)\n",
    "        self.activation = activation\n",
    "        \n",
    "        self.fc1 = nn.Linear(input_size, hidden_size)\n",
    "        self.fc2 = nn.Linear(hidden_size, hidden_size)\n",
    "        #self.fc3 = nn.Linear(hidden_size, hidden_size)\n",
    "        self.output = nn.Linear(hidden_size, num_classes)\n",
    " \n",
    "     def forward(self, x):\n",
    "        x = self.activation(self.fc1(x))\n",
    "        x = self.dropout(x)\n",
    "        x = self.activation(self.fc2(x))\n",
    "        x = self.dropout(x)\n",
    "        #x = self.activation(self.fc3(x))\n",
    "        x = F.softmax(self.output(x), dim=-1)\n",
    "\n",
    "        return x"
   ]
  },
  {
   "cell_type": "markdown",
   "id": "environmental-transportation",
   "metadata": {},
   "source": [
    "#### 4.3.2 Train & Evaluate <a class=\"anchor\" id=\"TE-MLP\"></a>"
   ]
  },
  {
   "cell_type": "code",
   "execution_count": 908,
   "id": "cosmetic-balance",
   "metadata": {
    "tags": []
   },
   "outputs": [],
   "source": [
    "\"\"\"\n",
    "DEFAULT TRAINING PARAMETERS:\n",
    "    epochs: 10\n",
    "    learning rate: 0.01\n",
    "    batch size: 128\n",
    "    optimiser: NLLLoss\n",
    "    criterion: SGD\n",
    "\"\"\"\n",
    "\n",
    "#optimizer = optim.Adam\n",
    "criterion = nn.CrossEntropyLoss\n",
    "\n",
    "# Callbacks\n",
    "balanced_accuracy = EpochScoring(scoring='balanced_accuracy', lower_is_better=False)\n",
    "accuracy = EpochScoring(scoring='accuracy', lower_is_better=False)\n",
    "early_stopping = EarlyStopping(monitor='valid_loss', patience=10, lower_is_better=True)\n",
    "checkpoint = Checkpoint(monitor=['train_loss', 'valid_loss'])"
   ]
  },
  {
   "cell_type": "markdown",
   "id": "latest-meaning",
   "metadata": {},
   "source": [
    "Don't change hyperparameters from default so we can experiment with how many layers to have and where to apply dropout"
   ]
  },
  {
   "cell_type": "code",
   "execution_count": 342,
   "id": "colored-space",
   "metadata": {
    "tags": []
   },
   "outputs": [
    {
     "name": "stdout",
     "output_type": "stream",
     "text": [
      "  epoch    accuracy    balanced_accuracy    train_loss    valid_acc    valid_loss     dur\n",
      "-------  ----------  -------------------  ------------  -----------  ------------  ------\n",
      "      1      \u001b[36m0.7163\u001b[0m               \u001b[32m0.4790\u001b[0m        \u001b[35m1.5047\u001b[0m       \u001b[31m0.7163\u001b[0m        \u001b[94m1.3358\u001b[0m  1.6137\n",
      "      2      \u001b[36m0.7963\u001b[0m               \u001b[32m0.5807\u001b[0m        \u001b[35m1.2937\u001b[0m       \u001b[31m0.7963\u001b[0m        \u001b[94m1.2427\u001b[0m  1.1890\n",
      "      3      \u001b[36m0.8009\u001b[0m               \u001b[32m0.5897\u001b[0m        \u001b[35m1.2363\u001b[0m       \u001b[31m0.8009\u001b[0m        \u001b[94m1.2365\u001b[0m  1.3363\n",
      "      4      \u001b[36m0.8447\u001b[0m               \u001b[32m0.6727\u001b[0m        \u001b[35m1.2143\u001b[0m       \u001b[31m0.8447\u001b[0m        \u001b[94m1.1977\u001b[0m  1.1727\n",
      "      5      \u001b[36m0.8506\u001b[0m               \u001b[32m0.6850\u001b[0m        \u001b[35m1.1912\u001b[0m       \u001b[31m0.8506\u001b[0m        \u001b[94m1.1901\u001b[0m  1.4265\n",
      "      6      0.8488               \u001b[32m0.6958\u001b[0m        \u001b[35m1.1805\u001b[0m       0.8488        1.1925  0.9765\n",
      "      7      0.8472               \u001b[32m0.7015\u001b[0m        \u001b[35m1.1697\u001b[0m       0.8472        1.1942  0.9052\n",
      "      8      \u001b[36m0.8550\u001b[0m               \u001b[32m0.7035\u001b[0m        \u001b[35m1.1664\u001b[0m       \u001b[31m0.8550\u001b[0m        \u001b[94m1.1879\u001b[0m  0.9139\n",
      "      9      0.8488               0.6956        \u001b[35m1.1595\u001b[0m       0.8488        1.1930  0.9289\n",
      "     10      0.8484               0.6863        \u001b[35m1.1586\u001b[0m       0.8484        1.1940  0.9112\n"
     ]
    }
   ],
   "source": [
    "torch.manual_seed(0)\n",
    "\n",
    "net = NeuralNetClassifier(\n",
    "    MLP,\n",
    "    max_epochs = 10,\n",
    "    optimizer = optimizer,\n",
    "    criterion = criterion,\n",
    "    lr = 0.01,\n",
    "    iterator_train__shuffle = True, \n",
    "    callbacks = [balanced_accuracy, accuracy, early_stopping]\n",
    ")\n",
    "\n",
    "net.fit(x_train,y_train);"
   ]
  },
  {
   "cell_type": "markdown",
   "id": "collaborative-prospect",
   "metadata": {},
   "source": [
    "**NOTES:** from simple modification of the model, it looks like 3 layers works best. Drop out was added to increase performance on the test set"
   ]
  },
  {
   "cell_type": "markdown",
   "id": "unavailable-kelly",
   "metadata": {},
   "source": [
    "#### 4.3.3 Hyperparameter Optimisation <a class=\"anchor\" id=\"HO-MLP\"></a>"
   ]
  },
  {
   "cell_type": "code",
   "execution_count": 750,
   "id": "revised-failure",
   "metadata": {
    "tags": []
   },
   "outputs": [],
   "source": [
    "# redefine the model with undefined hyperparameters for use with GridSearchCV\n",
    "net = NeuralNetClassifier(\n",
    "    MLP,\n",
    "    criterion = criterion,\n",
    "    iterator_train__shuffle = True, \n",
    "    callbacks = [early_stopping]\n",
    ")"
   ]
  },
  {
   "cell_type": "markdown",
   "id": "another-aging",
   "metadata": {},
   "source": [
    "**RANDOM GRID SEARCH**"
   ]
  },
  {
   "cell_type": "code",
   "execution_count": 751,
   "id": "congressional-element",
   "metadata": {
    "tags": []
   },
   "outputs": [
    {
     "name": "stdout",
     "output_type": "stream",
     "text": [
      "Fitting 3 folds for each of 10 candidates, totalling 30 fits\n"
     ]
    }
   ],
   "source": [
    "net.set_params(verbose=0)\n",
    "params = {\n",
    "    'lr': [0.0001,0.001, 0.01],\n",
    "    'batch_size':[128,256,512],\n",
    "    'optimizer':[optim.Adam, optim.SGD],\n",
    "    'max_epochs': [400], # figure out the best number of epochs later with early stopping\n",
    "    'module__hidden_size': [50,100,200],\n",
    "    'module__dropout': [0.1, 0.5],\n",
    "    'module__activation':[F.relu, F.selu, F.leaky_relu]\n",
    "}\n",
    "\n",
    "MLP_rs= RandomizedSearchCV(net, \n",
    "                           params, \n",
    "                           refit=False, \n",
    "                           cv=3, \n",
    "                           scoring='accuracy', \n",
    "                           verbose=1)\n",
    "\n",
    "MLP_rs.fit(x_train, y_train);"
   ]
  },
  {
   "cell_type": "code",
   "execution_count": 346,
   "id": "veterinary-nylon",
   "metadata": {},
   "outputs": [
    {
     "name": "stdout",
     "output_type": "stream",
     "text": [
      "\n",
      "best score: 0.861\n",
      "\n",
      "best params: {'module__hidden_size': 100, 'module__dropout': 0.5, 'max_epochs': 100, 'lr': 0.01, 'batch_size': 512}\n"
     ]
    }
   ],
   "source": [
    "print(\"\")\n",
    "print(\"best score: {:.3f}\".format(MLP_rs.best_score_))\n",
    "print(\"\")\n",
    "print(\"best params: {}\".format(MLP_rs.best_params_))"
   ]
  },
  {
   "cell_type": "code",
   "execution_count": 753,
   "id": "uniform-paint",
   "metadata": {},
   "outputs": [
    {
     "name": "stdout",
     "output_type": "stream",
     "text": [
      "\n",
      "best score: 0.854\n",
      "\n",
      "best params: {'optimizer': <class 'torch.optim.adam.Adam'>, 'module__hidden_size': 200, 'module__dropout': 0.1, 'module__activation': <function selu at 0x7ff5fd6a8430>, 'max_epochs': 400, 'lr': 0.0001, 'batch_size': 128}\n"
     ]
    }
   ],
   "source": [
    "print(\"\")\n",
    "print(\"best score: {:.3f}\".format(MLP_rs.best_score_))\n",
    "print(\"\")\n",
    "print(\"best params: {}\".format(MLP_rs.best_params_))"
   ]
  },
  {
   "cell_type": "markdown",
   "id": "exact-prevention",
   "metadata": {},
   "source": [
    "**GRID SEARCH**"
   ]
  },
  {
   "cell_type": "code",
   "execution_count": 353,
   "id": "short-enlargement",
   "metadata": {
    "tags": []
   },
   "outputs": [
    {
     "name": "stdout",
     "output_type": "stream",
     "text": [
      "Fitting 3 folds for each of 18 candidates, totalling 54 fits\n",
      "\n",
      "best score: 0.859\n",
      "\n",
      "best params: {'batch_size': 350, 'lr': 0.001, 'max_epochs': 500, 'module__dropout': 0.4, 'module__hidden_size': 100}\n"
     ]
    }
   ],
   "source": [
    "net.set_params(verbose=0)\n",
    "params = {\n",
    "    'lr': [0.001, 0.01],\n",
    "    'batch_size':[256,300,350],\n",
    "    'max_epochs': [500],                    # this will be later determined with early stopping\n",
    "    'module__hidden_size': [50,100,150],\n",
    "    'module__dropout': [0.3, 0.4, 0.5]\n",
    "}\n",
    "\n",
    "MLP_gs = GridSearchCV(net, \n",
    "                      params, \n",
    "                      refit=True, \n",
    "                      cv=3, \n",
    "                      scoring='accuracy', \n",
    "                      verbose=1)\n",
    "\n",
    "MLP_gs.fit(x_train, y_train)\n",
    "\n",
    "print(\"\")\n",
    "print(\"best score: {:.3f}\".format(MLP_gs.best_score_))\n",
    "print(\"\")\n",
    "print(\"best params: {}\".format(MLP_gs.best_params_))"
   ]
  },
  {
   "cell_type": "markdown",
   "id": "medical-setting",
   "metadata": {},
   "source": [
    "**GRID SEARCH RESULTS & EXPORT**"
   ]
  },
  {
   "cell_type": "code",
   "execution_count": 729,
   "id": "brown-curtis",
   "metadata": {},
   "outputs": [],
   "source": [
    "MLP_gs_results = pd.DataFrame.from_dict(MLP_gs.cv_results_)\n",
    "MLP_gs_results.to_excel(\"MLP GS Results.xlsx\")  "
   ]
  },
  {
   "cell_type": "markdown",
   "id": "skilled-england",
   "metadata": {
    "tags": []
   },
   "source": [
    "#### 4.3.4 Fit & Performance <a class=\"anchor\" id=\"FP-MLP\"></a>"
   ]
  },
  {
   "cell_type": "markdown",
   "id": "prompt-fitness",
   "metadata": {},
   "source": [
    "**FINAL FIT**\n",
    "\n",
    "from grid search it was determined that these parametered yielded the highest accuracy:"
   ]
  },
  {
   "cell_type": "code",
   "execution_count": 993,
   "id": "medium-chemical",
   "metadata": {},
   "outputs": [],
   "source": [
    "# Network parameters\n",
    "hidden_size = 100              \n",
    "input_size = x_train.shape[1]   \n",
    "num_classes = 6                \n",
    "dropout = 0.5\n",
    "activation = F.relu\n",
    "\n",
    "# Hyperparameters\n",
    "batch_size = 256\n",
    "lr = 0.001\n",
    "epochs = 62\n",
    "optimizer = optim.Adam\n",
    "criterion = nn.CrossEntropyLoss"
   ]
  },
  {
   "cell_type": "code",
   "execution_count": 995,
   "id": "classified-cliff",
   "metadata": {},
   "outputs": [],
   "source": [
    "# rebuild NN with best parameters\n",
    "class MLP(nn.Module):\n",
    "     def __init__(\n",
    "         self, \n",
    "         input_size = input_size, \n",
    "         hidden_size = hidden_size, \n",
    "         output_size = num_classes, \n",
    "         dropout = dropout,\n",
    "         activation = activation\n",
    "     ):\n",
    "            \n",
    "        super(MLP, self).__init__()\n",
    "        self.dropout = nn.Dropout(dropout)\n",
    "        self.activation = activation\n",
    "        \n",
    "        self.fc1 = nn.Linear(input_size, hidden_size)\n",
    "        self.fc2 = nn.Linear(hidden_size, hidden_size)\n",
    "        self.output = nn.Linear(hidden_size, num_classes)\n",
    " \n",
    "     def forward(self, x):\n",
    "        x = self.activation(self.fc1(x))\n",
    "        x = self.dropout(x)\n",
    "        x = self.activation(self.fc2(x))\n",
    "        x = self.dropout(x)\n",
    "        x = F.softmax(self.output(x), dim=-1)\n",
    "\n",
    "        return x"
   ]
  },
  {
   "cell_type": "code",
   "execution_count": 1008,
   "id": "military-whale",
   "metadata": {
    "tags": []
   },
   "outputs": [
    {
     "name": "stdout",
     "output_type": "stream",
     "text": [
      "  epoch    accuracy    balanced_accuracy    train_loss    valid_acc    valid_loss     dur\n",
      "-------  ----------  -------------------  ------------  -----------  ------------  ------\n",
      "      1      \u001b[36m0.3381\u001b[0m               \u001b[32m0.1667\u001b[0m        \u001b[35m1.7483\u001b[0m       \u001b[31m0.3381\u001b[0m        \u001b[94m1.6703\u001b[0m  0.9524\n",
      "      2      \u001b[36m0.5687\u001b[0m               \u001b[32m0.2998\u001b[0m        \u001b[35m1.6322\u001b[0m       \u001b[31m0.5687\u001b[0m        \u001b[94m1.5466\u001b[0m  0.8633\n",
      "      3      \u001b[36m0.6050\u001b[0m               \u001b[32m0.3207\u001b[0m        \u001b[35m1.4643\u001b[0m       \u001b[31m0.6050\u001b[0m        \u001b[94m1.4060\u001b[0m  0.8850\n",
      "      4      \u001b[36m0.6984\u001b[0m               \u001b[32m0.4340\u001b[0m        \u001b[35m1.3790\u001b[0m       \u001b[31m0.6984\u001b[0m        \u001b[94m1.3545\u001b[0m  0.9059\n",
      "      5      \u001b[36m0.7175\u001b[0m               \u001b[32m0.4590\u001b[0m        \u001b[35m1.3319\u001b[0m       \u001b[31m0.7175\u001b[0m        \u001b[94m1.3193\u001b[0m  0.8503\n",
      "      6      \u001b[36m0.7794\u001b[0m               \u001b[32m0.5471\u001b[0m        \u001b[35m1.3020\u001b[0m       \u001b[31m0.7794\u001b[0m        \u001b[94m1.2927\u001b[0m  0.8065\n",
      "      7      \u001b[36m0.8059\u001b[0m               \u001b[32m0.5853\u001b[0m        \u001b[35m1.2610\u001b[0m       \u001b[31m0.8059\u001b[0m        \u001b[94m1.2507\u001b[0m  0.9929\n",
      "      8      \u001b[36m0.8075\u001b[0m               \u001b[32m0.5914\u001b[0m        \u001b[35m1.2266\u001b[0m       \u001b[31m0.8075\u001b[0m        \u001b[94m1.2349\u001b[0m  0.9361\n",
      "      9      \u001b[36m0.8103\u001b[0m               \u001b[32m0.5950\u001b[0m        \u001b[35m1.2123\u001b[0m       \u001b[31m0.8103\u001b[0m        \u001b[94m1.2289\u001b[0m  1.3308\n",
      "     10      0.8103               \u001b[32m0.5970\u001b[0m        \u001b[35m1.2010\u001b[0m       0.8103        \u001b[94m1.2263\u001b[0m  0.9997\n",
      "     11      \u001b[36m0.8137\u001b[0m               \u001b[32m0.6031\u001b[0m        \u001b[35m1.1927\u001b[0m       \u001b[31m0.8137\u001b[0m        \u001b[94m1.2203\u001b[0m  0.8861\n",
      "     12      \u001b[36m0.8488\u001b[0m               \u001b[32m0.6733\u001b[0m        \u001b[35m1.1834\u001b[0m       \u001b[31m0.8488\u001b[0m        \u001b[94m1.2077\u001b[0m  0.9800\n",
      "     13      \u001b[36m0.8559\u001b[0m               \u001b[32m0.6913\u001b[0m        \u001b[35m1.1692\u001b[0m       \u001b[31m0.8559\u001b[0m        \u001b[94m1.1954\u001b[0m  0.9031\n",
      "     14      \u001b[36m0.8603\u001b[0m               \u001b[32m0.6988\u001b[0m        \u001b[35m1.1553\u001b[0m       \u001b[31m0.8603\u001b[0m        \u001b[94m1.1881\u001b[0m  0.8202\n",
      "     15      \u001b[36m0.8616\u001b[0m               \u001b[32m0.7031\u001b[0m        \u001b[35m1.1465\u001b[0m       \u001b[31m0.8616\u001b[0m        \u001b[94m1.1845\u001b[0m  0.7421\n",
      "     16      \u001b[36m0.8625\u001b[0m               \u001b[32m0.7080\u001b[0m        \u001b[35m1.1405\u001b[0m       \u001b[31m0.8625\u001b[0m        \u001b[94m1.1830\u001b[0m  0.7854\n",
      "     17      0.8606               \u001b[32m0.7096\u001b[0m        \u001b[35m1.1352\u001b[0m       0.8606        1.1830  0.7588\n",
      "     18      0.8591               0.7081        \u001b[35m1.1318\u001b[0m       0.8591        \u001b[94m1.1823\u001b[0m  1.3073\n",
      "     19      0.8594               0.7062        \u001b[35m1.1286\u001b[0m       0.8594        \u001b[94m1.1819\u001b[0m  1.2715\n",
      "     20      0.8606               \u001b[32m0.7098\u001b[0m        \u001b[35m1.1249\u001b[0m       0.8606        \u001b[94m1.1817\u001b[0m  1.3493\n",
      "     21      0.8591               0.7060        \u001b[35m1.1233\u001b[0m       0.8591        1.1823  1.1628\n",
      "     22      0.8588               0.7058        \u001b[35m1.1206\u001b[0m       0.8588        1.1823  1.0973\n",
      "     23      0.8591               0.7091        \u001b[35m1.1173\u001b[0m       0.8591        \u001b[94m1.1817\u001b[0m  1.0063\n",
      "     24      0.8594               \u001b[32m0.7120\u001b[0m        \u001b[35m1.1169\u001b[0m       0.8594        \u001b[94m1.1803\u001b[0m  1.1063\n",
      "     25      \u001b[36m0.8647\u001b[0m               \u001b[32m0.7432\u001b[0m        \u001b[35m1.1130\u001b[0m       \u001b[31m0.8647\u001b[0m        \u001b[94m1.1790\u001b[0m  0.9351\n",
      "     26      \u001b[36m0.8722\u001b[0m               \u001b[32m0.7802\u001b[0m        \u001b[35m1.1112\u001b[0m       \u001b[31m0.8722\u001b[0m        \u001b[94m1.1764\u001b[0m  1.5652\n",
      "     27      \u001b[36m0.8741\u001b[0m               \u001b[32m0.7875\u001b[0m        \u001b[35m1.1078\u001b[0m       \u001b[31m0.8741\u001b[0m        \u001b[94m1.1744\u001b[0m  1.1726\n",
      "     28      0.8741               \u001b[32m0.7935\u001b[0m        \u001b[35m1.1048\u001b[0m       0.8741        \u001b[94m1.1726\u001b[0m  1.0876\n",
      "     29      \u001b[36m0.8766\u001b[0m               \u001b[32m0.8012\u001b[0m        \u001b[35m1.1026\u001b[0m       \u001b[31m0.8766\u001b[0m        \u001b[94m1.1710\u001b[0m  1.2019\n",
      "     30      0.8738               0.7981        \u001b[35m1.0997\u001b[0m       0.8738        \u001b[94m1.1703\u001b[0m  1.0354\n",
      "     31      0.8766               \u001b[32m0.8052\u001b[0m        \u001b[35m1.0975\u001b[0m       0.8766        \u001b[94m1.1701\u001b[0m  1.2171\n",
      "     32      \u001b[36m0.8778\u001b[0m               0.8035        \u001b[35m1.0942\u001b[0m       \u001b[31m0.8778\u001b[0m        \u001b[94m1.1691\u001b[0m  1.0870\n",
      "     33      0.8762               \u001b[32m0.8085\u001b[0m        \u001b[35m1.0934\u001b[0m       0.8762        1.1692  1.0805\n",
      "     34      \u001b[36m0.8788\u001b[0m               \u001b[32m0.8157\u001b[0m        \u001b[35m1.0913\u001b[0m       \u001b[31m0.8788\u001b[0m        \u001b[94m1.1686\u001b[0m  0.8966\n",
      "     35      0.8775               \u001b[32m0.8201\u001b[0m        \u001b[35m1.0893\u001b[0m       0.8775        \u001b[94m1.1683\u001b[0m  1.0324\n",
      "     36      0.8766               0.8195        \u001b[35m1.0878\u001b[0m       0.8766        \u001b[94m1.1682\u001b[0m  0.9080\n",
      "     37      0.8747               0.8145        \u001b[35m1.0857\u001b[0m       0.8747        \u001b[94m1.1682\u001b[0m  1.0031\n",
      "     38      0.8716               0.8168        \u001b[35m1.0855\u001b[0m       0.8716        1.1696  0.8394\n",
      "     39      0.8734               0.8141        \u001b[35m1.0838\u001b[0m       0.8734        1.1691  0.9435\n",
      "     40      0.8725               0.8101        \u001b[35m1.0819\u001b[0m       0.8725        1.1685  0.8166\n",
      "     41      0.8756               0.8198        \u001b[35m1.0816\u001b[0m       0.8756        \u001b[94m1.1671\u001b[0m  0.7982\n",
      "     42      0.8759               0.8184        \u001b[35m1.0811\u001b[0m       0.8759        1.1678  0.8182\n",
      "     43      0.8728               0.8164        \u001b[35m1.0804\u001b[0m       0.8728        1.1687  0.8151\n",
      "     44      0.8728               0.8125        \u001b[35m1.0789\u001b[0m       0.8728        1.1693  0.7587\n",
      "     45      0.8744               \u001b[32m0.8215\u001b[0m        \u001b[35m1.0785\u001b[0m       0.8744        1.1686  0.7306\n",
      "     46      0.8734               0.8171        \u001b[35m1.0783\u001b[0m       0.8734        1.1687  0.7330\n",
      "     47      0.8719               0.8146        \u001b[35m1.0781\u001b[0m       0.8719        1.1689  0.7394\n",
      "     48      0.8744               0.8148        1.0787       0.8744        1.1683  0.7335\n",
      "     49      0.8750               0.8196        \u001b[35m1.0774\u001b[0m       0.8750        1.1678  0.7415\n",
      "     50      0.8747               0.8192        \u001b[35m1.0764\u001b[0m       0.8747        \u001b[94m1.1669\u001b[0m  0.7436\n",
      "     51      0.8766               \u001b[32m0.8217\u001b[0m        1.0765       0.8766        \u001b[94m1.1661\u001b[0m  0.7429\n",
      "     52      0.8769               0.8201        1.0768       0.8769        \u001b[94m1.1660\u001b[0m  0.7188\n",
      "     53      0.8788               \u001b[32m0.8227\u001b[0m        \u001b[35m1.0759\u001b[0m       0.8788        \u001b[94m1.1647\u001b[0m  0.7410\n",
      "     54      0.8788               \u001b[32m0.8235\u001b[0m        \u001b[35m1.0749\u001b[0m       0.8788        \u001b[94m1.1641\u001b[0m  0.7398\n",
      "     55      0.8784               \u001b[32m0.8249\u001b[0m        1.0750       0.8784        1.1641  0.7506\n",
      "     56      \u001b[36m0.8803\u001b[0m               \u001b[32m0.8257\u001b[0m        1.0760       \u001b[31m0.8803\u001b[0m        \u001b[94m1.1632\u001b[0m  0.7418\n",
      "     57      0.8803               \u001b[32m0.8258\u001b[0m        \u001b[35m1.0744\u001b[0m       0.8803        1.1642  0.7417\n",
      "     58      0.8788               0.8231        \u001b[35m1.0736\u001b[0m       0.8788        1.1634  1.7199\n",
      "     59      0.8791               0.8218        1.0739       0.8791        1.1634  0.8650\n",
      "     60      0.8800               0.8237        \u001b[35m1.0736\u001b[0m       0.8800        1.1636  0.8849\n",
      "     61      0.8794               0.8224        \u001b[35m1.0734\u001b[0m       0.8794        1.1638  0.8584\n",
      "     62      \u001b[36m0.8828\u001b[0m               \u001b[32m0.8311\u001b[0m        \u001b[35m1.0730\u001b[0m       \u001b[31m0.8828\u001b[0m        \u001b[94m1.1629\u001b[0m  1.1221\n"
     ]
    }
   ],
   "source": [
    "torch.manual_seed(0)\n",
    "\n",
    "final_MLP = NeuralNetClassifier(\n",
    "    MLP,\n",
    "    max_epochs = epochs,\n",
    "    batch_size = batch_size,\n",
    "    optimizer = optimizer,\n",
    "    criterion = criterion,\n",
    "    lr = lr,\n",
    "    iterator_train__shuffle = True, \n",
    "    callbacks = [balanced_accuracy, accuracy, early_stopping]\n",
    ")\n",
    "\n",
    "\n",
    "t = time.time()\n",
    "final_MLP.fit(x_train,y_train);\n",
    "elapsed = time.time() - t"
   ]
  },
  {
   "cell_type": "code",
   "execution_count": 1009,
   "id": "growing-locator",
   "metadata": {},
   "outputs": [
    {
     "name": "stdout",
     "output_type": "stream",
     "text": [
      "Training time:  60.64099192619324\n"
     ]
    }
   ],
   "source": [
    "print(\"Training time: \", elapsed)"
   ]
  },
  {
   "cell_type": "code",
   "execution_count": 999,
   "id": "worth-zimbabwe",
   "metadata": {
    "tags": []
   },
   "outputs": [],
   "source": [
    "# Export the final MLP\n",
    "with open('Models/final_mlp.pickle', 'wb') as output:\n",
    "    pickle.dump(final_MLP, output)"
   ]
  },
  {
   "cell_type": "code",
   "execution_count": 1010,
   "id": "rising-stand",
   "metadata": {},
   "outputs": [
    {
     "name": "stdout",
     "output_type": "stream",
     "text": [
      "Prediction time:  0.13302993774414062\n"
     ]
    }
   ],
   "source": [
    "# make predicitons and time it\n",
    "t = time.time()\n",
    "MLP_pred = final_MLP.predict(x_test)\n",
    "elapsed = time.time() - t\n",
    "\n",
    "print(\"Prediction time: \", elapsed)"
   ]
  },
  {
   "cell_type": "markdown",
   "id": "capable-oakland",
   "metadata": {},
   "source": [
    "**PERFORMANCE**\n",
    "\n",
    "**Training Accuracy**"
   ]
  },
  {
   "cell_type": "code",
   "execution_count": 491,
   "id": "educated-member",
   "metadata": {
    "tags": []
   },
   "outputs": [
    {
     "name": "stdout",
     "output_type": "stream",
     "text": [
      "The training accuracy is:  0.956625\n"
     ]
    }
   ],
   "source": [
    "# Training accuracy\n",
    "mlp_train_ac = accuracy_score(y_train, final_MLP.predict(x_train))\n",
    "\n",
    "print(\"The training accuracy is: \", mlp_train_ac)"
   ]
  },
  {
   "cell_type": "markdown",
   "id": "close-mobile",
   "metadata": {},
   "source": [
    "**Test Accuracy**"
   ]
  },
  {
   "cell_type": "code",
   "execution_count": 492,
   "id": "quantitative-elder",
   "metadata": {
    "tags": []
   },
   "outputs": [
    {
     "name": "stdout",
     "output_type": "stream",
     "text": [
      "The test accuracy is:  0.866\n"
     ]
    }
   ],
   "source": [
    "# Test accuracy\n",
    "mlp_test_ac = accuracy_score(y_test, MLP_pred)\n",
    "print(\"The test accuracy is: \", mlp_test_ac)"
   ]
  },
  {
   "cell_type": "code",
   "execution_count": 425,
   "id": "sought-movie",
   "metadata": {
    "collapsed": true,
    "jupyter": {
     "outputs_hidden": true
    },
    "tags": []
   },
   "outputs": [
    {
     "name": "stdout",
     "output_type": "stream",
     "text": [
      "  epoch    accuracy    balanced_accuracy    train_loss    valid_acc    valid_loss     dur\n",
      "-------  ----------  -------------------  ------------  -----------  ------------  ------\n",
      "      1      \u001b[36m0.3383\u001b[0m               \u001b[32m0.1667\u001b[0m        \u001b[35m1.7741\u001b[0m       \u001b[31m0.3383\u001b[0m        \u001b[94m1.7381\u001b[0m  0.4893\n",
      "      2      0.3383               0.1667        \u001b[35m1.6823\u001b[0m       0.3383        \u001b[94m1.6441\u001b[0m  0.4639\n",
      "      3      \u001b[36m0.5918\u001b[0m               \u001b[32m0.3138\u001b[0m        \u001b[35m1.5902\u001b[0m       \u001b[31m0.5918\u001b[0m        \u001b[94m1.5024\u001b[0m  0.6352\n",
      "      4      \u001b[36m0.6012\u001b[0m               \u001b[32m0.3192\u001b[0m        \u001b[35m1.4550\u001b[0m       \u001b[31m0.6012\u001b[0m        \u001b[94m1.4211\u001b[0m  0.4654\n",
      "      5      \u001b[36m0.6589\u001b[0m               \u001b[32m0.3871\u001b[0m        \u001b[35m1.3950\u001b[0m       \u001b[31m0.6589\u001b[0m        \u001b[94m1.3847\u001b[0m  0.5567\n",
      "      6      \u001b[36m0.6954\u001b[0m               \u001b[32m0.4332\u001b[0m        \u001b[35m1.3568\u001b[0m       \u001b[31m0.6954\u001b[0m        \u001b[94m1.3509\u001b[0m  0.4871\n",
      "      7      \u001b[36m0.7099\u001b[0m               \u001b[32m0.4523\u001b[0m        \u001b[35m1.3239\u001b[0m       \u001b[31m0.7099\u001b[0m        \u001b[94m1.3278\u001b[0m  0.4322\n",
      "      8      \u001b[36m0.7104\u001b[0m               \u001b[32m0.4546\u001b[0m        \u001b[35m1.3015\u001b[0m       \u001b[31m0.7104\u001b[0m        \u001b[94m1.3166\u001b[0m  0.4567\n",
      "      9      \u001b[36m0.7142\u001b[0m               \u001b[32m0.4586\u001b[0m        \u001b[35m1.2848\u001b[0m       \u001b[31m0.7142\u001b[0m        \u001b[94m1.3040\u001b[0m  0.4357\n",
      "     10      \u001b[36m0.7854\u001b[0m               \u001b[32m0.5620\u001b[0m        \u001b[35m1.2661\u001b[0m       \u001b[31m0.7854\u001b[0m        \u001b[94m1.2843\u001b[0m  0.4354\n",
      "     11      \u001b[36m0.8018\u001b[0m               \u001b[32m0.5855\u001b[0m        \u001b[35m1.2432\u001b[0m       \u001b[31m0.8018\u001b[0m        \u001b[94m1.2621\u001b[0m  0.4599\n",
      "     12      0.8004               \u001b[32m0.5858\u001b[0m        \u001b[35m1.2174\u001b[0m       0.8004        \u001b[94m1.2480\u001b[0m  0.5150\n",
      "     13      \u001b[36m0.8027\u001b[0m               \u001b[32m0.5884\u001b[0m        \u001b[35m1.2033\u001b[0m       \u001b[31m0.8027\u001b[0m        \u001b[94m1.2414\u001b[0m  0.4637\n",
      "     14      \u001b[36m0.8041\u001b[0m               \u001b[32m0.5907\u001b[0m        \u001b[35m1.1935\u001b[0m       \u001b[31m0.8041\u001b[0m        \u001b[94m1.2364\u001b[0m  0.4481\n",
      "     15      \u001b[36m0.8140\u001b[0m               \u001b[32m0.6113\u001b[0m        \u001b[35m1.1837\u001b[0m       \u001b[31m0.8140\u001b[0m        \u001b[94m1.2317\u001b[0m  0.4382\n",
      "     16      \u001b[36m0.8308\u001b[0m               \u001b[32m0.6490\u001b[0m        \u001b[35m1.1735\u001b[0m       \u001b[31m0.8308\u001b[0m        \u001b[94m1.2241\u001b[0m  0.4397\n",
      "     17      \u001b[36m0.8332\u001b[0m               \u001b[32m0.6622\u001b[0m        \u001b[35m1.1591\u001b[0m       \u001b[31m0.8332\u001b[0m        \u001b[94m1.2175\u001b[0m  0.4455\n",
      "     18      \u001b[36m0.8341\u001b[0m               \u001b[32m0.6636\u001b[0m        \u001b[35m1.1481\u001b[0m       \u001b[31m0.8341\u001b[0m        \u001b[94m1.2116\u001b[0m  0.4398\n",
      "     19      \u001b[36m0.8397\u001b[0m               \u001b[32m0.6770\u001b[0m        \u001b[35m1.1377\u001b[0m       \u001b[31m0.8397\u001b[0m        \u001b[94m1.2089\u001b[0m  0.4309\n",
      "     20      0.8393               \u001b[32m0.6801\u001b[0m        \u001b[35m1.1306\u001b[0m       0.8393        \u001b[94m1.2078\u001b[0m  0.4368\n",
      "     21      0.8379               0.6768        \u001b[35m1.1278\u001b[0m       0.8379        \u001b[94m1.2057\u001b[0m  0.4345\n",
      "     22      \u001b[36m0.8416\u001b[0m               \u001b[32m0.6825\u001b[0m        \u001b[35m1.1212\u001b[0m       \u001b[31m0.8416\u001b[0m        \u001b[94m1.2035\u001b[0m  0.6178\n",
      "     23      \u001b[36m0.8425\u001b[0m               \u001b[32m0.6908\u001b[0m        \u001b[35m1.1190\u001b[0m       \u001b[31m0.8425\u001b[0m        \u001b[94m1.2022\u001b[0m  0.4542\n",
      "     24      \u001b[36m0.8440\u001b[0m               0.6890        \u001b[35m1.1158\u001b[0m       \u001b[31m0.8440\u001b[0m        \u001b[94m1.2017\u001b[0m  0.4481\n",
      "     25      0.8411               0.6844        \u001b[35m1.1141\u001b[0m       0.8411        1.2033  0.4352\n",
      "     26      0.8411               0.6828        \u001b[35m1.1126\u001b[0m       0.8411        1.2026  0.4340\n",
      "     27      0.8397               0.6822        \u001b[35m1.1099\u001b[0m       0.8397        \u001b[94m1.2016\u001b[0m  0.4335\n",
      "     28      0.8397               0.6847        \u001b[35m1.1077\u001b[0m       0.8397        \u001b[94m1.2006\u001b[0m  0.4325\n",
      "     29      0.8430               0.6876        \u001b[35m1.1049\u001b[0m       0.8430        \u001b[94m1.1996\u001b[0m  0.4353\n",
      "     30      0.8425               0.6881        \u001b[35m1.1038\u001b[0m       0.8425        1.1996  0.4347\n",
      "     31      0.8411               0.6867        \u001b[35m1.1025\u001b[0m       0.8411        1.2000  0.4396\n",
      "     32      \u001b[36m0.8458\u001b[0m               \u001b[32m0.7125\u001b[0m        \u001b[35m1.1014\u001b[0m       \u001b[31m0.8458\u001b[0m        \u001b[94m1.1976\u001b[0m  0.4471\n",
      "     33      \u001b[36m0.8524\u001b[0m               \u001b[32m0.7490\u001b[0m        \u001b[35m1.0972\u001b[0m       \u001b[31m0.8524\u001b[0m        \u001b[94m1.1951\u001b[0m  0.5332\n",
      "     34      \u001b[36m0.8543\u001b[0m               \u001b[32m0.7580\u001b[0m        \u001b[35m1.0940\u001b[0m       \u001b[31m0.8543\u001b[0m        \u001b[94m1.1936\u001b[0m  0.4494\n",
      "     35      \u001b[36m0.8580\u001b[0m               \u001b[32m0.7744\u001b[0m        \u001b[35m1.0908\u001b[0m       \u001b[31m0.8580\u001b[0m        \u001b[94m1.1897\u001b[0m  0.4374\n",
      "     36      \u001b[36m0.8590\u001b[0m               \u001b[32m0.7787\u001b[0m        \u001b[35m1.0884\u001b[0m       \u001b[31m0.8590\u001b[0m        \u001b[94m1.1890\u001b[0m  1.1246\n",
      "     37      \u001b[36m0.8613\u001b[0m               \u001b[32m0.7872\u001b[0m        \u001b[35m1.0864\u001b[0m       \u001b[31m0.8613\u001b[0m        \u001b[94m1.1868\u001b[0m  0.8734\n",
      "     38      0.8594               0.7844        \u001b[35m1.0834\u001b[0m       0.8594        1.1883  1.1468\n",
      "     39      0.8604               \u001b[32m0.7913\u001b[0m        \u001b[35m1.0830\u001b[0m       0.8604        \u001b[94m1.1852\u001b[0m  0.8141\n",
      "     40      0.8599               0.7848        \u001b[35m1.0803\u001b[0m       0.8599        1.1862  0.6028\n",
      "     41      \u001b[36m0.8622\u001b[0m               \u001b[32m0.7933\u001b[0m        \u001b[35m1.0786\u001b[0m       \u001b[31m0.8622\u001b[0m        \u001b[94m1.1850\u001b[0m  0.5444\n",
      "     42      0.8618               \u001b[32m0.7955\u001b[0m        \u001b[35m1.0766\u001b[0m       0.8618        \u001b[94m1.1839\u001b[0m  0.6955\n",
      "     43      \u001b[36m0.8627\u001b[0m               0.7939        1.0770       \u001b[31m0.8627\u001b[0m        1.1839  0.9366\n",
      "     44      0.8604               \u001b[32m0.7957\u001b[0m        \u001b[35m1.0746\u001b[0m       0.8604        \u001b[94m1.1828\u001b[0m  0.8710\n",
      "     45      0.8599               0.7929        1.0750       0.8599        1.1835  0.8139\n",
      "     46      0.8590               0.7924        \u001b[35m1.0745\u001b[0m       0.8590        1.1834  0.6552\n",
      "     47      0.8585               0.7895        \u001b[35m1.0726\u001b[0m       0.8585        1.1838  0.7832\n",
      "     48      0.8618               0.7924        1.0729       0.8618        1.1829  0.4840\n",
      "     49      0.8585               0.7921        \u001b[35m1.0711\u001b[0m       0.8585        1.1837  0.4804\n",
      "     50      0.8575               0.7866        \u001b[35m1.0709\u001b[0m       0.8575        1.1842  0.5082\n",
      "     51      0.8604               0.7929        1.0710       0.8604        1.1832  0.4683\n",
      "     52      0.8608               0.7917        \u001b[35m1.0696\u001b[0m       0.8608        1.1832  0.5383\n",
      "     53      0.8613               \u001b[32m0.7961\u001b[0m        \u001b[35m1.0692\u001b[0m       0.8613        \u001b[94m1.1823\u001b[0m  0.5245\n",
      "     54      0.8580               0.7845        \u001b[35m1.0688\u001b[0m       0.8580        1.1846  0.4486\n",
      "     55      0.8613               \u001b[32m0.7968\u001b[0m        1.0689       0.8613        \u001b[94m1.1823\u001b[0m  0.4970\n",
      "     56      0.8627               \u001b[32m0.8000\u001b[0m        \u001b[35m1.0666\u001b[0m       0.8627        \u001b[94m1.1817\u001b[0m  0.4276\n",
      "     57      0.8613               0.7930        1.0691       0.8613        1.1820  0.4644\n",
      "     58      0.8585               0.7895        1.0676       0.8585        1.1827  0.8473\n",
      "     59      0.8580               0.7867        1.0674       0.8580        1.1827  1.1367\n",
      "     60      0.8580               0.7872        1.0667       0.8580        1.1825  0.5062\n",
      "     61      0.8613               0.7920        1.0670       0.8613        1.1820  0.7222\n",
      "     62      0.8613               0.7937        1.0667       0.8613        1.1825  0.5493\n",
      "  epoch    accuracy    balanced_accuracy    train_loss    valid_acc    valid_loss     dur\n",
      "-------  ----------  -------------------  ------------  -----------  ------------  ------\n",
      "      1      \u001b[36m0.3379\u001b[0m               \u001b[32m0.1667\u001b[0m        \u001b[35m1.7761\u001b[0m       \u001b[31m0.3379\u001b[0m        \u001b[94m1.7470\u001b[0m  0.4911\n",
      "      2      \u001b[36m0.3383\u001b[0m               \u001b[32m0.1669\u001b[0m        \u001b[35m1.6874\u001b[0m       \u001b[31m0.3383\u001b[0m        \u001b[94m1.6444\u001b[0m  0.4986\n",
      "      3      \u001b[36m0.5820\u001b[0m               \u001b[32m0.3078\u001b[0m        \u001b[35m1.5876\u001b[0m       \u001b[31m0.5820\u001b[0m        \u001b[94m1.5044\u001b[0m  0.4781\n",
      "      4      \u001b[36m0.6012\u001b[0m               \u001b[32m0.3191\u001b[0m        \u001b[35m1.4553\u001b[0m       \u001b[31m0.6012\u001b[0m        \u001b[94m1.4246\u001b[0m  0.4973\n",
      "      5      \u001b[36m0.6532\u001b[0m               \u001b[32m0.3781\u001b[0m        \u001b[35m1.3958\u001b[0m       \u001b[31m0.6532\u001b[0m        \u001b[94m1.3901\u001b[0m  0.6454\n",
      "      6      \u001b[36m0.7015\u001b[0m               \u001b[32m0.4395\u001b[0m        \u001b[35m1.3603\u001b[0m       \u001b[31m0.7015\u001b[0m        \u001b[94m1.3558\u001b[0m  0.4594\n",
      "      7      \u001b[36m0.7142\u001b[0m               \u001b[32m0.4553\u001b[0m        \u001b[35m1.3249\u001b[0m       \u001b[31m0.7142\u001b[0m        \u001b[94m1.3271\u001b[0m  0.5753\n",
      "      8      \u001b[36m0.7146\u001b[0m               \u001b[32m0.4586\u001b[0m        \u001b[35m1.3008\u001b[0m       \u001b[31m0.7146\u001b[0m        \u001b[94m1.3120\u001b[0m  0.4893\n",
      "      9      \u001b[36m0.7643\u001b[0m               \u001b[32m0.5320\u001b[0m        \u001b[35m1.2784\u001b[0m       \u001b[31m0.7643\u001b[0m        \u001b[94m1.2935\u001b[0m  0.5433\n",
      "     10      \u001b[36m0.7943\u001b[0m               \u001b[32m0.5780\u001b[0m        \u001b[35m1.2516\u001b[0m       \u001b[31m0.7943\u001b[0m        \u001b[94m1.2645\u001b[0m  0.5142\n",
      "     11      \u001b[36m0.8027\u001b[0m               \u001b[32m0.5872\u001b[0m        \u001b[35m1.2227\u001b[0m       \u001b[31m0.8027\u001b[0m        \u001b[94m1.2488\u001b[0m  0.5382\n",
      "     12      \u001b[36m0.8046\u001b[0m               \u001b[32m0.5905\u001b[0m        \u001b[35m1.2065\u001b[0m       \u001b[31m0.8046\u001b[0m        \u001b[94m1.2421\u001b[0m  0.6149\n",
      "     13      0.8041               \u001b[32m0.5933\u001b[0m        \u001b[35m1.1960\u001b[0m       0.8041        \u001b[94m1.2385\u001b[0m  0.4951\n",
      "     14      0.8027               0.5921        \u001b[35m1.1903\u001b[0m       0.8027        \u001b[94m1.2360\u001b[0m  0.4849\n",
      "     15      \u001b[36m0.8069\u001b[0m               \u001b[32m0.5971\u001b[0m        \u001b[35m1.1848\u001b[0m       \u001b[31m0.8069\u001b[0m        \u001b[94m1.2336\u001b[0m  0.4883\n",
      "     16      0.8051               0.5946        \u001b[35m1.1799\u001b[0m       0.8051        \u001b[94m1.2311\u001b[0m  0.4902\n",
      "     17      \u001b[36m0.8163\u001b[0m               \u001b[32m0.6190\u001b[0m        \u001b[35m1.1718\u001b[0m       \u001b[31m0.8163\u001b[0m        \u001b[94m1.2276\u001b[0m  0.4663\n",
      "     18      \u001b[36m0.8346\u001b[0m               \u001b[32m0.6634\u001b[0m        \u001b[35m1.1642\u001b[0m       \u001b[31m0.8346\u001b[0m        \u001b[94m1.2215\u001b[0m  0.4899\n",
      "     19      \u001b[36m0.8388\u001b[0m               \u001b[32m0.6744\u001b[0m        \u001b[35m1.1548\u001b[0m       \u001b[31m0.8388\u001b[0m        \u001b[94m1.2169\u001b[0m  1.2277\n",
      "     20      0.8369               0.6726        \u001b[35m1.1461\u001b[0m       0.8369        \u001b[94m1.2099\u001b[0m  0.9113\n",
      "     21      \u001b[36m0.8440\u001b[0m               \u001b[32m0.6841\u001b[0m        \u001b[35m1.1372\u001b[0m       \u001b[31m0.8440\u001b[0m        \u001b[94m1.2055\u001b[0m  0.6871\n",
      "     22      0.8421               \u001b[32m0.6887\u001b[0m        \u001b[35m1.1326\u001b[0m       0.8421        \u001b[94m1.2037\u001b[0m  0.7378\n",
      "     23      \u001b[36m0.8454\u001b[0m               0.6843        \u001b[35m1.1286\u001b[0m       \u001b[31m0.8454\u001b[0m        \u001b[94m1.2030\u001b[0m  0.6130\n",
      "     24      0.8421               0.6883        \u001b[35m1.1252\u001b[0m       0.8421        \u001b[94m1.2011\u001b[0m  0.6195\n",
      "     25      0.8425               0.6877        \u001b[35m1.1215\u001b[0m       0.8425        \u001b[94m1.1993\u001b[0m  0.9697\n",
      "     26      0.8449               \u001b[32m0.6903\u001b[0m        \u001b[35m1.1176\u001b[0m       0.8449        \u001b[94m1.1984\u001b[0m  0.4621\n",
      "     27      0.8430               \u001b[32m0.6904\u001b[0m        \u001b[35m1.1160\u001b[0m       0.8430        1.1988  0.4962\n",
      "     28      0.8440               \u001b[32m0.6938\u001b[0m        \u001b[35m1.1122\u001b[0m       0.8440        1.1988  0.9587\n",
      "     29      \u001b[36m0.8458\u001b[0m               \u001b[32m0.6956\u001b[0m        \u001b[35m1.1117\u001b[0m       \u001b[31m0.8458\u001b[0m        1.1987  0.4701\n",
      "     30      0.8425               0.6923        \u001b[35m1.1103\u001b[0m       0.8425        1.1990  0.5198\n",
      "     31      0.8444               0.6931        \u001b[35m1.1085\u001b[0m       0.8444        1.1985  0.4495\n",
      "     32      0.8440               \u001b[32m0.6966\u001b[0m        1.1085       0.8440        \u001b[94m1.1982\u001b[0m  0.4541\n",
      "     33      0.8454               0.6915        \u001b[35m1.1066\u001b[0m       0.8454        \u001b[94m1.1981\u001b[0m  0.4761\n",
      "     34      \u001b[36m0.8463\u001b[0m               0.6949        1.1069       \u001b[31m0.8463\u001b[0m        \u001b[94m1.1975\u001b[0m  0.4716\n",
      "     35      0.8430               0.6937        \u001b[35m1.1051\u001b[0m       0.8430        1.1984  0.9805\n",
      "     36      0.8458               0.6952        \u001b[35m1.1041\u001b[0m       0.8458        1.1977  0.4633\n",
      "     37      0.8458               0.6966        \u001b[35m1.1028\u001b[0m       0.8458        1.1985  0.9051\n",
      "     38      0.8430               0.6896        1.1035       0.8430        1.1983  0.4907\n",
      "     39      0.8440               0.6920        1.1030       0.8440        1.1979  0.4695\n",
      "     40      0.8454               0.6961        \u001b[35m1.1013\u001b[0m       0.8454        \u001b[94m1.1971\u001b[0m  0.4983\n",
      "     41      \u001b[36m0.8468\u001b[0m               0.6942        1.1015       \u001b[31m0.8468\u001b[0m        \u001b[94m1.1966\u001b[0m  0.4663\n",
      "     42      0.8468               \u001b[32m0.6978\u001b[0m        1.1013       0.8468        \u001b[94m1.1958\u001b[0m  0.4632\n",
      "     43      \u001b[36m0.8491\u001b[0m               \u001b[32m0.6990\u001b[0m        \u001b[35m1.1008\u001b[0m       \u001b[31m0.8491\u001b[0m        \u001b[94m1.1954\u001b[0m  0.4689\n",
      "     44      0.8482               \u001b[32m0.7008\u001b[0m        \u001b[35m1.1002\u001b[0m       0.8482        1.1957  0.4653\n",
      "     45      0.8491               0.7007        \u001b[35m1.0999\u001b[0m       0.8491        \u001b[94m1.1948\u001b[0m  0.8110\n",
      "     46      0.8482               \u001b[32m0.7018\u001b[0m        \u001b[35m1.0987\u001b[0m       0.8482        \u001b[94m1.1943\u001b[0m  0.5183\n",
      "     47      0.8482               0.6988        \u001b[35m1.0986\u001b[0m       0.8482        1.1947  0.4722\n",
      "     48      0.8468               0.6985        \u001b[35m1.0973\u001b[0m       0.8468        1.1948  0.4740\n",
      "     49      0.8491               \u001b[32m0.7055\u001b[0m        \u001b[35m1.0967\u001b[0m       0.8491        \u001b[94m1.1935\u001b[0m  0.4658\n",
      "     50      \u001b[36m0.8547\u001b[0m               \u001b[32m0.7335\u001b[0m        \u001b[35m1.0944\u001b[0m       \u001b[31m0.8547\u001b[0m        \u001b[94m1.1925\u001b[0m  0.4778\n",
      "     51      0.8547               \u001b[32m0.7548\u001b[0m        \u001b[35m1.0921\u001b[0m       0.8547        \u001b[94m1.1913\u001b[0m  0.6405\n",
      "     52      \u001b[36m0.8571\u001b[0m               \u001b[32m0.7580\u001b[0m        \u001b[35m1.0903\u001b[0m       \u001b[31m0.8571\u001b[0m        \u001b[94m1.1906\u001b[0m  0.4664\n",
      "     53      0.8557               \u001b[32m0.7695\u001b[0m        \u001b[35m1.0880\u001b[0m       0.8557        1.1912  0.4698\n",
      "     54      \u001b[36m0.8594\u001b[0m               \u001b[32m0.7861\u001b[0m        \u001b[35m1.0862\u001b[0m       \u001b[31m0.8594\u001b[0m        \u001b[94m1.1877\u001b[0m  0.9391\n",
      "     55      \u001b[36m0.8604\u001b[0m               0.7835        \u001b[35m1.0837\u001b[0m       \u001b[31m0.8604\u001b[0m        \u001b[94m1.1855\u001b[0m  0.4732\n",
      "     56      \u001b[36m0.8613\u001b[0m               \u001b[32m0.7907\u001b[0m        \u001b[35m1.0816\u001b[0m       \u001b[31m0.8613\u001b[0m        \u001b[94m1.1849\u001b[0m  0.6912\n",
      "     57      \u001b[36m0.8632\u001b[0m               \u001b[32m0.7947\u001b[0m        \u001b[35m1.0806\u001b[0m       \u001b[31m0.8632\u001b[0m        \u001b[94m1.1829\u001b[0m  1.4019\n",
      "     58      \u001b[36m0.8655\u001b[0m               \u001b[32m0.7997\u001b[0m        \u001b[35m1.0795\u001b[0m       \u001b[31m0.8655\u001b[0m        \u001b[94m1.1809\u001b[0m  0.7671\n",
      "     59      0.8632               0.7917        \u001b[35m1.0786\u001b[0m       0.8632        \u001b[94m1.1802\u001b[0m  1.1133\n",
      "     60      0.8655               0.7951        \u001b[35m1.0762\u001b[0m       0.8655        \u001b[94m1.1798\u001b[0m  0.6803\n",
      "     61      \u001b[36m0.8669\u001b[0m               \u001b[32m0.8016\u001b[0m        \u001b[35m1.0758\u001b[0m       \u001b[31m0.8669\u001b[0m        1.1800  0.4819\n",
      "     62      0.8664               0.7999        \u001b[35m1.0755\u001b[0m       0.8664        1.1803  0.4713\n",
      "  epoch    accuracy    balanced_accuracy    train_loss    valid_acc    valid_loss     dur\n",
      "-------  ----------  -------------------  ------------  -----------  ------------  ------\n",
      "      1      \u001b[36m0.3379\u001b[0m               \u001b[32m0.1667\u001b[0m        \u001b[35m1.7743\u001b[0m       \u001b[31m0.3379\u001b[0m        \u001b[94m1.7413\u001b[0m  0.9122\n",
      "      2      \u001b[36m0.3655\u001b[0m               \u001b[32m0.1826\u001b[0m        \u001b[35m1.6809\u001b[0m       \u001b[31m0.3655\u001b[0m        \u001b[94m1.6346\u001b[0m  0.6195\n",
      "      3      \u001b[36m0.5904\u001b[0m               \u001b[32m0.3129\u001b[0m        \u001b[35m1.5722\u001b[0m       \u001b[31m0.5904\u001b[0m        \u001b[94m1.4907\u001b[0m  0.4896\n",
      "      4      \u001b[36m0.6007\u001b[0m               \u001b[32m0.3185\u001b[0m        \u001b[35m1.4496\u001b[0m       \u001b[31m0.6007\u001b[0m        \u001b[94m1.4234\u001b[0m  0.5293\n",
      "      5      \u001b[36m0.6148\u001b[0m               \u001b[32m0.3328\u001b[0m        \u001b[35m1.3992\u001b[0m       \u001b[31m0.6148\u001b[0m        \u001b[94m1.3933\u001b[0m  0.4755\n",
      "      6      \u001b[36m0.6785\u001b[0m               \u001b[32m0.4230\u001b[0m        \u001b[35m1.3675\u001b[0m       \u001b[31m0.6785\u001b[0m        \u001b[94m1.3683\u001b[0m  0.4682\n",
      "      7      \u001b[36m0.7085\u001b[0m               \u001b[32m0.4620\u001b[0m        \u001b[35m1.3388\u001b[0m       \u001b[31m0.7085\u001b[0m        \u001b[94m1.3400\u001b[0m  0.4577\n",
      "      8      \u001b[36m0.7142\u001b[0m               0.4552        \u001b[35m1.3159\u001b[0m       \u001b[31m0.7142\u001b[0m        \u001b[94m1.3257\u001b[0m  0.4521\n",
      "      9      \u001b[36m0.7179\u001b[0m               0.4598        \u001b[35m1.3021\u001b[0m       \u001b[31m0.7179\u001b[0m        \u001b[94m1.3183\u001b[0m  0.4695\n",
      "     10      \u001b[36m0.7638\u001b[0m               \u001b[32m0.5270\u001b[0m        \u001b[35m1.2887\u001b[0m       \u001b[31m0.7638\u001b[0m        \u001b[94m1.3055\u001b[0m  0.4609\n",
      "     11      \u001b[36m0.7887\u001b[0m               \u001b[32m0.5661\u001b[0m        \u001b[35m1.2645\u001b[0m       \u001b[31m0.7887\u001b[0m        \u001b[94m1.2762\u001b[0m  0.4448\n",
      "     12      \u001b[36m0.8008\u001b[0m               \u001b[32m0.5844\u001b[0m        \u001b[35m1.2320\u001b[0m       \u001b[31m0.8008\u001b[0m        \u001b[94m1.2516\u001b[0m  0.4391\n",
      "     13      \u001b[36m0.8055\u001b[0m               \u001b[32m0.5889\u001b[0m        \u001b[35m1.2128\u001b[0m       \u001b[31m0.8055\u001b[0m        \u001b[94m1.2417\u001b[0m  0.4395\n",
      "     14      \u001b[36m0.8074\u001b[0m               \u001b[32m0.5919\u001b[0m        \u001b[35m1.2012\u001b[0m       \u001b[31m0.8074\u001b[0m        \u001b[94m1.2360\u001b[0m  0.5283\n",
      "     15      \u001b[36m0.8093\u001b[0m               \u001b[32m0.5963\u001b[0m        \u001b[35m1.1929\u001b[0m       \u001b[31m0.8093\u001b[0m        \u001b[94m1.2322\u001b[0m  0.8260\n",
      "     16      0.8041               0.5917        \u001b[35m1.1857\u001b[0m       0.8041        \u001b[94m1.2316\u001b[0m  1.1061\n",
      "     17      \u001b[36m0.8140\u001b[0m               \u001b[32m0.6089\u001b[0m        \u001b[35m1.1781\u001b[0m       \u001b[31m0.8140\u001b[0m        \u001b[94m1.2266\u001b[0m  1.1965\n",
      "     18      \u001b[36m0.8397\u001b[0m               \u001b[32m0.6616\u001b[0m        \u001b[35m1.1694\u001b[0m       \u001b[31m0.8397\u001b[0m        \u001b[94m1.2200\u001b[0m  0.7808\n",
      "     19      \u001b[36m0.8468\u001b[0m               \u001b[32m0.6787\u001b[0m        \u001b[35m1.1578\u001b[0m       \u001b[31m0.8468\u001b[0m        \u001b[94m1.2109\u001b[0m  0.4336\n",
      "     20      \u001b[36m0.8519\u001b[0m               \u001b[32m0.6882\u001b[0m        \u001b[35m1.1480\u001b[0m       \u001b[31m0.8519\u001b[0m        \u001b[94m1.2031\u001b[0m  0.5005\n",
      "     21      0.8468               0.6880        \u001b[35m1.1370\u001b[0m       0.8468        \u001b[94m1.2006\u001b[0m  0.8796\n",
      "     22      0.8500               \u001b[32m0.6922\u001b[0m        \u001b[35m1.1321\u001b[0m       0.8500        \u001b[94m1.1976\u001b[0m  0.8474\n",
      "     23      0.8500               \u001b[32m0.6936\u001b[0m        \u001b[35m1.1254\u001b[0m       0.8500        \u001b[94m1.1953\u001b[0m  1.2381\n",
      "     24      0.8496               0.6928        \u001b[35m1.1226\u001b[0m       0.8496        \u001b[94m1.1950\u001b[0m  1.1140\n",
      "     25      0.8515               \u001b[32m0.6961\u001b[0m        \u001b[35m1.1203\u001b[0m       0.8515        \u001b[94m1.1942\u001b[0m  0.7850\n",
      "     26      0.8500               \u001b[32m0.6964\u001b[0m        \u001b[35m1.1182\u001b[0m       0.8500        \u001b[94m1.1942\u001b[0m  1.1037\n",
      "     27      0.8491               0.6954        \u001b[35m1.1143\u001b[0m       0.8491        1.1949  0.4796\n",
      "     28      0.8477               \u001b[32m0.6978\u001b[0m        \u001b[35m1.1121\u001b[0m       0.8477        1.1949  0.6137\n",
      "     29      0.8486               \u001b[32m0.6985\u001b[0m        \u001b[35m1.1110\u001b[0m       0.8486        1.1947  0.5239\n",
      "     30      0.8496               0.6965        \u001b[35m1.1098\u001b[0m       0.8496        \u001b[94m1.1938\u001b[0m  0.5694\n",
      "     31      0.8486               0.6968        \u001b[35m1.1087\u001b[0m       0.8486        \u001b[94m1.1923\u001b[0m  0.4993\n",
      "     32      0.8505               0.6967        \u001b[35m1.1070\u001b[0m       0.8505        \u001b[94m1.1923\u001b[0m  0.4543\n",
      "     33      \u001b[36m0.8547\u001b[0m               \u001b[32m0.7020\u001b[0m        \u001b[35m1.1059\u001b[0m       \u001b[31m0.8547\u001b[0m        \u001b[94m1.1922\u001b[0m  0.4664\n",
      "     34      0.8496               0.7016        \u001b[35m1.1026\u001b[0m       0.8496        \u001b[94m1.1912\u001b[0m  0.8323\n",
      "     35      \u001b[36m0.8599\u001b[0m               \u001b[32m0.7458\u001b[0m        \u001b[35m1.1006\u001b[0m       \u001b[31m0.8599\u001b[0m        \u001b[94m1.1878\u001b[0m  0.5711\n",
      "     36      \u001b[36m0.8664\u001b[0m               \u001b[32m0.7833\u001b[0m        \u001b[35m1.0957\u001b[0m       \u001b[31m0.8664\u001b[0m        \u001b[94m1.1854\u001b[0m  0.4940\n",
      "     37      \u001b[36m0.8674\u001b[0m               \u001b[32m0.7953\u001b[0m        \u001b[35m1.0927\u001b[0m       \u001b[31m0.8674\u001b[0m        \u001b[94m1.1826\u001b[0m  0.7717\n",
      "     38      \u001b[36m0.8702\u001b[0m               \u001b[32m0.7989\u001b[0m        \u001b[35m1.0907\u001b[0m       \u001b[31m0.8702\u001b[0m        \u001b[94m1.1804\u001b[0m  0.9786\n",
      "     39      0.8702               \u001b[32m0.8051\u001b[0m        \u001b[35m1.0878\u001b[0m       0.8702        \u001b[94m1.1795\u001b[0m  0.5364\n",
      "     40      \u001b[36m0.8707\u001b[0m               \u001b[32m0.8085\u001b[0m        \u001b[35m1.0868\u001b[0m       \u001b[31m0.8707\u001b[0m        \u001b[94m1.1787\u001b[0m  0.6503\n",
      "     41      0.8683               0.8040        \u001b[35m1.0846\u001b[0m       0.8683        \u001b[94m1.1785\u001b[0m  0.5408\n",
      "     42      0.8660               0.8015        \u001b[35m1.0834\u001b[0m       0.8660        1.1787  0.6199\n",
      "     43      0.8660               0.7973        \u001b[35m1.0817\u001b[0m       0.8660        \u001b[94m1.1783\u001b[0m  0.4689\n",
      "     44      0.8674               0.7986        \u001b[35m1.0813\u001b[0m       0.8674        \u001b[94m1.1767\u001b[0m  0.5043\n",
      "     45      0.8669               0.8004        \u001b[35m1.0793\u001b[0m       0.8669        1.1767  0.5562\n",
      "     46      0.8664               0.8067        \u001b[35m1.0785\u001b[0m       0.8664        \u001b[94m1.1765\u001b[0m  0.5171\n",
      "     47      0.8679               0.8055        \u001b[35m1.0766\u001b[0m       0.8679        1.1768  0.5775\n",
      "     48      0.8683               0.8071        1.0774       0.8683        \u001b[94m1.1762\u001b[0m  0.4532\n",
      "     49      0.8697               \u001b[32m0.8109\u001b[0m        \u001b[35m1.0763\u001b[0m       0.8697        \u001b[94m1.1757\u001b[0m  0.4826\n",
      "     50      0.8669               0.8039        1.0763       0.8669        1.1762  0.4752\n",
      "     51      0.8664               0.8083        \u001b[35m1.0749\u001b[0m       0.8664        1.1775  0.4746\n",
      "     52      0.8646               0.8040        \u001b[35m1.0748\u001b[0m       0.8646        1.1767  0.5137\n",
      "     53      0.8632               0.8047        \u001b[35m1.0722\u001b[0m       0.8632        1.1775  0.4704\n",
      "     54      0.8679               0.8091        1.0726       0.8679        1.1771  0.4752\n",
      "     55      0.8646               0.8078        1.0725       0.8646        1.1779  0.4443\n",
      "     56      0.8650               0.8069        1.0724       0.8650        1.1788  0.6019\n",
      "     57      0.8618               0.8037        \u001b[35m1.0708\u001b[0m       0.8618        1.1793  0.4529\n",
      "     58      0.8618               0.8031        \u001b[35m1.0707\u001b[0m       0.8618        1.1800  0.4691\n",
      "Stopping since valid_loss has not improved in the last 10 epochs.\n",
      "The cross validated accuracy is:  [0.8648294  0.85486593 0.86330396]\n"
     ]
    }
   ],
   "source": [
    "# cross validated accuracy\n",
    "print('The cross validated accuracy is: ', cross_val_score(final_MLP, x_train, y_train, cv=3));"
   ]
  },
  {
   "cell_type": "markdown",
   "id": "cardiac-arthritis",
   "metadata": {},
   "source": [
    "**Classification Report**"
   ]
  },
  {
   "cell_type": "code",
   "execution_count": 462,
   "id": "hydraulic-rating",
   "metadata": {
    "tags": []
   },
   "outputs": [
    {
     "name": "stdout",
     "output_type": "stream",
     "text": [
      "Classification report\n",
      "              precision    recall  f1-score   support\n",
      "\n",
      "     sadness       0.88      0.93      0.90      1159\n",
      "         joy       0.88      0.91      0.90      1352\n",
      "        fear       0.83      0.84      0.84       475\n",
      "       anger       0.88      0.84      0.86       542\n",
      "        love       0.78      0.68      0.73       328\n",
      "    surprise       0.82      0.58      0.68       144\n",
      "\n",
      "    accuracy                           0.87      4000\n",
      "   macro avg       0.84      0.80      0.82      4000\n",
      "weighted avg       0.86      0.87      0.86      4000\n",
      "\n"
     ]
    }
   ],
   "source": [
    "# Classification report\n",
    "print(\"Classification report\")\n",
    "print(classification_report(y_test, MLP_pred, target_names=emotion_dict))"
   ]
  },
  {
   "cell_type": "markdown",
   "id": "varied-creativity",
   "metadata": {},
   "source": [
    "**Confusion Matrix**"
   ]
  },
  {
   "cell_type": "code",
   "execution_count": 429,
   "id": "loaded-steam",
   "metadata": {},
   "outputs": [
    {
     "data": {
      "image/png": "[encoded data removed]",
      "text/plain": [
       "<Figure size 576x432 with 2 Axes>"
      ]
     },
     "metadata": {},
     "output_type": "display_data"
    }
   ],
   "source": [
    "# create confusion matrix\n",
    "cm_MLP = confusion_matrix(y_test, MLP_pred)\n",
    "\n",
    "# Normalise\n",
    "cmn_MLP= cm_MLP.astype('float') / cm_MLP.sum(axis=1)[:, np.newaxis]\n",
    "\n",
    "# plot\n",
    "fig, ax = plt.subplots(figsize=(8,6))\n",
    "sns.heatmap(cmn_MLP, \n",
    "            annot=True, \n",
    "            fmt='.2f', \n",
    "            xticklabels=emotion_dict, \n",
    "            yticklabels=emotion_dict, \n",
    "            cmap='Blues')\n",
    "plt.title('Final MLP Confusion Matrix', fontsize= 16)\n",
    "plt.ylabel('Actual')\n",
    "plt.xlabel('Predicted')\n",
    "plt.show()"
   ]
  },
  {
   "cell_type": "markdown",
   "id": "confident-couple",
   "metadata": {},
   "source": [
    "## 5. Testing & Model Comparison\n",
    "---"
   ]
  },
  {
   "cell_type": "markdown",
   "id": "short-andrews",
   "metadata": {},
   "source": [
    "### 5.1 Confusion Matrices"
   ]
  },
  {
   "cell_type": "code",
   "execution_count": 478,
   "id": "stylish-hello",
   "metadata": {},
   "outputs": [
    {
     "data": {
      "image/png": "[encoded data removed]",
      "text/plain": [
       "<Figure size 1152x432 with 4 Axes>"
      ]
     },
     "metadata": {},
     "output_type": "display_data"
    }
   ],
   "source": [
    "fig, axes =plt.subplots(1,2, sharex=True, figsize=(16,6))\n",
    "\n",
    "#SVM\n",
    "sns.heatmap(cmn_svc_final, \n",
    "            annot=True, \n",
    "            fmt='.2f', \n",
    "            xticklabels=emotion_dict, \n",
    "            yticklabels=emotion_dict, \n",
    "            cmap='Blues', \n",
    "            ax = axes[0])\n",
    "axes[0].set_title('Final SVM Confusion Matrix', fontsize= 16)\n",
    "axes[0].set_ylabel('Actual')\n",
    "axes[0].set_xlabel('Predicted')\n",
    "\n",
    "# MLP\n",
    "sns.heatmap(cmn_MLP, \n",
    "            annot=True, \n",
    "            fmt='.2f', \n",
    "            xticklabels=emotion_dict, \n",
    "            yticklabels=emotion_dict, \n",
    "            cmap='Blues', \n",
    "            ax = axes[1])\n",
    "axes[1].set_title('Final MLP Confusion Matrix', fontsize= 16)\n",
    "axes[1].set_ylabel('Actual')\n",
    "axes[1].set_xlabel('Predicted');"
   ]
  },
  {
   "cell_type": "markdown",
   "id": "cellular-handbook",
   "metadata": {},
   "source": [
    "### 5.2 Accuracy Scores"
   ]
  },
  {
   "cell_type": "markdown",
   "id": "hollow-update",
   "metadata": {},
   "source": [
    "**TRAINING ACCURACY**"
   ]
  },
  {
   "cell_type": "code",
   "execution_count": 494,
   "id": "liable-unknown",
   "metadata": {},
   "outputs": [
    {
     "name": "stdout",
     "output_type": "stream",
     "text": [
      "SVM training accuracy:  0.9284375\n",
      "MLP training accuracy:  0.956625\n"
     ]
    }
   ],
   "source": [
    "# SVM\n",
    "print(\"SVM training accuracy: \", svm_train_ac)\n",
    "\n",
    "# MLP\n",
    "print(\"MLP training accuracy: \", mlp_train_ac)"
   ]
  },
  {
   "cell_type": "markdown",
   "id": "introductory-respondent",
   "metadata": {},
   "source": [
    "**TEST ACCURACY**"
   ]
  },
  {
   "cell_type": "code",
   "execution_count": 493,
   "id": "descending-hypothetical",
   "metadata": {},
   "outputs": [
    {
     "name": "stdout",
     "output_type": "stream",
     "text": [
      "SVM test accuracy:  0.8825\n",
      "MLP test accuracy:  0.866\n"
     ]
    }
   ],
   "source": [
    "# SVM\n",
    "print(\"SVM test accuracy: \", svm_test_ac)\n",
    "\n",
    "# MLP\n",
    "print(\"MLP test accuracy: \", mlp_test_ac)"
   ]
  },
  {
   "cell_type": "markdown",
   "id": "accompanied-bhutan",
   "metadata": {},
   "source": [
    "**CLASSIFICATION REPORTS**"
   ]
  },
  {
   "cell_type": "code",
   "execution_count": 505,
   "id": "light-wellington",
   "metadata": {},
   "outputs": [
    {
     "name": "stdout",
     "output_type": "stream",
     "text": [
      "--- SVM CLASSIFICATION REPORT ---------------\n",
      "              precision    recall  f1-score   support\n",
      "\n",
      "     sadness       0.90      0.94      0.92      1159\n",
      "         joy       0.88      0.92      0.90      1352\n",
      "        fear       0.85      0.86      0.85       475\n",
      "       anger       0.90      0.85      0.88       542\n",
      "        love       0.84      0.70      0.76       328\n",
      "    surprise       0.81      0.67      0.73       144\n",
      "\n",
      "    accuracy                           0.88      4000\n",
      "   macro avg       0.86      0.82      0.84      4000\n",
      "weighted avg       0.88      0.88      0.88      4000\n",
      "\n",
      "\n",
      "--- MLP CLASSIFICATION REPORT ---------------\n",
      "              precision    recall  f1-score   support\n",
      "\n",
      "     sadness       0.88      0.93      0.90      1159\n",
      "         joy       0.88      0.91      0.90      1352\n",
      "        fear       0.83      0.84      0.84       475\n",
      "       anger       0.88      0.84      0.86       542\n",
      "        love       0.78      0.68      0.73       328\n",
      "    surprise       0.82      0.58      0.68       144\n",
      "\n",
      "    accuracy                           0.87      4000\n",
      "   macro avg       0.84      0.80      0.82      4000\n",
      "weighted avg       0.86      0.87      0.86      4000\n",
      "\n"
     ]
    }
   ],
   "source": [
    "# SVM Classification report\n",
    "print(\"--- SVM CLASSIFICATION REPORT ---------------\")\n",
    "print(classification_report(labels_test,final_svc_pred, target_names=emotion_dict))\n",
    "print(\"\")\n",
    "print(\"--- MLP CLASSIFICATION REPORT ---------------\")\n",
    "print(classification_report(y_test, MLP_pred, target_names=emotion_dict))"
   ]
  },
  {
   "cell_type": "markdown",
   "id": "valid-convergence",
   "metadata": {},
   "source": [
    "### 5.3 ROC Curves"
   ]
  },
  {
   "cell_type": "code",
   "execution_count": 934,
   "id": "roman-content",
   "metadata": {
    "tags": []
   },
   "outputs": [],
   "source": [
    "def plot_roc_curve(y_test, y_pred, model):\n",
    "    \n",
    "    n_classes = 6\n",
    "\n",
    "    fpr = dict()\n",
    "    tpr = dict()\n",
    "    roc_auc = dict()\n",
    "    for i in range(0,6):\n",
    "        fpr[i], tpr[i], _ = roc_curve(y_test[:, i], y_pred[:, i])\n",
    "        roc_auc[i] = auc(fpr[i], tpr[i])\n",
    "\n",
    "    # Compute micro-average ROC curve and ROC area\n",
    "    fpr[\"micro\"], tpr[\"micro\"], _ = roc_curve(y_test.ravel(), y_pred.ravel())\n",
    "    roc_auc[\"micro\"] = auc(fpr[\"micro\"], tpr[\"micro\"])\n",
    "\n",
    "    # First aggregate all false positive rates\n",
    "    all_fpr = np.unique(np.concatenate([fpr[i] for i in range(0,6)]))\n",
    "\n",
    "    # Then interpolate all ROC curves at this points\n",
    "    mean_tpr = np.zeros_like(all_fpr)\n",
    "    for i in range(0,6):\n",
    "        mean_tpr += np.interp(all_fpr, fpr[i], tpr[i])\n",
    "\n",
    "    # Finally average it and compute AUC\n",
    "    mean_tpr /= n_classes\n",
    "\n",
    "    fpr[\"macro\"] = all_fpr\n",
    "    tpr[\"macro\"] = mean_tpr\n",
    "    roc_auc[\"macro\"] = auc(fpr[\"macro\"], tpr[\"macro\"])\n",
    "\n",
    "    # Plot all ROC curves\n",
    "    plt.figure(figsize=(8, 6))\n",
    "    plt.plot(fpr[\"micro\"], tpr[\"micro\"],\n",
    "             label='micro-average ROC curve (area = {0:0.2f})'\n",
    "                   ''.format(roc_auc[\"micro\"]),\n",
    "             color='deeppink', linestyle=':', linewidth=4)\n",
    "\n",
    "    plt.plot(fpr[\"macro\"], tpr[\"macro\"],\n",
    "             label='macro-average ROC curve (area = {0:0.2f})'\n",
    "                   ''.format(roc_auc[\"macro\"]),\n",
    "             color='navy', linestyle=':', linewidth=4)\n",
    "\n",
    "    #colors = itertools.cycle(['aqua', 'coral', 'gold', 'ivory', 'green', 'blue', 'cyan'])\n",
    "    colors = matplotlib.cm.get_cmap('tab10')\n",
    "    colors = colors(np.linspace(0, 1, 6))\n",
    "    for i, color in zip(range(0,6), colors):\n",
    "        plt.plot(fpr[i], tpr[i], color=color, lw=2,\n",
    "                 label='ROC curve of class {0} (area = {1:0.2f})'\n",
    "                       ''.format(classes[i], roc_auc[i]))\n",
    "\n",
    "    plt.plot([0, 1], [0, 1], 'k--', lw=2)\n",
    "    plt.xlim([0.0, 1.0])\n",
    "    plt.ylim([0.0, 1.05])\n",
    "    plt.xlabel('False Positive Rate')\n",
    "    plt.ylabel('True Positive Rate')\n",
    "    plt.title('{} Receiver Operating Curve'.format(model), fontsize= 16)\n",
    "    plt.legend(loc=\"lower right\")\n",
    "    plt.show()"
   ]
  },
  {
   "cell_type": "markdown",
   "id": "disciplinary-nigeria",
   "metadata": {},
   "source": [
    "**SVM**"
   ]
  },
  {
   "cell_type": "code",
   "execution_count": 939,
   "id": "arabic-saver",
   "metadata": {},
   "outputs": [
    {
     "data": {
      "text/plain": [
       "{'sadness': 0, 'joy': 1, 'fear': 2, 'anger': 3, 'love': 4, 'surprise': 5}"
      ]
     },
     "execution_count": 939,
     "metadata": {},
     "output_type": "execute_result"
    }
   ],
   "source": [
    "emotion_dict"
   ]
  },
  {
   "cell_type": "code",
   "execution_count": 933,
   "id": "diagnostic-incidence",
   "metadata": {},
   "outputs": [
    {
     "data": {
      "image/png": "[encoded data removed]",
      "text/plain": [
       "<Figure size 576x432 with 1 Axes>"
      ]
     },
     "metadata": {},
     "output_type": "display_data"
    }
   ],
   "source": [
    "SVM_onehot = label_binarize(labels_test, classes=[0,1,2,3,4,5])\n",
    "SVM_pred_proba = final_svc.decision_function(features_test)\n",
    "plot_roc_curve(SVM_onehot, SVM_pred_proba, 'SVM')"
   ]
  },
  {
   "cell_type": "markdown",
   "id": "operating-mechanism",
   "metadata": {},
   "source": [
    "**MLP**"
   ]
  },
  {
   "cell_type": "code",
   "execution_count": 884,
   "id": "elementary-opposition",
   "metadata": {
    "tags": []
   },
   "outputs": [
    {
     "data": {
      "image/png": "[encoded data removed]",
      "text/plain": [
       "<Figure size 576x432 with 1 Axes>"
      ]
     },
     "metadata": {},
     "output_type": "display_data"
    }
   ],
   "source": [
    "MLP_onehot = label_binarize(y_test, classes=[0,1,2,3,4,5])\n",
    "MLP_pred_proba = final_MLP.predict_proba(x_test)\n",
    "plot_roc_curve(MLP_onehot, MLP_pred_proba, 'MLP')"
   ]
  },
  {
   "cell_type": "markdown",
   "id": "functioning-peoples",
   "metadata": {},
   "source": [
    "### 5.4 Learning Curves"
   ]
  },
  {
   "cell_type": "code",
   "execution_count": 931,
   "id": "limiting-requirement",
   "metadata": {
    "tags": []
   },
   "outputs": [
    {
     "data": {
      "image/png": "[encoded data removed]",
      "text/plain": [
       "<Figure size 720x1080 with 6 Axes>"
      ]
     },
     "metadata": {},
     "output_type": "display_data"
    }
   ],
   "source": [
    "from sklearn.model_selection import learning_curve\n",
    "from sklearn.model_selection import ShuffleSplit\n",
    "\n",
    "\n",
    "def plot_learning_curve(estimator, title, X, y, axes=None, ylim=None, cv=None,\n",
    "                        n_jobs=None, train_sizes=np.linspace(.1, 1.0, 5)):\n",
    "    \"\"\"\n",
    "    Generate 3 plots: the test and training learning curve, the training\n",
    "    samples vs fit times curve, the fit times vs score curve.\n",
    "\n",
    "    Parameters\n",
    "    ----------\n",
    "    estimator : estimator instance\n",
    "        An estimator instance implementing `fit` and `predict` methods which\n",
    "        will be cloned for each validation.\n",
    "\n",
    "    title : str\n",
    "        Title for the chart.\n",
    "\n",
    "    X : array-like of shape (n_samples, n_features)\n",
    "        Training vector, where ``n_samples`` is the number of samples and\n",
    "        ``n_features`` is the number of features.\n",
    "\n",
    "    y : array-like of shape (n_samples) or (n_samples, n_features)\n",
    "        Target relative to ``X`` for classification or regression;\n",
    "        None for unsupervised learning.\n",
    "\n",
    "    axes : array-like of shape (3,), default=None\n",
    "        Axes to use for plotting the curves.\n",
    "\n",
    "    ylim : tuple of shape (2,), default=None\n",
    "        Defines minimum and maximum y-values plotted, e.g. (ymin, ymax).\n",
    "\n",
    "    cv : int, cross-validation generator or an iterable, default=None\n",
    "        Determines the cross-validation splitting strategy.\n",
    "        Possible inputs for cv are:\n",
    "\n",
    "          - None, to use the default 5-fold cross-validation,\n",
    "          - integer, to specify the number of folds.\n",
    "          - :term:`CV splitter`,\n",
    "          - An iterable yielding (train, test) splits as arrays of indices.\n",
    "\n",
    "        For integer/None inputs, if ``y`` is binary or multiclass,\n",
    "        :class:`StratifiedKFold` used. If the estimator is not a classifier\n",
    "        or if ``y`` is neither binary nor multiclass, :class:`KFold` is used.\n",
    "\n",
    "        Refer :ref:`User Guide <cross_validation>` for the various\n",
    "        cross-validators that can be used here.\n",
    "\n",
    "    n_jobs : int or None, default=None\n",
    "        Number of jobs to run in parallel.\n",
    "        ``None`` means 1 unless in a :obj:`joblib.parallel_backend` context.\n",
    "        ``-1`` means using all processors. See :term:`Glossary <n_jobs>`\n",
    "        for more details.\n",
    "\n",
    "    train_sizes : array-like of shape (n_ticks,)\n",
    "        Relative or absolute numbers of training examples that will be used to\n",
    "        generate the learning curve. If the ``dtype`` is float, it is regarded\n",
    "        as a fraction of the maximum size of the training set (that is\n",
    "        determined by the selected validation method), i.e. it has to be within\n",
    "        (0, 1]. Otherwise it is interpreted as absolute sizes of the training\n",
    "        sets. Note that for classification the number of samples usually have\n",
    "        to be big enough to contain at least one sample from each class.\n",
    "        (default: np.linspace(0.1, 1.0, 5))\n",
    "    \"\"\"\n",
    "    if axes is None:\n",
    "        _, axes = plt.subplots(1, 3, figsize=(20, 5))\n",
    "\n",
    "    axes[0].set_title(title)\n",
    "    if ylim is not None:\n",
    "        axes[0].set_ylim(*ylim)\n",
    "    axes[0].set_xlabel(\"Training examples\")\n",
    "    axes[0].set_ylabel(\"Score\")\n",
    "\n",
    "    train_sizes, train_scores, test_scores, fit_times, _ = \\\n",
    "        learning_curve(estimator, X, y, cv=cv, n_jobs=n_jobs,scoring='accuracy',\n",
    "                       train_sizes=train_sizes,\n",
    "                       return_times=True)\n",
    "    train_scores_mean = np.mean(train_scores, axis=1)\n",
    "    train_scores_std = np.std(train_scores, axis=1)\n",
    "    test_scores_mean = np.mean(test_scores, axis=1)\n",
    "    test_scores_std = np.std(test_scores, axis=1)\n",
    "    fit_times_mean = np.mean(fit_times, axis=1)\n",
    "    fit_times_std = np.std(fit_times, axis=1)\n",
    "\n",
    "    # Plot learning curve\n",
    "    axes[0].grid()\n",
    "    axes[0].fill_between(train_sizes, train_scores_mean - train_scores_std,\n",
    "                         train_scores_mean + train_scores_std, alpha=0.1,\n",
    "                         color=\"r\")\n",
    "    axes[0].fill_between(train_sizes, test_scores_mean - test_scores_std,\n",
    "                         test_scores_mean + test_scores_std, alpha=0.1,\n",
    "                         color=\"g\")\n",
    "    axes[0].plot(train_sizes, train_scores_mean, 'o-', color=\"r\",\n",
    "                 label=\"Training score\")\n",
    "    axes[0].plot(train_sizes, test_scores_mean, 'o-', color=\"g\",\n",
    "                 label=\"Cross-validation score\")\n",
    "    axes[0].legend(loc=\"best\")\n",
    "\n",
    "    # Plot n_samples vs fit_times\n",
    "    axes[1].grid()\n",
    "    axes[1].plot(train_sizes, fit_times_mean, 'o-')\n",
    "    axes[1].fill_between(train_sizes, fit_times_mean - fit_times_std,\n",
    "                         fit_times_mean + fit_times_std, alpha=0.1)\n",
    "    axes[1].set_xlabel(\"Training examples\")\n",
    "    axes[1].set_ylabel(\"fit_times\")\n",
    "    axes[1].set_title(\"Scalability of the model\")\n",
    "\n",
    "    # Plot fit_time vs score\n",
    "    axes[2].grid()\n",
    "    axes[2].plot(fit_times_mean, test_scores_mean, 'o-')\n",
    "    axes[2].fill_between(fit_times_mean, test_scores_mean - test_scores_std,\n",
    "                         test_scores_mean + test_scores_std, alpha=0.1)\n",
    "    axes[2].set_xlabel(\"fit_times\")\n",
    "    axes[2].set_ylabel(\"Score\")\n",
    "    axes[2].set_title(\"Performance of the model\")\n",
    "\n",
    "    return plt\n",
    "\n",
    "# PLOT THE LEARNING CURVES\n",
    "\n",
    "fig, axes = plt.subplots(3, 2, figsize=(10, 15))\n",
    "\n",
    "\n",
    "title = \"MLP Learning Curves\"\n",
    "# Cross validation with 100 iterations to get smoother mean test and train\n",
    "# score curves, each time with 20% data randomly selected as a validation set.\n",
    "cv = ShuffleSplit(n_splits=3, test_size=0.2, random_state=0)\n",
    "\n",
    "X = x_train\n",
    "y = y_train\n",
    "estimator = final_MLP\n",
    "plot_learning_curve(estimator, title, X, y, axes=axes[:, 0], ylim=(0.7, 1.01),\n",
    "                    cv=cv, n_jobs=4)\n",
    "\n",
    "X = features_train\n",
    "y = labels_train\n",
    "title = \"SVM Learning Curves (RBF kernel, $\\gamma=0.01$)\"\n",
    "estimator = final_svc\n",
    "plot_learning_curve(estimator, title, X, y, axes=axes[:, 1], ylim=(0.7, 1.01),\n",
    "                    cv=cv, n_jobs=4)\n",
    "\n",
    "plt.show()"
   ]
  },
  {
   "cell_type": "code",
   "execution_count": 968,
   "id": "aware-basics",
   "metadata": {},
   "outputs": [],
   "source": [
    "epochs = [i for i in range(len(final_MLP.history))]\n",
    "MLP_train_loss = final_MLP.history[:,'train_loss']\n",
    "MLP_valid_loss = final_MLP.history[:,'valid_loss']\n",
    "MLP_train_acc = final_MLP.history[:,'accuracy']\n",
    "MLP_valid_acc = final_MLP.history[:,'valid_acc']"
   ]
  },
  {
   "cell_type": "code",
   "execution_count": 971,
   "id": "biological-seventh",
   "metadata": {},
   "outputs": [
    {
     "data": {
      "image/png": "[encoded data removed]",
      "text/plain": [
       "<Figure size 1440x360 with 3 Axes>"
      ]
     },
     "metadata": {},
     "output_type": "display_data"
    }
   ],
   "source": [
    "_, axes = plt.subplots(1, 3, figsize=(20, 5))\n",
    "\n",
    "axes[0].plot(epochs,MLP_train_loss,'g-');\n",
    "axes[0].plot(epochs,MLP_valid_loss,'r-');\n",
    "axes[0].legend(['Train','Validation']);\n",
    "axes[0].set_xlabel('Epochs');\n",
    "axes[0].set_ylabel('Cross Entropy Loss');\n",
    "axes[0].set_title(\"Training and Validation Loss\");\n",
    "\n",
    "axes[1].plot(epochs,MLP_train_acc,'g-');\n",
    "axes[1].plot(epochs,MLP_valid_acc,'r-');\n",
    "axes[1].legend(['Train','Validation']);\n",
    "axes[1].set_xlabel('Epochs');\n",
    "axes[1].set_ylabel('Accuracy');\n",
    "axes[1].set_title(\"Training and Validation Accuracy\");"
   ]
  },
  {
   "cell_type": "code",
   "execution_count": 972,
   "id": "verified-learning",
   "metadata": {
    "tags": []
   },
   "outputs": [
    {
     "data": {
      "image/png": "[encoded data removed]",
      "text/plain": [
       "<Figure size 432x288 with 1 Axes>"
      ]
     },
     "metadata": {},
     "output_type": "display_data"
    }
   ],
   "source": [
    "# Create CV training and test scores for various training set sizes\n",
    "train_sizes, train_scores, test_scores = learning_curve(final_svc, \n",
    "                                                        features_train, \n",
    "                                                        labels_train,\n",
    "                                                        # Number of folds in cross-validation\n",
    "                                                        cv=3,\n",
    "                                                        # Evaluation metric\n",
    "                                                        scoring='accuracy',\n",
    "                                                        # Use all computer cores\n",
    "                                                        n_jobs=-1, \n",
    "                                                        # 50 different sizes of the training set\n",
    "                                                        train_sizes=np.linspace(0.01, 1.0, 50))\n",
    "\n",
    "# Create means and standard deviations of training set scores\n",
    "train_mean = np.mean(train_scores, axis=1)\n",
    "train_std = np.std(train_scores, axis=1)\n",
    "\n",
    "# Create means and standard deviations of test set scores\n",
    "test_mean = np.mean(test_scores, axis=1)\n",
    "test_std = np.std(test_scores, axis=1)\n",
    "\n",
    "# Draw lines\n",
    "plt.plot(train_sizes, train_mean, '--', color=\"#111111\",  label=\"Training score\")\n",
    "plt.plot(train_sizes, test_mean, color=\"#111111\", label=\"Cross-validation score\")\n",
    "\n",
    "# Draw bands\n",
    "plt.fill_between(train_sizes, train_mean - train_std, train_mean + train_std, color=\"#DDDDDD\")\n",
    "plt.fill_between(train_sizes, test_mean - test_std, test_mean + test_std, color=\"#DDDDDD\")\n",
    "\n",
    "# Create plot\n",
    "plt.title(\"Learning Curve\")\n",
    "plt.xlabel(\"Training Set Size\"), plt.ylabel(\"Accuracy Score\"), plt.legend(loc=\"best\")\n",
    "plt.tight_layout()\n",
    "plt.show()"
   ]
  },
  {
   "cell_type": "code",
   "execution_count": null,
   "id": "juvenile-nature",
   "metadata": {},
   "outputs": [],
   "source": []
  }
 ],
 "metadata": {
  "kernelspec": {
   "display_name": "Python 3",
   "language": "python",
   "name": "python3"
  },
  "language_info": {
   "codemirror_mode": {
    "name": "ipython",
    "version": 3
   },
   "file_extension": ".py",
   "mimetype": "text/x-python",
   "name": "python",
   "nbconvert_exporter": "python",
   "pygments_lexer": "ipython3",
   "version": "3.8.2"
  },
  "toc-autonumbering": false,
  "toc-showcode": false,
  "toc-showmarkdowntxt": false,
  "toc-showtags": false
 },
 "nbformat": 4,
 "nbformat_minor": 5
}
