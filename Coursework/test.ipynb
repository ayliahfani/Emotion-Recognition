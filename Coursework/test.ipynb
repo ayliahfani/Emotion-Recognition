{
 "cells": [
  {
   "cell_type": "markdown",
   "id": "acknowledged-recording",
   "metadata": {},
   "source": [
    "# Model Testing"
   ]
  },
  {
   "cell_type": "code",
   "execution_count": 7,
   "id": "empirical-founder",
   "metadata": {
    "tags": []
   },
   "outputs": [],
   "source": [
    "# import libraries\n",
    "import pickle\n",
    "\n",
    "from pprint import pprint\n",
    "\n",
    "from time import time\n",
    "\n",
    "import pandas as pd\n",
    "import numpy as np\n",
    "import scipy\n",
    "import matplotlib.pyplot as plt\n",
    "import matplotlib\n",
    "import seaborn as sns\n",
    "sns.set_style(\"whitegrid\")\n",
    "#sns.set_palette(\"hls\")\n",
    "sns.set_context(\"notebook\")\n",
    "\n",
    "import torch\n",
    "import torch.nn as nn\n",
    "import torch.nn.functional as F\n",
    "import torch.optim as optim\n",
    "\n",
    "import sklearn\n",
    "from sklearn.feature_selection import chi2\n",
    "from sklearn.experimental import enable_halving_search_cv\n",
    "from sklearn.svm import SVC\n",
    "from sklearn.metrics import confusion_matrix, plot_confusion_matrix, auc, accuracy_score, roc_curve, roc_auc_score, classification_report\n",
    "from sklearn.feature_extraction.text import TfidfVectorizer\n",
    "from sklearn.model_selection import train_test_split, RandomizedSearchCV, HalvingRandomSearchCV, GridSearchCV, cross_val_score, ShuffleSplit\n",
    "from sklearn.linear_model import LogisticRegression\n",
    "from sklearn.multiclass import OneVsRestClassifier\n",
    "from sklearn.preprocessing import label_binarize\n",
    "\n",
    "import skorch\n",
    "from skorch import NeuralNetClassifier\n",
    "from skorch.callbacks import EpochScoring, EarlyStopping, Checkpoint"
   ]
  },
  {
   "cell_type": "markdown",
   "id": "banner-stress",
   "metadata": {},
   "source": [
    "## Data Import\n",
    "___"
   ]
  },
  {
   "cell_type": "code",
   "execution_count": 37,
   "id": "secret-pipeline",
   "metadata": {
    "tags": []
   },
   "outputs": [],
   "source": [
    "# Dataframe\n",
    "path_df = \"Pickles/df.pickle\"\n",
    "with open(path_df, 'rb') as data:\n",
    "    df = pickle.load(data)\n",
    "    \n",
    "####### SVM DATA ###################### \n",
    "\n",
    "# features_train \n",
    "path_features_train = \"Pickles/features_train.pickle\"\n",
    "with open(path_features_train, 'rb') as data:\n",
    "    features_train = pickle.load(data)\n",
    "\n",
    "# labels_train\n",
    "path_labels_train = \"Pickles/labels_train.pickle\"\n",
    "with open(path_labels_train, 'rb') as data:\n",
    "    labels_train = pickle.load(data)\n",
    "\n",
    "# features_test\n",
    "path_features_test = \"Pickles/features_test.pickle\"\n",
    "with open(path_features_test, 'rb') as data:\n",
    "    features_test = pickle.load(data)\n",
    "\n",
    "# labels_test\n",
    "path_labels_test = \"Pickles/labels_test.pickle\"\n",
    "with open(path_labels_test, 'rb') as data:\n",
    "    labels_test = pickle.load(data)\n",
    "    \n",
    "\n",
    "####### MLP DATA ######################    \n",
    "# x_train \n",
    "path_x_train = \"Pickles/x_train.pickle\"\n",
    "with open(path_x_train, 'rb') as data:\n",
    "    x_train = pickle.load(data)\n",
    "\n",
    "# y_train\n",
    "path_y_train = \"Pickles/y_train.pickle\"\n",
    "with open(path_y_train, 'rb') as data:\n",
    "    y_train = pickle.load(data)\n",
    "\n",
    "# x_test\n",
    "path_x_test = \"Pickles/x_test.pickle\"\n",
    "with open(path_x_test, 'rb') as data:\n",
    "    x_test = pickle.load(data)\n",
    "\n",
    "# labels_test\n",
    "path_y_test = \"Pickles/y_test.pickle\"\n",
    "with open(path_y_test, 'rb') as data:\n",
    "    y_test = pickle.load(data)    "
   ]
  },
  {
   "cell_type": "markdown",
   "id": "impressed-montana",
   "metadata": {},
   "source": [
    "## SVM Fit & Performance\n",
    "___"
   ]
  },
  {
   "cell_type": "code",
   "execution_count": 29,
   "id": "coastal-algebra",
   "metadata": {},
   "outputs": [],
   "source": [
    "# Import the final SVM model\n",
    "final_svc = pickle.load(open('Models/final_svc.pickle', 'rb'))"
   ]
  },
  {
   "cell_type": "markdown",
   "id": "located-parish",
   "metadata": {},
   "source": [
    "#### Training Accuracy"
   ]
  },
  {
   "cell_type": "code",
   "execution_count": 30,
   "id": "pointed-surprise",
   "metadata": {},
   "outputs": [],
   "source": [
    "final_svc_pred = final_svc.predict(features_test)"
   ]
  },
  {
   "cell_type": "code",
   "execution_count": 31,
   "id": "conscious-argument",
   "metadata": {},
   "outputs": [
    {
     "name": "stdout",
     "output_type": "stream",
     "text": [
      "The training accuracy is:  0.9284375\n"
     ]
    }
   ],
   "source": [
    "svm_train_ac = accuracy_score(labels_train, final_svc.predict(features_train))\n",
    "print(\"The training accuracy is: \", svm_train_ac)"
   ]
  },
  {
   "cell_type": "markdown",
   "id": "proprietary-consolidation",
   "metadata": {},
   "source": [
    "#### Testing Accuracy"
   ]
  },
  {
   "cell_type": "code",
   "execution_count": 19,
   "id": "magnetic-premium",
   "metadata": {},
   "outputs": [
    {
     "name": "stdout",
     "output_type": "stream",
     "text": [
      "The test accuracy is:  0.882\n"
     ]
    }
   ],
   "source": [
    "svm_test_ac =  accuracy_score(labels_test, final_svc_pred)\n",
    "print(\"The test accuracy is: \", svm_test_ac)"
   ]
  },
  {
   "cell_type": "markdown",
   "id": "acquired-probe",
   "metadata": {},
   "source": [
    "#### Cross Validated Accuracy"
   ]
  },
  {
   "cell_type": "code",
   "execution_count": 20,
   "id": "closing-inventory",
   "metadata": {},
   "outputs": [
    {
     "name": "stdout",
     "output_type": "stream",
     "text": [
      "The cross validated accuracy is:  [0.88226472 0.88430527 0.88149259]\n"
     ]
    }
   ],
   "source": [
    "print('The cross validated accuracy is: ', cross_val_score(final_svc, features_train, labels_train, cv=3))"
   ]
  },
  {
   "cell_type": "markdown",
   "id": "postal-edmonton",
   "metadata": {},
   "source": [
    "#### Classification Report"
   ]
  },
  {
   "cell_type": "code",
   "execution_count": 21,
   "id": "accepted-nutrition",
   "metadata": {},
   "outputs": [
    {
     "name": "stdout",
     "output_type": "stream",
     "text": [
      "Classification report\n",
      "              precision    recall  f1-score   support\n",
      "\n",
      "     sadness       0.90      0.94      0.92      1159\n",
      "         joy       0.88      0.92      0.90      1352\n",
      "        fear       0.85      0.86      0.85       475\n",
      "       anger       0.91      0.85      0.88       542\n",
      "        love       0.83      0.70      0.76       328\n",
      "    surprise       0.81      0.67      0.73       144\n",
      "\n",
      "    accuracy                           0.88      4000\n",
      "   macro avg       0.86      0.82      0.84      4000\n",
      "weighted avg       0.88      0.88      0.88      4000\n",
      "\n"
     ]
    }
   ],
   "source": [
    "emotion_dict = {'sadness':0, 'joy':1, 'fear':2, 'anger':3, 'love':4, 'surprise':5}\n",
    "\n",
    "print(\"Classification report\")\n",
    "print(classification_report(labels_test,final_svc_pred, target_names=emotion_dict))"
   ]
  },
  {
   "cell_type": "markdown",
   "id": "designed-blocking",
   "metadata": {},
   "source": [
    "#### Confusion Matrix"
   ]
  },
  {
   "cell_type": "code",
   "execution_count": 22,
   "id": "neutral-investor",
   "metadata": {},
   "outputs": [
    {
     "data": {
      "image/png": "[encoded data removed]",
      "text/plain": [
       "<Figure size 576x432 with 2 Axes>"
      ]
     },
     "metadata": {},
     "output_type": "display_data"
    }
   ],
   "source": [
    "# create confusion matrix\n",
    "cm_svc_final = confusion_matrix(labels_test, final_svc_pred)\n",
    "\n",
    "# Normalise\n",
    "cmn_svc_final = cm_svc_final.astype('float') / cm_svc_final.sum(axis=1)[:, np.newaxis]\n",
    "\n",
    "# plot\n",
    "fig, ax = plt.subplots(figsize=(8,6))\n",
    "sns.heatmap(cmn_svc_final, \n",
    "            annot=True, \n",
    "            fmt='.2f', \n",
    "            xticklabels=emotion_dict, \n",
    "            yticklabels=emotion_dict, \n",
    "            cmap='Blues')\n",
    "plt.title('Final SVM Confusion Matrix')\n",
    "plt.ylabel('Actual')\n",
    "plt.xlabel('Predicted')\n",
    "plt.show()"
   ]
  },
  {
   "cell_type": "markdown",
   "id": "bright-forwarding",
   "metadata": {},
   "source": [
    "## MLP Fit & Performance\n",
    "___\n",
    "define the MLP network, then import trained model"
   ]
  },
  {
   "cell_type": "code",
   "execution_count": 10,
   "id": "frank-feeding",
   "metadata": {
    "tags": []
   },
   "outputs": [],
   "source": [
    "# Network parameters\n",
    "hidden_size = 100              \n",
    "input_size = 2000\n",
    "num_classes = 6                \n",
    "dropout = 0.5\n",
    "activation = F.relu\n",
    "\n",
    "# Hyperparameters\n",
    "batch_size = 256\n",
    "lr = 0.001\n",
    "epochs = 62\n",
    "optimizer = optim.Adam\n",
    "criterion = nn.CrossEntropyLoss\n",
    "\n",
    "# Define MLP Model \n",
    "class MLP(nn.Module):\n",
    "     def __init__(\n",
    "         self, \n",
    "         input_size = input_size, \n",
    "         hidden_size = hidden_size, \n",
    "         output_size = num_classes, \n",
    "         dropout = dropout,\n",
    "         activation = activation\n",
    "     ):\n",
    "            \n",
    "        super(MLP, self).__init__()\n",
    "        self.dropout = nn.Dropout(dropout)\n",
    "        self.activation = activation\n",
    "        \n",
    "        self.fc1 = nn.Linear(input_size, hidden_size)\n",
    "        self.fc2 = nn.Linear(hidden_size, hidden_size)\n",
    "        self.output = nn.Linear(hidden_size, num_classes)\n",
    " \n",
    "     def forward(self, x):\n",
    "        x = self.activation(self.fc1(x))\n",
    "        x = self.dropout(x)\n",
    "        x = self.activation(self.fc2(x))\n",
    "        x = self.dropout(x)\n",
    "        x = F.softmax(self.output(x), dim=-1)\n",
    "\n",
    "        return x"
   ]
  },
  {
   "cell_type": "code",
   "execution_count": 27,
   "id": "recovered-wallet",
   "metadata": {},
   "outputs": [],
   "source": [
    "# Import the final MLP\n",
    "final_MLP = pickle.load(open('Models/final_mlp.pickle', 'rb'))"
   ]
  },
  {
   "cell_type": "markdown",
   "id": "liquid-community",
   "metadata": {},
   "source": [
    "#### Training Accuracy"
   ]
  },
  {
   "cell_type": "code",
   "execution_count": 33,
   "id": "associate-ozone",
   "metadata": {},
   "outputs": [
    {
     "name": "stdout",
     "output_type": "stream",
     "text": [
      "The training accuracy is:  0.956625\n"
     ]
    }
   ],
   "source": [
    "# Training accuracy\n",
    "mlp_train_ac = accuracy_score(y_train, final_MLP.predict(x_train))\n",
    "\n",
    "print(\"The training accuracy is: \", mlp_train_ac)"
   ]
  },
  {
   "cell_type": "markdown",
   "id": "floppy-explorer",
   "metadata": {},
   "source": [
    "#### Test Accuracy"
   ]
  },
  {
   "cell_type": "code",
   "execution_count": 40,
   "id": "agricultural-sarah",
   "metadata": {},
   "outputs": [
    {
     "name": "stdout",
     "output_type": "stream",
     "text": [
      "The test accuracy is:  0.866\n"
     ]
    }
   ],
   "source": [
    "# Test accuracy\n",
    "mlp_pred = final_MLP.predict(x_test)\n",
    "mlp_test_ac = accuracy_score(y_test, mlp_pred)\n",
    "print(\"The test accuracy is: \", mlp_test_ac)"
   ]
  },
  {
   "cell_type": "markdown",
   "id": "accepted-recipe",
   "metadata": {},
   "source": [
    "#### Cross Validated Accuracy"
   ]
  },
  {
   "cell_type": "code",
   "execution_count": 39,
   "id": "qualified-aircraft",
   "metadata": {
    "collapsed": true,
    "jupyter": {
     "outputs_hidden": true
    },
    "tags": []
   },
   "outputs": [
    {
     "name": "stdout",
     "output_type": "stream",
     "text": [
      "  epoch    accuracy    balanced_accuracy    train_loss    valid_acc    valid_loss     dur\n",
      "-------  ----------  -------------------  ------------  -----------  ------------  ------\n",
      "      1      \u001b[36m0.3383\u001b[0m               \u001b[32m0.1667\u001b[0m        \u001b[35m1.7776\u001b[0m       \u001b[31m0.3383\u001b[0m        \u001b[94m1.7460\u001b[0m  0.5292\n",
      "      2      0.3383               0.1667        \u001b[35m1.6893\u001b[0m       0.3383        \u001b[94m1.6473\u001b[0m  0.5782\n",
      "      3      \u001b[36m0.5558\u001b[0m               \u001b[32m0.2921\u001b[0m        \u001b[35m1.6101\u001b[0m       \u001b[31m0.5558\u001b[0m        \u001b[94m1.5477\u001b[0m  0.5541\n",
      "      4      \u001b[36m0.6036\u001b[0m               \u001b[32m0.3202\u001b[0m        \u001b[35m1.4864\u001b[0m       \u001b[31m0.6036\u001b[0m        \u001b[94m1.4318\u001b[0m  0.5814\n",
      "      5      \u001b[36m0.6471\u001b[0m               \u001b[32m0.3727\u001b[0m        \u001b[35m1.4048\u001b[0m       \u001b[31m0.6471\u001b[0m        \u001b[94m1.3858\u001b[0m  0.8783\n",
      "      6      \u001b[36m0.6973\u001b[0m               \u001b[32m0.4337\u001b[0m        \u001b[35m1.3573\u001b[0m       \u001b[31m0.6973\u001b[0m        \u001b[94m1.3474\u001b[0m  0.6038\n",
      "      7      \u001b[36m0.7085\u001b[0m               \u001b[32m0.4497\u001b[0m        \u001b[35m1.3223\u001b[0m       \u001b[31m0.7085\u001b[0m        \u001b[94m1.3299\u001b[0m  0.6748\n",
      "      8      \u001b[36m0.7099\u001b[0m               \u001b[32m0.4529\u001b[0m        \u001b[35m1.3066\u001b[0m       \u001b[31m0.7099\u001b[0m        \u001b[94m1.3211\u001b[0m  0.6218\n",
      "      9      \u001b[36m0.7549\u001b[0m               \u001b[32m0.5178\u001b[0m        \u001b[35m1.2888\u001b[0m       \u001b[31m0.7549\u001b[0m        \u001b[94m1.3016\u001b[0m  0.5842\n",
      "     10      \u001b[36m0.7891\u001b[0m               \u001b[32m0.5662\u001b[0m        \u001b[35m1.2592\u001b[0m       \u001b[31m0.7891\u001b[0m        \u001b[94m1.2711\u001b[0m  0.6791\n",
      "     11      \u001b[36m0.7994\u001b[0m               \u001b[32m0.5788\u001b[0m        \u001b[35m1.2294\u001b[0m       \u001b[31m0.7994\u001b[0m        \u001b[94m1.2536\u001b[0m  0.6564\n",
      "     12      0.7980               \u001b[32m0.5804\u001b[0m        \u001b[35m1.2124\u001b[0m       0.7980        \u001b[94m1.2467\u001b[0m  0.5699\n",
      "     13      0.7957               \u001b[32m0.5805\u001b[0m        \u001b[35m1.2015\u001b[0m       0.7957        \u001b[94m1.2441\u001b[0m  0.6163\n",
      "     14      0.7966               \u001b[32m0.5834\u001b[0m        \u001b[35m1.1927\u001b[0m       0.7966        \u001b[94m1.2426\u001b[0m  0.6202\n",
      "     15      0.7971               0.5828        \u001b[35m1.1866\u001b[0m       0.7971        \u001b[94m1.2400\u001b[0m  0.5472\n",
      "     16      \u001b[36m0.8144\u001b[0m               \u001b[32m0.6165\u001b[0m        \u001b[35m1.1812\u001b[0m       \u001b[31m0.8144\u001b[0m        \u001b[94m1.2347\u001b[0m  0.5262\n",
      "     17      \u001b[36m0.8276\u001b[0m               \u001b[32m0.6453\u001b[0m        \u001b[35m1.1712\u001b[0m       \u001b[31m0.8276\u001b[0m        \u001b[94m1.2279\u001b[0m  0.5759\n",
      "     18      \u001b[36m0.8304\u001b[0m               \u001b[32m0.6543\u001b[0m        \u001b[35m1.1599\u001b[0m       \u001b[31m0.8304\u001b[0m        \u001b[94m1.2200\u001b[0m  0.5717\n",
      "     19      \u001b[36m0.8332\u001b[0m               \u001b[32m0.6621\u001b[0m        \u001b[35m1.1499\u001b[0m       \u001b[31m0.8332\u001b[0m        \u001b[94m1.2138\u001b[0m  0.9122\n",
      "     20      \u001b[36m0.8336\u001b[0m               \u001b[32m0.6669\u001b[0m        \u001b[35m1.1423\u001b[0m       \u001b[31m0.8336\u001b[0m        \u001b[94m1.2118\u001b[0m  0.6680\n",
      "     21      0.8322               \u001b[32m0.6688\u001b[0m        \u001b[35m1.1337\u001b[0m       0.8322        1.2118  0.5811\n",
      "     22      0.8327               \u001b[32m0.6699\u001b[0m        \u001b[35m1.1269\u001b[0m       0.8327        \u001b[94m1.2096\u001b[0m  0.5094\n",
      "     23      0.8313               0.6674        \u001b[35m1.1224\u001b[0m       0.8313        1.2100  0.4862\n",
      "     24      0.8332               \u001b[32m0.6716\u001b[0m        \u001b[35m1.1203\u001b[0m       0.8332        \u001b[94m1.2090\u001b[0m  0.5751\n",
      "     25      0.8322               0.6689        \u001b[35m1.1175\u001b[0m       0.8322        \u001b[94m1.2088\u001b[0m  0.5135\n",
      "     26      \u001b[36m0.8341\u001b[0m               \u001b[32m0.6720\u001b[0m        \u001b[35m1.1145\u001b[0m       \u001b[31m0.8341\u001b[0m        \u001b[94m1.2075\u001b[0m  0.4875\n",
      "     27      \u001b[36m0.8355\u001b[0m               \u001b[32m0.6762\u001b[0m        \u001b[35m1.1123\u001b[0m       \u001b[31m0.8355\u001b[0m        \u001b[94m1.2064\u001b[0m  0.4997\n",
      "     28      0.8332               0.6705        \u001b[35m1.1102\u001b[0m       0.8332        1.2087  0.4769\n",
      "     29      0.8322               0.6732        \u001b[35m1.1095\u001b[0m       0.8322        1.2082  0.4961\n",
      "     30      0.8280               0.6662        \u001b[35m1.1069\u001b[0m       0.8280        1.2093  0.6952\n",
      "     31      0.8313               0.6727        \u001b[35m1.1046\u001b[0m       0.8313        1.2075  0.4858\n",
      "     32      0.8327               0.6743        1.1058       0.8327        1.2070  0.5506\n",
      "     33      0.8346               0.6753        \u001b[35m1.1042\u001b[0m       0.8346        \u001b[94m1.2063\u001b[0m  0.5550\n",
      "     34      0.8322               0.6748        \u001b[35m1.1022\u001b[0m       0.8322        \u001b[94m1.2061\u001b[0m  0.4987\n",
      "     35      \u001b[36m0.8360\u001b[0m               \u001b[32m0.6834\u001b[0m        \u001b[35m1.1009\u001b[0m       \u001b[31m0.8360\u001b[0m        \u001b[94m1.2059\u001b[0m  0.5179\n",
      "     36      \u001b[36m0.8440\u001b[0m               \u001b[32m0.7225\u001b[0m        \u001b[35m1.0984\u001b[0m       \u001b[31m0.8440\u001b[0m        \u001b[94m1.2039\u001b[0m  0.4891\n",
      "     37      0.8430               \u001b[32m0.7361\u001b[0m        \u001b[35m1.0961\u001b[0m       0.8430        \u001b[94m1.2026\u001b[0m  0.4800\n",
      "     38      \u001b[36m0.8454\u001b[0m               \u001b[32m0.7444\u001b[0m        \u001b[35m1.0950\u001b[0m       \u001b[31m0.8454\u001b[0m        \u001b[94m1.2009\u001b[0m  0.4722\n",
      "     39      \u001b[36m0.8463\u001b[0m               \u001b[32m0.7536\u001b[0m        \u001b[35m1.0927\u001b[0m       \u001b[31m0.8463\u001b[0m        \u001b[94m1.1987\u001b[0m  0.4748\n",
      "     40      \u001b[36m0.8482\u001b[0m               \u001b[32m0.7596\u001b[0m        \u001b[35m1.0889\u001b[0m       \u001b[31m0.8482\u001b[0m        \u001b[94m1.1977\u001b[0m  0.4770\n",
      "     41      \u001b[36m0.8486\u001b[0m               \u001b[32m0.7627\u001b[0m        \u001b[35m1.0875\u001b[0m       \u001b[31m0.8486\u001b[0m        \u001b[94m1.1956\u001b[0m  0.4737\n",
      "     42      0.8486               0.7610        \u001b[35m1.0850\u001b[0m       0.8486        \u001b[94m1.1947\u001b[0m  0.4887\n",
      "     43      \u001b[36m0.8500\u001b[0m               \u001b[32m0.7718\u001b[0m        1.0850       \u001b[31m0.8500\u001b[0m        \u001b[94m1.1924\u001b[0m  0.4949\n",
      "     44      \u001b[36m0.8510\u001b[0m               0.7714        \u001b[35m1.0826\u001b[0m       \u001b[31m0.8510\u001b[0m        1.1932  0.4986\n",
      "     45      0.8505               \u001b[32m0.7786\u001b[0m        \u001b[35m1.0814\u001b[0m       0.8505        \u001b[94m1.1920\u001b[0m  0.5358\n",
      "     46      \u001b[36m0.8566\u001b[0m               \u001b[32m0.7877\u001b[0m        \u001b[35m1.0800\u001b[0m       \u001b[31m0.8566\u001b[0m        \u001b[94m1.1901\u001b[0m  0.5803\n",
      "     47      0.8566               \u001b[32m0.7909\u001b[0m        \u001b[35m1.0780\u001b[0m       0.8566        \u001b[94m1.1897\u001b[0m  0.5566\n",
      "     48      0.8561               0.7854        \u001b[35m1.0771\u001b[0m       0.8561        \u001b[94m1.1889\u001b[0m  0.5771\n",
      "     49      0.8529               0.7829        \u001b[35m1.0755\u001b[0m       0.8529        1.1890  0.5941\n",
      "     50      0.8519               0.7800        \u001b[35m1.0749\u001b[0m       0.8519        1.1907  0.5221\n",
      "     51      0.8510               0.7757        \u001b[35m1.0745\u001b[0m       0.8510        1.1909  0.5160\n",
      "     52      0.8519               0.7793        1.0748       0.8519        1.1901  0.5091\n",
      "     53      0.8561               0.7883        \u001b[35m1.0735\u001b[0m       0.8561        1.1897  0.5026\n",
      "     54      0.8552               0.7895        \u001b[35m1.0720\u001b[0m       0.8552        \u001b[94m1.1889\u001b[0m  0.4929\n",
      "     55      0.8547               0.7867        \u001b[35m1.0719\u001b[0m       0.8547        1.1894  0.4833\n",
      "     56      0.8543               0.7870        1.0722       0.8543        1.1892  0.4887\n",
      "     57      \u001b[36m0.8575\u001b[0m               0.7877        \u001b[35m1.0713\u001b[0m       \u001b[31m0.8575\u001b[0m        \u001b[94m1.1888\u001b[0m  0.4689\n",
      "     58      0.8538               0.7881        \u001b[35m1.0710\u001b[0m       0.8538        1.1894  0.4783\n",
      "     59      0.8533               0.7866        \u001b[35m1.0707\u001b[0m       0.8533        1.1899  0.4954\n",
      "     60      0.8538               0.7856        \u001b[35m1.0697\u001b[0m       0.8538        1.1891  0.6049\n",
      "     61      0.8524               0.7797        \u001b[35m1.0690\u001b[0m       0.8524        1.1897  0.6354\n",
      "     62      0.8524               0.7866        \u001b[35m1.0689\u001b[0m       0.8524        1.1904  0.5908\n",
      "  epoch    accuracy    balanced_accuracy    train_loss    valid_acc    valid_loss     dur\n",
      "-------  ----------  -------------------  ------------  -----------  ------------  ------\n",
      "      1      \u001b[36m0.3379\u001b[0m               \u001b[32m0.1667\u001b[0m        \u001b[35m1.7771\u001b[0m       \u001b[31m0.3379\u001b[0m        \u001b[94m1.7444\u001b[0m  0.6172\n",
      "      2      0.3379               0.1667        \u001b[35m1.6841\u001b[0m       0.3379        \u001b[94m1.6409\u001b[0m  0.6957\n",
      "      3      \u001b[36m0.5834\u001b[0m               \u001b[32m0.3085\u001b[0m        \u001b[35m1.5857\u001b[0m       \u001b[31m0.5834\u001b[0m        \u001b[94m1.5084\u001b[0m  0.5570\n",
      "      4      \u001b[36m0.6012\u001b[0m               \u001b[32m0.3190\u001b[0m        \u001b[35m1.4596\u001b[0m       \u001b[31m0.6012\u001b[0m        \u001b[94m1.4283\u001b[0m  0.4926\n",
      "      5      \u001b[36m0.6406\u001b[0m               \u001b[32m0.3666\u001b[0m        \u001b[35m1.3998\u001b[0m       \u001b[31m0.6406\u001b[0m        \u001b[94m1.3929\u001b[0m  0.6152\n",
      "      6      \u001b[36m0.7188\u001b[0m               \u001b[32m0.4727\u001b[0m        \u001b[35m1.3633\u001b[0m       \u001b[31m0.7188\u001b[0m        \u001b[94m1.3603\u001b[0m  0.4735\n",
      "      7      \u001b[36m0.7502\u001b[0m               \u001b[32m0.5113\u001b[0m        \u001b[35m1.3293\u001b[0m       \u001b[31m0.7502\u001b[0m        \u001b[94m1.3337\u001b[0m  0.5946\n",
      "      8      0.7291               0.4794        \u001b[35m1.3058\u001b[0m       0.7291        \u001b[94m1.3166\u001b[0m  0.5555\n",
      "      9      \u001b[36m0.7957\u001b[0m               \u001b[32m0.5738\u001b[0m        \u001b[35m1.2818\u001b[0m       \u001b[31m0.7957\u001b[0m        \u001b[94m1.2891\u001b[0m  0.8786\n",
      "     10      \u001b[36m0.8065\u001b[0m               \u001b[32m0.5900\u001b[0m        \u001b[35m1.2446\u001b[0m       \u001b[31m0.8065\u001b[0m        \u001b[94m1.2554\u001b[0m  0.5881\n",
      "     11      \u001b[36m0.8088\u001b[0m               \u001b[32m0.5951\u001b[0m        \u001b[35m1.2183\u001b[0m       \u001b[31m0.8088\u001b[0m        \u001b[94m1.2404\u001b[0m  0.6995\n",
      "     12      0.8074               \u001b[32m0.5959\u001b[0m        \u001b[35m1.2033\u001b[0m       0.8074        \u001b[94m1.2351\u001b[0m  0.5658\n",
      "     13      0.8088               0.5957        \u001b[35m1.1930\u001b[0m       0.8088        \u001b[94m1.2315\u001b[0m  0.9743\n",
      "     14      \u001b[36m0.8107\u001b[0m               \u001b[32m0.5985\u001b[0m        \u001b[35m1.1846\u001b[0m       \u001b[31m0.8107\u001b[0m        \u001b[94m1.2286\u001b[0m  0.6276\n",
      "     15      0.8093               0.5976        \u001b[35m1.1817\u001b[0m       0.8093        \u001b[94m1.2266\u001b[0m  0.6671\n",
      "     16      \u001b[36m0.8135\u001b[0m               \u001b[32m0.6035\u001b[0m        \u001b[35m1.1751\u001b[0m       \u001b[31m0.8135\u001b[0m        \u001b[94m1.2250\u001b[0m  0.6993\n",
      "     17      \u001b[36m0.8318\u001b[0m               \u001b[32m0.6422\u001b[0m        \u001b[35m1.1698\u001b[0m       \u001b[31m0.8318\u001b[0m        \u001b[94m1.2217\u001b[0m  0.5469\n",
      "     18      \u001b[36m0.8416\u001b[0m               \u001b[32m0.6627\u001b[0m        \u001b[35m1.1633\u001b[0m       \u001b[31m0.8416\u001b[0m        \u001b[94m1.2158\u001b[0m  0.5011\n",
      "     19      \u001b[36m0.8435\u001b[0m               \u001b[32m0.6737\u001b[0m        \u001b[35m1.1533\u001b[0m       \u001b[31m0.8435\u001b[0m        \u001b[94m1.2082\u001b[0m  0.4994\n",
      "     20      \u001b[36m0.8482\u001b[0m               \u001b[32m0.6842\u001b[0m        \u001b[35m1.1435\u001b[0m       \u001b[31m0.8482\u001b[0m        \u001b[94m1.2014\u001b[0m  0.4842\n",
      "     21      \u001b[36m0.8496\u001b[0m               \u001b[32m0.6886\u001b[0m        \u001b[35m1.1358\u001b[0m       \u001b[31m0.8496\u001b[0m        \u001b[94m1.1968\u001b[0m  0.4896\n",
      "     22      \u001b[36m0.8510\u001b[0m               \u001b[32m0.6906\u001b[0m        \u001b[35m1.1288\u001b[0m       \u001b[31m0.8510\u001b[0m        \u001b[94m1.1944\u001b[0m  0.4765\n",
      "     23      0.8505               \u001b[32m0.6957\u001b[0m        \u001b[35m1.1251\u001b[0m       0.8505        \u001b[94m1.1935\u001b[0m  0.4686\n",
      "     24      0.8505               0.6923        \u001b[35m1.1192\u001b[0m       0.8505        \u001b[94m1.1919\u001b[0m  0.4723\n",
      "     25      \u001b[36m0.8524\u001b[0m               0.6951        \u001b[35m1.1158\u001b[0m       \u001b[31m0.8524\u001b[0m        \u001b[94m1.1918\u001b[0m  0.4848\n",
      "     26      0.8491               \u001b[32m0.7002\u001b[0m        \u001b[35m1.1137\u001b[0m       0.8491        \u001b[94m1.1917\u001b[0m  0.5732\n",
      "     27      0.8491               0.6950        \u001b[35m1.1115\u001b[0m       0.8491        1.1920  0.4841\n",
      "     28      0.8496               0.6983        \u001b[35m1.1089\u001b[0m       0.8496        \u001b[94m1.1913\u001b[0m  0.4803\n",
      "     29      0.8463               0.6933        \u001b[35m1.1070\u001b[0m       0.8463        1.1922  0.4925\n",
      "     30      0.8500               0.6976        \u001b[35m1.1060\u001b[0m       0.8500        \u001b[94m1.1905\u001b[0m  0.4883\n",
      "     31      0.8491               0.6979        1.1064       0.8491        1.1907  0.4846\n",
      "     32      0.8472               0.6937        \u001b[35m1.1036\u001b[0m       0.8472        1.1907  0.4905\n",
      "     33      0.8496               0.6999        \u001b[35m1.1016\u001b[0m       0.8496        1.1908  0.4869\n",
      "     34      0.8486               0.6971        \u001b[35m1.1006\u001b[0m       0.8486        \u001b[94m1.1904\u001b[0m  0.4796\n",
      "     35      0.8510               \u001b[32m0.7069\u001b[0m        \u001b[35m1.0995\u001b[0m       0.8510        \u001b[94m1.1889\u001b[0m  0.4757\n",
      "     36      \u001b[36m0.8557\u001b[0m               \u001b[32m0.7290\u001b[0m        \u001b[35m1.0961\u001b[0m       \u001b[31m0.8557\u001b[0m        \u001b[94m1.1871\u001b[0m  0.4922\n",
      "     37      \u001b[36m0.8594\u001b[0m               \u001b[32m0.7512\u001b[0m        \u001b[35m1.0946\u001b[0m       \u001b[31m0.8594\u001b[0m        \u001b[94m1.1848\u001b[0m  0.4855\n",
      "     38      \u001b[36m0.8613\u001b[0m               \u001b[32m0.7641\u001b[0m        \u001b[35m1.0921\u001b[0m       \u001b[31m0.8613\u001b[0m        \u001b[94m1.1827\u001b[0m  0.4686\n",
      "     39      \u001b[36m0.8688\u001b[0m               \u001b[32m0.7920\u001b[0m        \u001b[35m1.0891\u001b[0m       \u001b[31m0.8688\u001b[0m        \u001b[94m1.1797\u001b[0m  0.4707\n",
      "     40      \u001b[36m0.8697\u001b[0m               \u001b[32m0.8007\u001b[0m        \u001b[35m1.0865\u001b[0m       \u001b[31m0.8697\u001b[0m        \u001b[94m1.1767\u001b[0m  0.5605\n",
      "     41      0.8693               \u001b[32m0.8011\u001b[0m        \u001b[35m1.0841\u001b[0m       0.8693        \u001b[94m1.1759\u001b[0m  0.4840\n",
      "     42      \u001b[36m0.8725\u001b[0m               \u001b[32m0.8116\u001b[0m        \u001b[35m1.0821\u001b[0m       \u001b[31m0.8725\u001b[0m        \u001b[94m1.1738\u001b[0m  0.4727\n",
      "     43      \u001b[36m0.8735\u001b[0m               \u001b[32m0.8126\u001b[0m        \u001b[35m1.0798\u001b[0m       \u001b[31m0.8735\u001b[0m        \u001b[94m1.1731\u001b[0m  0.4850\n",
      "     44      \u001b[36m0.8739\u001b[0m               \u001b[32m0.8147\u001b[0m        \u001b[35m1.0778\u001b[0m       \u001b[31m0.8739\u001b[0m        \u001b[94m1.1725\u001b[0m  0.4831\n",
      "     45      0.8735               0.8123        \u001b[35m1.0769\u001b[0m       0.8735        \u001b[94m1.1718\u001b[0m  0.4927\n",
      "     46      0.8730               0.8092        \u001b[35m1.0752\u001b[0m       0.8730        1.1719  0.4831\n",
      "     47      0.8735               0.8142        1.0756       0.8735        1.1724  0.4835\n",
      "     48      \u001b[36m0.8744\u001b[0m               \u001b[32m0.8152\u001b[0m        \u001b[35m1.0732\u001b[0m       \u001b[31m0.8744\u001b[0m        1.1727  0.4858\n",
      "     49      \u001b[36m0.8749\u001b[0m               0.8148        1.0738       \u001b[31m0.8749\u001b[0m        1.1719  0.4847\n",
      "     50      0.8730               0.8116        \u001b[35m1.0728\u001b[0m       0.8730        \u001b[94m1.1714\u001b[0m  0.4862\n",
      "     51      0.8730               0.8113        \u001b[35m1.0716\u001b[0m       0.8730        \u001b[94m1.1714\u001b[0m  0.5343\n",
      "     52      0.8711               0.8078        \u001b[35m1.0696\u001b[0m       0.8711        1.1721  0.5013\n",
      "     53      0.8716               0.8105        1.0701       0.8716        \u001b[94m1.1712\u001b[0m  0.5101\n",
      "     54      0.8725               0.8126        \u001b[35m1.0694\u001b[0m       0.8725        \u001b[94m1.1712\u001b[0m  0.5507\n",
      "     55      0.8735               0.8119        \u001b[35m1.0691\u001b[0m       0.8735        1.1714  0.4818\n",
      "     56      0.8711               0.8110        \u001b[35m1.0681\u001b[0m       0.8711        1.1721  0.4872\n",
      "     57      0.8725               0.8134        1.0687       0.8725        1.1720  0.5101\n",
      "     58      0.8744               \u001b[32m0.8178\u001b[0m        \u001b[35m1.0677\u001b[0m       0.8744        \u001b[94m1.1703\u001b[0m  0.4900\n",
      "     59      0.8721               0.8114        1.0677       0.8721        1.1711  0.4772\n",
      "     60      0.8735               0.8147        \u001b[35m1.0667\u001b[0m       0.8735        \u001b[94m1.1703\u001b[0m  0.5623\n",
      "     61      0.8725               0.8130        1.0671       0.8725        \u001b[94m1.1700\u001b[0m  0.4880\n",
      "     62      0.8739               0.8149        1.0676       0.8739        \u001b[94m1.1694\u001b[0m  0.5240\n",
      "  epoch    accuracy    balanced_accuracy    train_loss    valid_acc    valid_loss     dur\n",
      "-------  ----------  -------------------  ------------  -----------  ------------  ------\n",
      "      1      \u001b[36m0.3379\u001b[0m               \u001b[32m0.1667\u001b[0m        \u001b[35m1.7718\u001b[0m       \u001b[31m0.3379\u001b[0m        \u001b[94m1.7361\u001b[0m  0.4874\n",
      "      2      \u001b[36m0.3383\u001b[0m               \u001b[32m0.1669\u001b[0m        \u001b[35m1.6803\u001b[0m       \u001b[31m0.3383\u001b[0m        \u001b[94m1.6417\u001b[0m  0.4837\n",
      "      3      \u001b[36m0.5904\u001b[0m               \u001b[32m0.3129\u001b[0m        \u001b[35m1.5833\u001b[0m       \u001b[31m0.5904\u001b[0m        \u001b[94m1.4996\u001b[0m  0.5000\n",
      "      4      \u001b[36m0.6017\u001b[0m               \u001b[32m0.3191\u001b[0m        \u001b[35m1.4518\u001b[0m       \u001b[31m0.6017\u001b[0m        \u001b[94m1.4215\u001b[0m  0.4784\n",
      "      5      \u001b[36m0.6256\u001b[0m               \u001b[32m0.3468\u001b[0m        \u001b[35m1.3945\u001b[0m       \u001b[31m0.6256\u001b[0m        \u001b[94m1.3901\u001b[0m  0.4959\n",
      "      6      \u001b[36m0.6926\u001b[0m               \u001b[32m0.4279\u001b[0m        \u001b[35m1.3643\u001b[0m       \u001b[31m0.6926\u001b[0m        \u001b[94m1.3612\u001b[0m  0.5509\n",
      "      7      \u001b[36m0.7104\u001b[0m               \u001b[32m0.4523\u001b[0m        \u001b[35m1.3305\u001b[0m       \u001b[31m0.7104\u001b[0m        \u001b[94m1.3319\u001b[0m  0.4996\n",
      "      8      \u001b[36m0.7179\u001b[0m               \u001b[32m0.4611\u001b[0m        \u001b[35m1.3063\u001b[0m       \u001b[31m0.7179\u001b[0m        \u001b[94m1.3203\u001b[0m  0.4617\n",
      "      9      0.7165               \u001b[32m0.4617\u001b[0m        \u001b[35m1.2936\u001b[0m       0.7165        \u001b[94m1.3125\u001b[0m  0.4602\n",
      "     10      0.7170               \u001b[32m0.4626\u001b[0m        \u001b[35m1.2818\u001b[0m       0.7170        \u001b[94m1.3048\u001b[0m  0.4720\n",
      "     11      \u001b[36m0.7259\u001b[0m               \u001b[32m0.4771\u001b[0m        \u001b[35m1.2692\u001b[0m       \u001b[31m0.7259\u001b[0m        \u001b[94m1.2936\u001b[0m  0.4659\n",
      "     12      \u001b[36m0.7933\u001b[0m               \u001b[32m0.5708\u001b[0m        \u001b[35m1.2512\u001b[0m       \u001b[31m0.7933\u001b[0m        \u001b[94m1.2759\u001b[0m  0.4728\n",
      "     13      \u001b[36m0.8069\u001b[0m               \u001b[32m0.5914\u001b[0m        \u001b[35m1.2305\u001b[0m       \u001b[31m0.8069\u001b[0m        \u001b[94m1.2565\u001b[0m  0.4588\n",
      "     14      0.8060               0.5907        \u001b[35m1.2126\u001b[0m       0.8060        \u001b[94m1.2450\u001b[0m  0.4666\n",
      "     15      \u001b[36m0.8097\u001b[0m               \u001b[32m0.5949\u001b[0m        \u001b[35m1.1998\u001b[0m       \u001b[31m0.8097\u001b[0m        \u001b[94m1.2376\u001b[0m  0.4723\n",
      "     16      0.8079               0.5942        \u001b[35m1.1924\u001b[0m       0.8079        \u001b[94m1.2352\u001b[0m  0.4711\n",
      "     17      0.8055               0.5932        \u001b[35m1.1860\u001b[0m       0.8055        \u001b[94m1.2342\u001b[0m  0.5096\n",
      "     18      0.8079               \u001b[32m0.6005\u001b[0m        \u001b[35m1.1780\u001b[0m       0.8079        \u001b[94m1.2303\u001b[0m  0.4816\n",
      "     19      \u001b[36m0.8355\u001b[0m               \u001b[32m0.6549\u001b[0m        \u001b[35m1.1696\u001b[0m       \u001b[31m0.8355\u001b[0m        \u001b[94m1.2233\u001b[0m  0.4738\n",
      "     20      \u001b[36m0.8416\u001b[0m               \u001b[32m0.6753\u001b[0m        \u001b[35m1.1585\u001b[0m       \u001b[31m0.8416\u001b[0m        \u001b[94m1.2156\u001b[0m  0.5415\n",
      "     21      \u001b[36m0.8435\u001b[0m               \u001b[32m0.6834\u001b[0m        \u001b[35m1.1467\u001b[0m       \u001b[31m0.8435\u001b[0m        \u001b[94m1.2086\u001b[0m  0.4866\n",
      "     22      \u001b[36m0.8440\u001b[0m               \u001b[32m0.6883\u001b[0m        \u001b[35m1.1378\u001b[0m       \u001b[31m0.8440\u001b[0m        \u001b[94m1.2054\u001b[0m  0.4734\n",
      "     23      \u001b[36m0.8510\u001b[0m               \u001b[32m0.6943\u001b[0m        \u001b[35m1.1317\u001b[0m       \u001b[31m0.8510\u001b[0m        \u001b[94m1.2001\u001b[0m  0.4763\n",
      "     24      0.8510               \u001b[32m0.6944\u001b[0m        \u001b[35m1.1264\u001b[0m       0.8510        \u001b[94m1.1967\u001b[0m  0.4619\n",
      "     25      0.8491               0.6915        \u001b[35m1.1210\u001b[0m       0.8491        \u001b[94m1.1965\u001b[0m  0.4631\n",
      "     26      0.8510               \u001b[32m0.6967\u001b[0m        \u001b[35m1.1199\u001b[0m       0.8510        1.1965  0.4918\n",
      "     27      0.8482               0.6963        \u001b[35m1.1169\u001b[0m       0.8482        \u001b[94m1.1953\u001b[0m  0.5013\n",
      "     28      0.8486               \u001b[32m0.6969\u001b[0m        \u001b[35m1.1145\u001b[0m       0.8486        \u001b[94m1.1945\u001b[0m  0.5185\n",
      "     29      0.8472               0.6950        \u001b[35m1.1107\u001b[0m       0.8472        1.1946  0.6274\n",
      "     30      0.8500               0.6950        1.1111       0.8500        \u001b[94m1.1933\u001b[0m  0.5572\n",
      "     31      0.8491               \u001b[32m0.6975\u001b[0m        \u001b[35m1.1081\u001b[0m       0.8491        1.1933  0.5834\n",
      "     32      0.8463               0.6948        \u001b[35m1.1062\u001b[0m       0.8463        \u001b[94m1.1929\u001b[0m  0.5277\n",
      "     33      0.8477               0.6939        \u001b[35m1.1061\u001b[0m       0.8477        1.1937  0.6377\n",
      "     34      0.8505               \u001b[32m0.6988\u001b[0m        \u001b[35m1.1053\u001b[0m       0.8505        \u001b[94m1.1928\u001b[0m  0.5374\n",
      "     35      0.8500               0.6977        \u001b[35m1.1043\u001b[0m       0.8500        \u001b[94m1.1925\u001b[0m  0.5074\n",
      "     36      0.8510               \u001b[32m0.6999\u001b[0m        \u001b[35m1.1023\u001b[0m       0.8510        1.1929  0.5577\n",
      "     37      0.8510               0.6988        1.1028       0.8510        \u001b[94m1.1924\u001b[0m  0.5946\n",
      "     38      0.8486               0.6980        1.1024       0.8486        1.1940  0.7033\n",
      "     39      0.8486               0.6972        \u001b[35m1.1010\u001b[0m       0.8486        1.1926  0.5712\n",
      "     40      0.8510               0.6985        \u001b[35m1.0993\u001b[0m       0.8510        \u001b[94m1.1905\u001b[0m  0.5969\n",
      "     41      0.8510               0.6995        \u001b[35m1.0982\u001b[0m       0.8510        \u001b[94m1.1895\u001b[0m  0.5629\n",
      "     42      \u001b[36m0.8590\u001b[0m               \u001b[32m0.7406\u001b[0m        \u001b[35m1.0966\u001b[0m       \u001b[31m0.8590\u001b[0m        \u001b[94m1.1880\u001b[0m  0.4955\n",
      "     43      \u001b[36m0.8650\u001b[0m               \u001b[32m0.7714\u001b[0m        \u001b[35m1.0942\u001b[0m       \u001b[31m0.8650\u001b[0m        \u001b[94m1.1862\u001b[0m  0.5006\n",
      "     44      \u001b[36m0.8674\u001b[0m               \u001b[32m0.7846\u001b[0m        \u001b[35m1.0914\u001b[0m       \u001b[31m0.8674\u001b[0m        \u001b[94m1.1845\u001b[0m  0.5641\n",
      "     45      0.8669               \u001b[32m0.7906\u001b[0m        \u001b[35m1.0894\u001b[0m       0.8669        \u001b[94m1.1838\u001b[0m  0.5528\n",
      "     46      0.8650               0.7872        \u001b[35m1.0863\u001b[0m       0.8650        \u001b[94m1.1821\u001b[0m  0.6874\n",
      "     47      0.8599               0.7813        \u001b[35m1.0854\u001b[0m       0.8599        1.1839  0.5250\n",
      "     48      0.8622               0.7878        \u001b[35m1.0827\u001b[0m       0.8622        1.1830  0.6170\n",
      "     49      0.8641               \u001b[32m0.7909\u001b[0m        \u001b[35m1.0806\u001b[0m       0.8641        \u001b[94m1.1811\u001b[0m  0.4951\n",
      "     50      0.8650               \u001b[32m0.7963\u001b[0m        1.0807       0.8650        \u001b[94m1.1807\u001b[0m  0.6538\n",
      "     51      0.8660               \u001b[32m0.7998\u001b[0m        \u001b[35m1.0784\u001b[0m       0.8660        1.1808  0.5874\n",
      "     52      0.8641               0.7977        \u001b[35m1.0780\u001b[0m       0.8641        \u001b[94m1.1795\u001b[0m  0.6109\n",
      "     53      0.8655               \u001b[32m0.8006\u001b[0m        \u001b[35m1.0765\u001b[0m       0.8655        \u001b[94m1.1788\u001b[0m  0.5435\n",
      "     54      0.8613               0.7956        \u001b[35m1.0758\u001b[0m       0.8613        1.1794  0.5785\n",
      "     55      0.8622               0.7981        \u001b[35m1.0741\u001b[0m       0.8622        1.1800  0.5658\n",
      "     56      0.8622               0.7936        \u001b[35m1.0729\u001b[0m       0.8622        1.1794  0.5472\n",
      "     57      0.8674               \u001b[32m0.8037\u001b[0m        \u001b[35m1.0728\u001b[0m       0.8674        1.1794  0.5436\n",
      "     58      0.8636               0.7987        \u001b[35m1.0721\u001b[0m       0.8636        1.1788  0.5794\n",
      "     59      0.8655               0.8004        1.0728       0.8655        1.1791  0.5669\n",
      "     60      0.8636               0.8009        \u001b[35m1.0715\u001b[0m       0.8636        1.1794  0.5825\n",
      "     61      0.8632               0.8023        \u001b[35m1.0713\u001b[0m       0.8632        1.1800  0.5488\n",
      "     62      0.8613               0.8001        \u001b[35m1.0700\u001b[0m       0.8613        1.1805  0.5800\n",
      "The cross validated accuracy is:  [0.85976753 0.86049128 0.85880368]\n"
     ]
    }
   ],
   "source": [
    "# cross validated accuracy\n",
    "print('The cross validated accuracy is: ', cross_val_score(final_MLP, x_train, y_train, cv=3));"
   ]
  },
  {
   "cell_type": "markdown",
   "id": "brown-logic",
   "metadata": {},
   "source": [
    "#### Classification Report"
   ]
  },
  {
   "cell_type": "code",
   "execution_count": 41,
   "id": "outstanding-commonwealth",
   "metadata": {},
   "outputs": [
    {
     "name": "stdout",
     "output_type": "stream",
     "text": [
      "Classification report\n",
      "              precision    recall  f1-score   support\n",
      "\n",
      "     sadness       0.88      0.93      0.90      1159\n",
      "         joy       0.88      0.91      0.90      1352\n",
      "        fear       0.83      0.84      0.84       475\n",
      "       anger       0.88      0.84      0.86       542\n",
      "        love       0.78      0.68      0.73       328\n",
      "    surprise       0.82      0.58      0.68       144\n",
      "\n",
      "    accuracy                           0.87      4000\n",
      "   macro avg       0.84      0.80      0.82      4000\n",
      "weighted avg       0.86      0.87      0.86      4000\n",
      "\n"
     ]
    }
   ],
   "source": [
    "print(\"Classification report\")\n",
    "print(classification_report(y_test, mlp_pred, target_names=emotion_dict))"
   ]
  },
  {
   "cell_type": "markdown",
   "id": "cheap-pasta",
   "metadata": {},
   "source": [
    "#### Confusion Matrix"
   ]
  },
  {
   "cell_type": "code",
   "execution_count": 43,
   "id": "incredible-cookie",
   "metadata": {},
   "outputs": [
    {
     "data": {
      "image/png": "[encoded data removed]",
      "text/plain": [
       "<Figure size 576x432 with 2 Axes>"
      ]
     },
     "metadata": {},
     "output_type": "display_data"
    }
   ],
   "source": [
    "# create confusion matrix\n",
    "cm_MLP = confusion_matrix(y_test, mlp_pred)\n",
    "\n",
    "# Normalise\n",
    "cmn_MLP= cm_MLP.astype('float') / cm_MLP.sum(axis=1)[:, np.newaxis]\n",
    "\n",
    "# plot\n",
    "fig, ax = plt.subplots(figsize=(8,6))\n",
    "sns.heatmap(cmn_MLP, \n",
    "            annot=True, \n",
    "            fmt='.2f', \n",
    "            xticklabels=emotion_dict, \n",
    "            yticklabels=emotion_dict, \n",
    "            cmap='Blues')\n",
    "plt.title('Final MLP Confusion Matrix', fontsize= 16)\n",
    "plt.ylabel('Actual')\n",
    "plt.xlabel('Predicted')\n",
    "plt.show()"
   ]
  }
 ],
 "metadata": {
  "kernelspec": {
   "display_name": "Python 3",
   "language": "python",
   "name": "python3"
  },
  "language_info": {
   "codemirror_mode": {
    "name": "ipython",
    "version": 3
   },
   "file_extension": ".py",
   "mimetype": "text/x-python",
   "name": "python",
   "nbconvert_exporter": "python",
   "pygments_lexer": "ipython3",
   "version": "3.8.2"
  }
 },
 "nbformat": 4,
 "nbformat_minor": 5
}
