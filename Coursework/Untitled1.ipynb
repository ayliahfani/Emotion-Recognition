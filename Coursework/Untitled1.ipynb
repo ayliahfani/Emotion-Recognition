{
 "cells": [
  {
   "cell_type": "code",
   "execution_count": 1,
   "id": "awful-theta",
   "metadata": {},
   "outputs": [],
   "source": [
    "import numpy as np # linear algebra\n",
    "import pandas as pd # data processing, CSV file I/O (e.g. pd.read_csv)\n",
    "\n"
   ]
  },
  {
   "cell_type": "code",
   "execution_count": 2,
   "id": "prospective-spine",
   "metadata": {},
   "outputs": [],
   "source": [
    "test = pd.read_csv('Data/Emotions/test.txt',sep=\";\",header=None)\n",
    "train = pd.read_csv('Data/Emotions/train.txt',sep=\";\",header=None)\n",
    "val = pd.read_csv('Data/Emotions/val.txt',sep=\";\",header=None)"
   ]
  },
  {
   "cell_type": "code",
   "execution_count": 7,
   "id": "indian-lobby",
   "metadata": {},
   "outputs": [
    {
     "name": "stdout",
     "output_type": "stream",
     "text": [
      "(16000,) | (16000,)\n",
      "(2000,) | (2000,)\n",
      "(2000,) | (2000,)\n"
     ]
    }
   ],
   "source": [
    "# Splitting X and Y\n",
    "x_train = train.iloc[:,0] \n",
    "y_train = train.iloc[:,1] \n",
    "\n",
    "x_test = test.iloc[:,0] \n",
    "y_test = test.iloc[:,1] \n",
    "\n",
    "x_val = test.iloc[:,0] \n",
    "y_val = test.iloc[:,1] \n",
    "\n",
    "x_train,y_train = np.array(x_train),np.array(y_train)\n",
    "x_test,y_test = np.array(x_test),np.array(y_test)\n",
    "x_val,y_val = np.array(x_val),np.array(y_val)\n",
    "\n",
    "print(x_train.shape,\"|\",y_train.shape)\n",
    "print(x_test.shape,\"|\",y_test.shape)\n",
    "print(x_val.shape,\"|\",y_val.shape)"
   ]
  },
  {
   "cell_type": "code",
   "execution_count": 14,
   "id": "intermediate-italy",
   "metadata": {},
   "outputs": [
    {
     "name": "stdout",
     "output_type": "stream",
     "text": [
      "joy         5362\n",
      "sadness     4666\n",
      "anger       2159\n",
      "fear        1937\n",
      "love        1304\n",
      "surprise     572\n",
      "Name: 1, dtype: int64\n",
      "[1 1 2 ... 0 2 1]\n",
      "[1 1 2 4 2 1 5 3 0 4]\n"
     ]
    }
   ],
   "source": [
    "print(train.iloc[:,1].value_counts())\n",
    "\n",
    "int_y_train = []\n",
    "int_y_test = []\n",
    "int_y_val = []\n",
    "\n",
    "for l in y_train:\n",
    "    \n",
    "    if l == \"joy\":        \n",
    "        int_y_train.append(0)\n",
    "        \n",
    "    if l == \"sadness\":       \n",
    "        int_y_train.append(1)            \n",
    "    if l == \"anger\":      \n",
    "        int_y_train.append(2)      \n",
    "    if l == \"fear\":\n",
    "        int_y_train.append(3)\n",
    "    if l == \"love\":\n",
    "        int_y_train.append(4)\n",
    "    if l == \"surprise\":\n",
    "        int_y_train.append(5)\n",
    "        \n",
    "        \n",
    "for l in y_test:\n",
    "    \n",
    "    if l == \"joy\":        \n",
    "        int_y_test.append(0)\n",
    "        \n",
    "    if l == \"sadness\":       \n",
    "        int_y_test.append(1)            \n",
    "    if l == \"anger\":      \n",
    "        int_y_test.append(2)      \n",
    "    if l == \"fear\":\n",
    "        int_y_test.append(3)\n",
    "    if l == \"love\":\n",
    "        int_y_test.append(4)\n",
    "    if l == \"surprise\":\n",
    "        int_y_test.append(5)\n",
    "        \n",
    "for l in y_val:\n",
    "    \n",
    "    if l == \"joy\":        \n",
    "        int_y_val.append(0)\n",
    "        \n",
    "    if l == \"sadness\":       \n",
    "        int_y_val.append(1)            \n",
    "    if l == \"anger\":      \n",
    "        int_y_val.append(2)      \n",
    "    if l == \"fear\":\n",
    "        int_y_val.append(3)\n",
    "    if l == \"love\":\n",
    "        int_y_val.append(4)\n",
    "    if l == \"surprise\":\n",
    "        int_y_val.append(5)\n",
    "        \n",
    "\n",
    "\n",
    "        \n",
    "int_y_train,int_y_test,int_y_val = np.array(int_y_train),np.array(int_y_test),np.array(int_y_val)\n",
    "from sklearn import preprocessing\n",
    "#from keras.utils import np_utils\n",
    "\n",
    "le = preprocessing.LabelEncoder()\n",
    "le.fit(int_y_train)\n",
    "\n",
    "encoded_y_train = le.transform(int_y_train)\n",
    "encoded_y_test = le.transform(int_y_test)\n",
    "encoded_y_val = le.transform(int_y_val)\n",
    "\n",
    "#encoded_y_train = np_utils.to_categorical(encoded_y_train)\n",
    "#encoded_y_test = np_utils.to_categorical(encoded_y_test)\n",
    "#encoded_y_val = np_utils.to_categorical(encoded_y_val)\n",
    "\n",
    "print(encoded_y_train)\n",
    "\n",
    "print(int_y_train[:10])"
   ]
  },
  {
   "cell_type": "code",
   "execution_count": 12,
   "id": "processed-recipe",
   "metadata": {},
   "outputs": [
    {
     "data": {
      "text/plain": [
       "array([1, 1, 1, ..., 0, 0, 3])"
      ]
     },
     "execution_count": 12,
     "metadata": {},
     "output_type": "execute_result"
    }
   ],
   "source": [
    "encoded_y_val"
   ]
  },
  {
   "cell_type": "code",
   "execution_count": null,
   "id": "horizontal-object",
   "metadata": {},
   "outputs": [],
   "source": []
  }
 ],
 "metadata": {
  "kernelspec": {
   "display_name": "Python 3",
   "language": "python",
   "name": "python3"
  },
  "language_info": {
   "codemirror_mode": {
    "name": "ipython",
    "version": 3
   },
   "file_extension": ".py",
   "mimetype": "text/x-python",
   "name": "python",
   "nbconvert_exporter": "python",
   "pygments_lexer": "ipython3",
   "version": "3.8.2"
  }
 },
 "nbformat": 4,
 "nbformat_minor": 5
}
